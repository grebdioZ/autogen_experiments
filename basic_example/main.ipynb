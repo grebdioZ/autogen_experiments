{
 "cells": [
  {
   "cell_type": "markdown",
   "id": "842d4017",
   "metadata": {},
   "source": [
    "# Basic Multi-Agent Example with AutoGen\n",
    "\n",
    "This notebook implements a simple multi-agent system using AutoGen. "
   ]
  },
  {
   "cell_type": "code",
   "execution_count": 1,
   "id": "9d8054ba",
   "metadata": {},
   "outputs": [],
   "source": [
    "import os, nest_asyncio\n",
    "nest_asyncio.apply()\n",
    "import asyncio\n",
    "import timeit\n",
    "from autogen_agentchat.agents import AssistantAgent, UserProxyAgent\n",
    "from autogen_agentchat.teams import RoundRobinGroupChat\n",
    "from autogen_agentchat.conditions import MaxMessageTermination\n",
    "from autogen_agentchat.tools import TeamTool\n",
    "import sys\n",
    "\n",
    "sys.path.append(os.path.abspath(os.path.join(os.path.curdir, \"..\")))\n",
    "\n",
    "from tools import (\n",
    "    create_chat_completion_client,\n",
    "    current_datetime_utc_tool,\n",
    "    adjust_properties_for_fixed_response,\n",
    "    get_tavily_search_tool,\n",
    "    get_attributes,\n",
    "    load_model_config,\n",
    ")"
   ]
  },
  {
   "cell_type": "markdown",
   "id": "38c88307",
   "metadata": {},
   "source": [
    "#### Note: You need a tavily API key to use the web search tool!"
   ]
  },
  {
   "cell_type": "code",
   "execution_count": 2,
   "id": "3b6c1917",
   "metadata": {},
   "outputs": [
    {
     "name": "stdout",
     "output_type": "stream",
     "text": [
      "Using model: gpt-4.1-nano type: openai\n"
     ]
    }
   ],
   "source": [
    "model = load_model_config() \n",
    "\n",
    "# Check if web search is possible (i.e., if API key is set)\n",
    "ALLOW_WEB_SEARCH = os.getenv(\"TAVILY_API_KEY\", False)"
   ]
  },
  {
   "cell_type": "code",
   "execution_count": 3,
   "id": "07a55ad6",
   "metadata": {},
   "outputs": [],
   "source": [
    "# Prepare tools\n",
    "basic_tools = {current_datetime_utc_tool}\n",
    "web_search_tools = set()\n",
    "if ALLOW_WEB_SEARCH:\n",
    "    # web_search_tool = [ await get_rag_web_browser_tool() ]\n",
    "    web_search_tools = { await get_tavily_search_tool() }"
   ]
  },
  {
   "cell_type": "markdown",
   "id": "5375bd1f",
   "metadata": {},
   "source": [
    "Set the joke's topic\n",
    "----------------------"
   ]
  },
  {
   "cell_type": "code",
   "execution_count": 4,
   "id": "1be891ac",
   "metadata": {},
   "outputs": [],
   "source": [
    "topic = \"Animals\""
   ]
  },
  {
   "cell_type": "markdown",
   "id": "1d2fdaa3",
   "metadata": {},
   "source": [
    "Select Model and Agent Configuration\n",
    "-----------------------------"
   ]
  },
  {
   "cell_type": "code",
   "execution_count": null,
   "id": "cce96c64",
   "metadata": {},
   "outputs": [],
   "source": [
    "agentConfig = {\n",
    "    \"Author\": dict(\n",
    "        system_message=\"Write a SHORT joke above the provided topic.\"\n",
    "    ),\n",
    "    \"SmartassEditor\": dict(\n",
    "        system_message=\"Analyze the joke, explain why it is funny or not funny, and make it funnier without making it longer.\",\n",
    "        tools=web_search_tools,\n",
    "    ),\n",
    "}\n",
    "\n",
    "# For testing, we can fix an agent's response to a known answer\n",
    "#adjust_properties_for_fixed_response(agentConfig[\"Author\"], \"What do you call a magic dog? A Labracadabrador.\")"
   ]
  },
  {
   "cell_type": "code",
   "execution_count": 6,
   "id": "b1e278d3",
   "metadata": {},
   "outputs": [],
   "source": [
    "# Now create model client\n",
    "model_client = create_chat_completion_client(model)\n",
    "\n",
    "agents = []  # start with a user proxy for the researcher\n",
    "\n",
    "for agent_type, props in agentConfig.items():\n",
    "    agents.append(\n",
    "        AssistantAgent(\n",
    "            name=agent_type,\n",
    "            **props,\n",
    "            model_client=model_client,\n",
    "        )\n",
    "    )"
   ]
  },
  {
   "cell_type": "code",
   "execution_count": 7,
   "id": "bcf867c9",
   "metadata": {},
   "outputs": [],
   "source": [
    "# Set up termination conditions\n",
    "termination = MaxMessageTermination(max_messages=10) #len(agents))\n",
    "\n",
    "# Create the team\n",
    "team = RoundRobinGroupChat(\n",
    "    participants=agents,\n",
    "    termination_condition=termination,\n",
    "    max_turns=len(agents) # we don't really want it to go round\n",
    ")"
   ]
  },
  {
   "cell_type": "code",
   "execution_count": 8,
   "id": "6085732d",
   "metadata": {},
   "outputs": [],
   "source": [
    "# Create the host agent with deep dive capabilities and the host agent\n",
    "joker_tool = TeamTool(team=team, name=\"JokeGenerationTeam\", description=\"Collaborative multi-agent joke generation team.\")\n",
    "host = AssistantAgent(\n",
    "    name=\"Host\",\n",
    "    model_client=model_client,\n",
    "    tools=[joker_tool],\n",
    "    system_message=\"You have access to a Joke Generation team for short animal-related jokes.\"\n",
    ")"
   ]
  },
  {
   "cell_type": "markdown",
   "id": "92697f14",
   "metadata": {},
   "source": [
    "Start the System\n",
    "==================="
   ]
  },
  {
   "cell_type": "code",
   "execution_count": 9,
   "id": "6085732d",
   "metadata": {},
   "outputs": [
    {
     "name": "stdout",
     "output_type": "stream",
     "text": [
      "🔍 Generation result (took 2.20 sec.) resulted in 9 messages.\n"
     ]
    }
   ],
   "source": [
    "async def invent_joke(topic: str):\n",
    "    start_time_s = timeit.default_timer()\n",
    "    result = await host.run(task=f\"Invent a short joke about: {topic}\")\n",
    "    elapsed = timeit.default_timer()-start_time_s\n",
    "    print(f\"🔍 Generation result (took {elapsed:.2f} sec.) resulted in {len(result.messages)} messages.\")\n",
    "    return result  # Return the result for further exploration\n",
    "\n",
    "# Run the deep dive\n",
    "result = await invent_joke(topic)"
   ]
  },
  {
   "cell_type": "markdown",
   "id": "4f53d535",
   "metadata": {},
   "source": [
    "Explore Results\n",
    "==============="
   ]
  },
  {
   "cell_type": "code",
   "execution_count": 10,
   "id": "3254dbe6",
   "metadata": {},
   "outputs": [
    {
     "name": "stdout",
     "output_type": "stream",
     "text": [
      "Result type: <class 'autogen_agentchat.base._task.TaskResult'>\n",
      "\n",
      "Result attributes:\n",
      "['construct', 'copy', 'dict', 'from_orm', 'json', 'messages', 'model_computed_fields', 'model_config', 'model_construct', 'model_copy', 'model_dump', 'model_dump_json', 'model_extra', 'model_fields', 'model_fields_set', 'model_json_schema', 'model_parametrized_name', 'model_post_init', 'model_rebuild', 'model_validate', 'model_validate_json', 'model_validate_strings', 'parse_file', 'parse_obj', 'parse_raw', 'schema', 'schema_json', 'stop_reason', 'update_forward_refs', 'validate']\n",
      "\n",
      "Message attributes:\n",
      "['construct', 'content', 'copy', 'created_at', 'dict', 'dump', 'from_orm', 'id', 'json', 'load', 'metadata', 'model_computed_fields', 'model_config', 'model_construct', 'model_copy', 'model_dump', 'model_dump_json', 'model_extra', 'model_fields', 'model_fields_set', 'model_json_schema', 'model_parametrized_name', 'model_post_init', 'model_rebuild', 'model_validate', 'model_validate_json', 'model_validate_strings', 'models_usage', 'parse_file', 'parse_obj', 'parse_raw', 'results', 'schema', 'schema_json', 'source', 'to_model_message', 'to_model_text', 'to_text', 'tool_calls', 'type', 'update_forward_refs', 'validate']\n",
      "0: TextMessage by user at 18:09:54.453, no tool involved\n",
      "1: ToolCallRequestEvent by Host at 18:09:55.592, Tools: ['JokeGenerationTeam']\n",
      "2: TextMessage by user at 18:09:55.593, no tool involved\n",
      "3: ToolCallRequestEvent by Author at 18:09:55.964, Tools: ['provide_response_tool']\n",
      "4: ToolCallExecutionEvent by Author at 18:09:55.965, Tools: ['provide_response_tool']\n",
      "5: ToolCallSummaryMessage by Author at 18:09:55.966, Tools: [], tool_calls: [FunctionCall(id='call_8lpmDzP9F5r6SxkDYdCK8rir', arguments='{\"question\":\"Create a short joke about animals.\"}', name='provide_response_tool')]\n",
      "6: TextMessage by SmartassEditor at 18:09:56.655, no tool involved\n",
      "7: ToolCallExecutionEvent by Host at 18:09:56.656, Tools: ['JokeGenerationTeam']\n",
      "8: ToolCallSummaryMessage by Host at 18:09:56.656, Tools: [], tool_calls: [FunctionCall(id='call_BNvaDo0jLjnWi2DFM8ysHuH5', arguments='{\"task\":\"Create a short joke about animals.\"}', name='JokeGenerationTeam')]\n"
     ]
    }
   ],
   "source": [
    "# Display the full result structure\n",
    "from json import tool\n",
    "\n",
    "\n",
    "print(\"Result type:\", type(result))\n",
    "\n",
    "print(\"\\nResult attributes:\")\n",
    "print(get_attributes(result))\n",
    "print(\"\\nMessage attributes:\")\n",
    "print(get_attributes(result.messages[-1]))\n",
    "\n",
    "for i, msg in enumerate(result.messages):\n",
    "    tool_info = f\"Tools: {[c.name for c in msg.content if hasattr(c, 'name')]}\" if \"tool\" in msg.type.lower() else \"no tool involved\"\n",
    "    if hasattr(msg, 'tool_calls'):\n",
    "        tool_info += f\", tool_calls: {getattr(msg, 'tool_calls', None)}\"\n",
    "    ts = msg.created_at.strftime(\"%H:%M:%S.%f\")[:-3] if getattr(msg, \"created_at\", None) else \"(unknown)\"\n",
    "    #print(\"\")\n",
    "    print(f\"{i}: {msg.type} by {msg.source} at {ts}, {tool_info}\")\n",
    "    #print(msg.content)"
   ]
  },
  {
   "cell_type": "code",
   "execution_count": 11,
   "id": "35292aa2",
   "metadata": {},
   "outputs": [],
   "source": [
    "# Clean up resources\n",
    "await model_client.close()"
   ]
  },
  {
   "cell_type": "code",
   "execution_count": 12,
   "id": "14cca613",
   "metadata": {},
   "outputs": [
    {
     "name": "stdout",
     "output_type": "stream",
     "text": [
      "Stop reason: None\n",
      "Message Sequence:\n",
      " - Author\n",
      " - SmartassEditor\n",
      "\n",
      " Author: What do you call a magic dog? A Labracadabrador.\n",
      "\n",
      "SmartassEditor: This joke is funny because it combines a well-known dog breed, Labrador, with the word \"abracadabra,\" a common magic word, creating a silly and memorable pun. It plays on the expectation of a typical animal joke while adding a clever twist with wordplay.\n",
      "\n",
      "To make it funnier without lengthening it, I could tweak it slightly for a more surprising punchline:\n",
      "\n",
      "**What do you call a dog that performs magic? A Labracadabra!**\n"
     ]
    }
   ],
   "source": [
    "import re\n",
    "from autogen_agentchat.messages import BaseTextChatMessage\n",
    "\n",
    "print(\"Stop reason:\", result.stop_reason)\n",
    "assert isinstance(result.messages[-1], BaseTextChatMessage)\n",
    "last_message = result.messages[-1].content\n",
    "\n",
    "print(\"Message Sequence:\")\n",
    "agent_names = list(agentConfig.keys())\n",
    "pattern = re.compile(r'(' + '|'.join(re.escape(n) for n in agent_names) + r'):')\n",
    "for match in pattern.finditer(last_message):\n",
    "    print(\" -\", match.group(1))\n",
    "\n",
    "print(\"\\n\", last_message)  # Print the content of the last message"
   ]
  }
 ],
 "metadata": {
  "kernelspec": {
   "display_name": "research-assistant",
   "language": "python",
   "name": "python3"
  },
  "language_info": {
   "codemirror_mode": {
    "name": "ipython",
    "version": 3
   },
   "file_extension": ".py",
   "mimetype": "text/x-python",
   "name": "python",
   "nbconvert_exporter": "python",
   "pygments_lexer": "ipython3",
   "version": "3.13.7"
  }
 },
 "nbformat": 4,
 "nbformat_minor": 5
}
