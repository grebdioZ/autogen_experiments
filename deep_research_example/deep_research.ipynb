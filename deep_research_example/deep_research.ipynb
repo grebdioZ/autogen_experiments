{
 "cells": [
  {
   "cell_type": "markdown",
   "id": "842d4017",
   "metadata": {},
   "source": [
    "# Deep Research with AutoGen\n",
    "\n",
    "This notebook implements a multi-agent deep research system using AutoGen. It creates a team of specialized agents that collaborate to perform in-depth research on a given topic."
   ]
  },
  {
   "cell_type": "code",
   "execution_count": 15,
   "id": "9d8054ba",
   "metadata": {},
   "outputs": [],
   "source": [
    "import os, nest_asyncio\n",
    "nest_asyncio.apply()\n",
    "import asyncio\n",
    "import timeit\n",
    "from autogen_agentchat.agents import AssistantAgent, UserProxyAgent\n",
    "from autogen_agentchat.teams import RoundRobinGroupChat\n",
    "from autogen_agentchat.conditions import MaxMessageTermination, TextMentionTermination\n",
    "from autogen_agentchat.tools import TeamTool\n",
    "# or import\n",
    "from autogen_core.models import ModelInfo\n",
    "import sys\n",
    "\n",
    "sys.path.append(os.path.abspath(\"..\"))\n",
    "# Token usage tracking\n",
    "from utilities.token_counting import (\n",
    "    wrap_chat_client_for_tokens,\n",
    "    print_token_usage_with_estimate,\n",
    "    log_token_usage,\n",
    ")\n",
    "\n",
    "from utilities import (\n",
    "    create_chat_completion_client,\n",
    "    current_datetime_utc_tool,\n",
    "    adjust_properties_for_fixed_response,\n",
    "    get_tavily_search_tool,\n",
    "    get_attributes,\n",
    "    load_model_config,\n",
    ")"
   ]
  },
  {
   "cell_type": "markdown",
   "id": "38c88307",
   "metadata": {},
   "source": [
    "#### Note: You need a tavily API key to use the web search tool!"
   ]
  },
  {
   "cell_type": "code",
   "execution_count": 16,
   "id": "3b6c1917",
   "metadata": {},
   "outputs": [
    {
     "name": "stdout",
     "output_type": "stream",
     "text": [
      "Using model: gpt-4.1-nano type: openai\n"
     ]
    }
   ],
   "source": [
    "model = load_model_config() \n",
    "\n",
    "# Check if web search is possible (i.e., if API key is set)\n",
    "ALLOW_WEB_SEARCH = os.getenv(\"TAVILY_API_KEY\", False)"
   ]
  },
  {
   "cell_type": "code",
   "execution_count": 17,
   "id": "07a55ad6",
   "metadata": {},
   "outputs": [],
   "source": [
    "# Prepare tools\n",
    "basic_tools = {current_datetime_utc_tool}\n",
    "web_search_tools = set()\n",
    "if ALLOW_WEB_SEARCH:\n",
    "    # web_search_tool = [ await get_rag_web_browser_tool() ]\n",
    "    web_search_tools = { await get_tavily_search_tool() }"
   ]
  },
  {
   "cell_type": "markdown",
   "id": "5375bd1f",
   "metadata": {},
   "source": [
    "Set the research topic\n",
    "----------------------"
   ]
  },
  {
   "cell_type": "code",
   "execution_count": 18,
   "id": "1be891ac",
   "metadata": {},
   "outputs": [],
   "source": [
    "# topic = \"Impacts of Model Context Protocol on Agentic AI\"\n",
    "# topic = \"What is Fraunhofer MEVIS?\"\n",
    "# topic = \"What day and time is it in Berlin, Germany?\"\n",
    "# topic = \"What is the wheather like in Berlin, Germany currently?\"\n",
    "topic = \"What has Fraunhofer MEVIS done in the context of thoracic imaging?\""
   ]
  },
  {
   "cell_type": "markdown",
   "id": "1d2fdaa3",
   "metadata": {},
   "source": [
    "Select Model and Agent Configuration\n",
    "-----------------------------"
   ]
  },
  {
   "cell_type": "code",
   "execution_count": 19,
   "id": "cce96c64",
   "metadata": {},
   "outputs": [],
   "source": [
    "\n",
    "agentConfig = {\n",
    "    \"Researcher\": dict(system_message=\"Gather and summarize factual info, add important web references.\", tools=web_search_tools), \n",
    "    \"FactChecker\": dict(system_message=\"Use web search to verify facts and citations from the Researcher's response. For each found error, give a correct version and the web reference for verification.\", tools=web_search_tools), \n",
    "    \"Revisor\": dict(system_message=\"Use the fact checker's results to revise the Researcher's report. Only if there were no fact issues, just repeat the Researcher's response. In both cases, add the fact checker's citations.\"),\n",
    "    \"Critic\": dict(system_message=\"Critique clarity and logic.\"),\n",
    "    \"Summarizer\": dict(system_message=\"Apply critic result to generate an improved response to the initial user question.\"),# Include the most important references.\"),\n",
    "    \"Editor\": dict(system_message=\"Do some language polishing on the previous result to generate a final response to the initial question. Signal APPROVED when done.\"),\n",
    "}\n",
    "\n",
    "# For testing, we can fix an agent's response to a known answer\n",
    "# adjust_properties_for_fixed_response(agentConfig[\"Researcher\"], \"Fraunhofer MEVIS is a research institute in Frankfurt for biological weapons. It was founded in 1995. See https://www.mefis.fraunhofer.de/en.html for more information.\")"
   ]
  },
  {
   "cell_type": "code",
   "execution_count": 20,
   "id": "b1e278d3",
   "metadata": {},
   "outputs": [],
   "source": [
    "# Now create model client with token tracking\n",
    "model_client = wrap_chat_client_for_tokens(create_chat_completion_client(model))\n",
    "\n",
    "agents = []  # start with a user proxy for the researcher\n",
    "\n",
    "for agent_type, props in agentConfig.items():\n",
    "    p = props.copy()\n",
    "    p.setdefault(\"tools\", set()).update(basic_tools)\n",
    "    p.setdefault(\"reflect_on_tool_use\", True)\n",
    "    agents.append(\n",
    "        AssistantAgent(\n",
    "            name=agent_type,\n",
    "            **p,\n",
    "            model_client=model_client,\n",
    "        )\n",
    "    )"
   ]
  },
  {
   "cell_type": "code",
   "execution_count": 21,
   "id": "bcf867c9",
   "metadata": {},
   "outputs": [],
   "source": [
    "# Set up termination conditions\n",
    "max_msgs = MaxMessageTermination(max_messages=20)\n",
    "text_term = TextMentionTermination(text=\"APPROVED\", sources=[\"Editor\"])\n",
    "termination = max_msgs | text_term\n",
    "\n",
    "# Create the team\n",
    "team = RoundRobinGroupChat(\n",
    "    participants=agents,\n",
    "    termination_condition=termination,\n",
    "    max_turns=len(agents) # we don't really want it to go round\n",
    ")"
   ]
  },
  {
   "cell_type": "code",
   "execution_count": 22,
   "id": "6085732d",
   "metadata": {},
   "outputs": [],
   "source": [
    "# Create the host agent with deep dive capabilities and the host agent\n",
    "deepdive_tool = TeamTool(team=team, name=\"DeepDive\", description=\"Collaborative multi-agent deep dive\")\n",
    "host = AssistantAgent(\n",
    "    name=\"Host\",\n",
    "    model_client=model_client,\n",
    "    tools=[deepdive_tool],\n",
    "    system_message=\"You have access to a DeepDive tool for in-depth research.\"\n",
    ")"
   ]
  },
  {
   "cell_type": "markdown",
   "id": "92697f14",
   "metadata": {},
   "source": [
    "Start the Deep Dive\n",
    "==================="
   ]
  },
  {
   "cell_type": "code",
   "execution_count": null,
   "id": "6085732d",
   "metadata": {},
   "outputs": [
    {
     "name": "stdout",
     "output_type": "stream",
     "text": [
      "Estimated token usage -> prompt: 2633, completion: 4160, total: 6793 (method=tiktoken)\n",
      "Approximate cost for this run: $0.0010 USD (input: $0.0001, output: $0.0008)\n",
      "🔍 DeepDive result (took 25.31 sec.) resulted in 11 messages.\n"
     ]
    }
   ],
   "source": [
    "async def run_deepdive(topic: str):\n",
    "    start_time_s = timeit.default_timer()\n",
    "    result = await team.run(task=f\"Deep dive on: {topic}\")\n",
    "    # Display token usage after the deep dive\n",
    "    print_token_usage_with_estimate(model_client, getattr(result, 'messages', None), agentConfig.keys(), model_info=model)\n",
    "    elapsed = timeit.default_timer()-start_time_s\n",
    "    print(f\"🔍 DeepDive result (took {elapsed:.2f} sec.) resulted in {len(result.messages)} messages.\")\n",
    "    return result  # Return the result for further exploration\n",
    "\n",
    "# Run the deep dive\n",
    "result = await run_deepdive(topic)"
   ]
  },
  {
   "cell_type": "code",
   "execution_count": null,
   "id": "b3f1f69c",
   "metadata": {},
   "outputs": [],
   "source": []
  },
  {
   "cell_type": "markdown",
   "id": "4f53d535",
   "metadata": {},
   "source": [
    "Explore Results\n",
    "==============="
   ]
  },
  {
   "cell_type": "code",
   "execution_count": 31,
   "id": "3254dbe6",
   "metadata": {},
   "outputs": [
    {
     "name": "stdout",
     "output_type": "stream",
     "text": [
      "*** Stop reason: Text 'APPROVED' mentioned \n",
      "\n",
      "*** Message Sequence:\n",
      "\n",
      "----------------------------------------------------------------\n",
      "MESSAGE 0 [user]:\n",
      "Deep dive on: What has Fraunhofer MEVIS done in the context of thoracic imaging?\n",
      "\n",
      "----------------------------------------------------------------\n",
      "MESSAGE 1 [Researcher]:\n",
      "[FunctionCall(id='call_OxpK664pFO6h9PB8j3CMzZaO', arguments='{\"query\": \"Fraunhofer MEVIS thoracic imaging\"}', name='tavily_search'), FunctionCall(id='call_XhlhSiWXj0NmjKMai1bqFk8f', arguments='{\"query\": \"Fraunhofer MEVIS contributions to thoracic imaging\"}', name='tavily_search')]\n",
      "\n",
      "----------------------------------------------------------------\n",
      "MESSAGE 2 [Researcher]:\n",
      "[FunctionExecutionResult(content='Search Query: Fraunhofer MEVIS thoracic imaging\\nResults:\\n1. Solutions for Cardiac Imaging - Fraunhofer MEVIS\\nURL: https://www.mevis.fraunhofer.de/en/solutionpages/solutions-for-cardiac-imaging.html\\nSnippet: Fraunhofer MEVIS develops software solutions for multimodal cardiac image analysis and quantification. Easy-to-use analysis methods are provided for different\\n\\n2. Software Solutions for Lung Image Analysis - Fraunhofer MEVIS\\nURL: https://www.mevis.fraunhofer.de/en/solutionpages/lung-image-analysis.html\\nSnippet: Fraunhofer MEVIS develops software solutions for automated CT and MRI lung image analysis to detect and monitor diseases and plan interventions.\\n\\n3. Lung and lung lobe segmentation methods at Fraunhofer MEVIS\\nURL: https://www.researchgate.net/publication/284890343_Lung_and_lung_lobe_segmentation_methods_at_Fraunhofer_MEVIS\\nSnippet: Lung registration in thoracic CT scans has received much attention in the medical imaging community. Possible applications range from follow-up analysis\\n\\n4. a brand of MeVis Medical Solutions AG: Partners - Veolity\\nURL: https://www.veolity.com/about-veolity/partners\\nSnippet: In close collaboration with MMS, the **Diagnostic Image Analysis Group (DIAG)** participates in the development of Veolity. Fraunhofer MEVIS is an internationally renowned research institute in medical image computing. Embedded in a worldwide network of clinical and academic partners, Fraunhofer MEVIS develops software solutions for image-based medicine used in early detection, diagnosis, therapy planning, interventional guidance, and follow-up. Fraunhofer MEVIS works closely with healthcare ind\\n\\n5. Fast and Accurate Lung Image Registration - Fraunhofer MEVIS\\nURL: https://www.mevis.fraunhofer.de/en/solutionpages/fast-and-accurate-lung-image-registration.html\\nSnippet: ## Lung Registration A precise and fast lung registration enables an easy comparability and quantification of changes. # Fast and Accurate Lung Image Registration In the diagnosis and therapy of lung diseases, non-rigid image registration methods yield new approaches. Fraunhofer MEVIS developed a tailored solution for lung registration, with sub-millimeter accuracy at a runtime of only 25 seconds. After being integrated into a research workstation developed by Fraunhofer MEVIS and the Diagnostic\\n', name='tavily_search', call_id='call_OxpK664pFO6h9PB8j3CMzZaO', is_error=False), FunctionExecutionResult(content='Search Query: Fraunhofer MEVIS contributions to thoracic imaging\\nResults:\\n1. Fraunhofer MEVIS at virtual MICCAI 2020\\nURL: https://www.mevis.fraunhofer.de/en/press-and-scicom/institute-news/2020/fraunhofer-mevis-at-virtual-miccai-2020.html\\nSnippet: MEVIS scientists are actively involved in the organization and with contributions to the workshops: Thoracic Image Analysis Thoracic Image\\n\\n2. Virtual Journey Through the Heart - Fraunhofer MEVIS\\nURL: https://www.mevis.fraunhofer.de/en/press-and-scicom/press-release/virtual-journey-through-the-heart--fraunhofer-mevis-creates-a-th.html\\nSnippet: Fraunhofer MEVIS contributed a central element to the exhibit – a three-dimensional sequence of the human heart. Images from a CT scanner build\\n\\n3. Software Solutions for Lung Image Analysis - Fraunhofer MEVIS\\nURL: https://www.mevis.fraunhofer.de/en/solutionpages/lung-image-analysis.html\\nSnippet: Fraunhofer MEVIS develops software solutions for automated CT and MRI lung image analysis to detect and monitor diseases and plan interventions.\\n\\n4. Rethinking Radiology: Impulses, Innovations, and Awards at ...\\nURL: https://www.mevis.fraunhofer.de/en/press-and-scicom/institute-news/2025/impulses-innovations-awards-at-roko-2025.html\\nSnippet: Fraunhofer MEVIS is represented with two contributions at the workshop “Artificial Intelligence” of the AG Information Technology (AGIT) on May\\n\\n5. Three Decades of Digital Medicine from Bremen\\nURL: https://www.mevis.fraunhofer.de/en/press-and-scicom/press-release/2025/three-decades-of-digital-medicine-from-bremen.html\\nSnippet: A core research focus at Fraunhofer MEVIS is the development of clinical decision-support systems. These systems combine medical imaging,\\n', name='tavily_search', call_id='call_XhlhSiWXj0NmjKMai1bqFk8f', is_error=False)]\n",
      "\n",
      "----------------------------------------------------------------\n",
      "MESSAGE 3 [Researcher]:\n",
      "Fraunhofer MEVIS has made significant contributions in the field of thoracic imaging, particularly focusing on lung and cardiac imaging. Here are some key highlights:\n",
      "\n",
      "1. **Software Solutions for Lung Image Analysis**:\n",
      "   - Fraunhofer MEVIS has developed advanced software for automated analysis of CT and MRI images of the lungs. This technology is used for detecting and monitoring lung diseases and planning medical interventions. (Source: [Fraunhofer MEVIS Lung Image Analysis](https://www.mevis.fraunhofer.de/en/solutionpages/lung-image-analysis.html))\n",
      "\n",
      "2. **Lung and Lung Lobe Segmentation Methods**:\n",
      "   - The institute has developed segmentation methods to distinguish lung regions and lobes in thoracic CT scans, facilitating better follow-up analysis and disease tracking. (Source: ResearchGate publication on lung segmentation methods)\n",
      "\n",
      "3. **Lung Image Registration**:\n",
      "   - Fraunhofer MEVIS created a fast and precise lung registration technique that enables comparison of lung images over time with sub-millimeter accuracy in about 25 seconds, aiding diagnosis and therapy planning. (Source: [Fast and Accurate Lung Image Registration](https://www.mevis.fraunhofer.de/en/solutionpages/fast-and-accurate-lung-image-registration.html))\n",
      "\n",
      "4. **Participation in Scientific Forums and Conferences**:\n",
      "   - Researchers from Fraunhofer MEVIS actively participate in conferences such as MICCAI, contributing to workshops and sessions focused on thoracic imaging analysis, including thoracic image analysis and lung disease detection. (Source: [Fraunhofer MEVIS at MICCAI 2020](https://www.mevis.fraunhofer.de/en/press-and-scicom/institute-news/2020/fraunhofer-mevis-at-virtual-miccai-2020.html))\n",
      "\n",
      "5. **Innovative Visualizations and Demonstrations**:\n",
      "   - The institute has contributed to visualizations, such as a 3D sequence of the human heart based on CT scans, to enhance understanding and educational outreach in thoracic health. (Source: [Virtual Journey Through the Heart](https://www.mevis.fraunhofer.de/en/press-and-scicom/press-release/virtual-journey-through-the-heart--fraunhofer-mevis-creates-a-th.html))\n",
      "\n",
      "Overall, Fraunhofer MEVIS’s work enhances diagnostic accuracy, supports treatment planning, and advances research in thoracic imaging through innovative software solutions, segmentation methods, and active participation in scientific discourse.\n",
      "\n",
      "**References and Web Links:**\n",
      "- [Fraunhofer MEVIS Lung Image Analysis](https://www.mevis.fraunhofer.de/en/solutionpages/lung-image-analysis.html)\n",
      "- [Fast and Accurate Lung Image Registration](https://www.mevis.fraunhofer.de/en/solutionpages/fast-and-accurate-lung-image-registration.html)\n",
      "- [Fraunhofer MEVIS MICCAI 2020 Participation](https://www.mevis.fraunhofer.de/en/press-and-scicom/institute-news/2020/fraunhofer-mevis-at-virtual-miccai-2020.html)\n",
      "- [Virtual Journey Through the Heart](https://www.mevis.fraunhofer.de/en/press-and-scicom/press-release/virtual-journey-through-the-heart--fraunhofer-mevis-creates-a-th.html)\n",
      "\n",
      "----------------------------------------------------------------\n",
      "MESSAGE 4 [FactChecker]:\n",
      "[FunctionCall(id='call_Pxd75LYfmYLrfpGIlDS1Q5Ii', arguments='{\"query\": \"Fraunhofer MEVIS contributions to thoracic imaging\"}', name='tavily_search'), FunctionCall(id='call_gACRNOyK0VyUG3eIH21aAQ4C', arguments='{\"query\": \"Fraunhofer MEVIS lung image analysis software\"}', name='tavily_search'), FunctionCall(id='call_FGzJLeNWVKKj646bnqbBiecN', arguments='{\"query\": \"Fraunhofer MEVIS lung and lung lobe segmentation methods\"}', name='tavily_search'), FunctionCall(id='call_Vc8XsNe4naR2BnJ7gEHTP3Ez', arguments='{\"query\": \"Fraunhofer MEVIS lung image registration technique\"}', name='tavily_search'), FunctionCall(id='call_45t9cLS38Ca8U3LlMie16xjW', arguments='{\"query\": \"Fraunhofer MEVIS participation in MICCAI thoracic imaging\"}', name='tavily_search')]\n",
      "\n",
      "----------------------------------------------------------------\n",
      "MESSAGE 5 [FactChecker]:\n",
      "[FunctionExecutionResult(content='Search Query: Fraunhofer MEVIS contributions to thoracic imaging\\nResults:\\n1. Fraunhofer MEVIS at virtual MICCAI 2020\\nURL: https://www.mevis.fraunhofer.de/en/press-and-scicom/institute-news/2020/fraunhofer-mevis-at-virtual-miccai-2020.html\\nSnippet: MEVIS scientists are actively involved in the organization and with contributions to the workshops: Thoracic Image Analysis Thoracic Image\\n\\n2. Virtual Journey Through the Heart - Fraunhofer MEVIS\\nURL: https://www.mevis.fraunhofer.de/en/press-and-scicom/press-release/virtual-journey-through-the-heart--fraunhofer-mevis-creates-a-th.html\\nSnippet: Fraunhofer MEVIS contributed a central element to the exhibit – a three-dimensional sequence of the human heart. Images from a CT scanner build\\n\\n3. Software Solutions for Lung Image Analysis - Fraunhofer MEVIS\\nURL: https://www.mevis.fraunhofer.de/en/solutionpages/lung-image-analysis.html\\nSnippet: Fraunhofer MEVIS develops software solutions for automated CT and MRI lung image analysis to detect and monitor diseases and plan interventions.\\n\\n4. Rethinking Radiology: Impulses, Innovations, and Awards at ...\\nURL: https://www.mevis.fraunhofer.de/en/press-and-scicom/institute-news/2025/impulses-innovations-awards-at-roko-2025.html\\nSnippet: Fraunhofer MEVIS is represented with two contributions at the workshop “Artificial Intelligence” of the AG Information Technology (AGIT) on May\\n\\n5. Three Decades of Digital Medicine from Bremen\\nURL: https://www.mevis.fraunhofer.de/en/press-and-scicom/press-release/2025/three-decades-of-digital-medicine-from-bremen.html\\nSnippet: A core research focus at Fraunhofer MEVIS is the development of clinical decision-support systems. These systems combine medical imaging,\\n', name='tavily_search', call_id='call_Pxd75LYfmYLrfpGIlDS1Q5Ii', is_error=False), FunctionExecutionResult(content='Search Query: Fraunhofer MEVIS lung image analysis software\\nResults:\\n1. Software Solutions for Lung Image Analysis - Fraunhofer MEVIS\\nURL: https://www.mevis.fraunhofer.de/en/solutionpages/lung-image-analysis.html\\nSnippet: Fraunhofer MEVIS develops software solutions for automated CT and MRI lung image analysis to detect and monitor diseases and plan interventions.\\n\\n2. Image & Data Analysis - Fraunhofer MEVIS\\nURL: https://www.mevis.fraunhofer.de/en/research-and-technologies/image-and-data-analysis.html\\nSnippet: MEVIS draw is a free software provided by Fraunhofer MEVIS for creating and editing segmentations on 3d medical images such as CT or MRI. We have been using machine learning for image segmentation, tissue and cell classification, and other tasks, and we are extending our expertise towards deep learning technologies. * Deep Learning in Medical Imaging Radiomics discovers relationships between image features and clinical data. Our methods for robust, automatic segmentation can also be applied to l\\n\\n3. free software MEVIS draw\\nURL: https://www.mevis.fraunhofer.de/en/research-and-technologies/image-and-data-analysis/mevis-draw.html\\nSnippet: MEVIS draw is a free software provided by Fraunhofer MEVIS for creating and editing segmentations on 3d medical images such as CT or MRI.\\n\\n4. a brand of MeVis Medical Solutions AG: Partners - Veolity\\nURL: https://www.veolity.com/about-veolity/partners\\nSnippet: In close collaboration with MMS, the **Diagnostic Image Analysis Group (DIAG)** participates in the development of Veolity. Fraunhofer MEVIS is an internationally renowned research institute in medical image computing. Embedded in a worldwide network of clinical and academic partners, Fraunhofer MEVIS develops software solutions for image-based medicine used in early detection, diagnosis, therapy planning, interventional guidance, and follow-up. Fraunhofer MEVIS works closely with healthcare ind\\n\\n5. Quantitative Lung CT Analysis for COPD - Fraunhofer MEVIS\\nURL: https://www.mevis.fraunhofer.de/en/solutionpages/quantitative-lung-CT-analysis-for-COPD.html\\nSnippet: Fraunhofer Institute for Digital Medicine MEVIS Fraunhofer Institute for Digital Medicine MEVIS ## Quantitative Lung CT Analysis © Fraunhofer MEVIS # Quantitative Lung CT Analysis for COPD Moreover, selected cases of severe emphysema benefit from lung volume reduction using surgical, and, more recently, minimally invasive techniques such as bronchial valves. * Segmentation of lungs, lobes and segments + Mean lung density * Lobar fissure analysis #### Airway Analysis + Analysis of oblique cross\\xa0s\\n', name='tavily_search', call_id='call_gACRNOyK0VyUG3eIH21aAQ4C', is_error=False), FunctionExecutionResult(content='Search Query: Fraunhofer MEVIS lung and lung lobe segmentation methods\\nResults:\\n1. [PDF] Lung and Lung Lobe Segmentation Methods at Fraunhofer MEVIS\\nURL: https://www.lungworkshop.org/2011/resources/Lung-and-Lung-Lobe-Segmentation-Methods-at-Fraunhofer-MEVIS.pdf\\nSnippet: Abstract. In this paper we present one method for segmenting the lungs and three methods to segment pulmonary lobes from thoracic CT images.\\n\\n2. Lung and lung lobe segmentation methods at Fraunhofer MEVIS\\nURL: https://www.researchgate.net/publication/284890343_Lung_and_lung_lobe_segmentation_methods_at_Fraunhofer_MEVIS\\nSnippet: A combination of histogram and morphological operations to extract the airspace, remove the bronchi and then segment the left and right lungs was proposed in [\\n\\n3. Lung and Lung Lobe Segmentation Methods at Fraunhofer MEVIS\\nURL: https://www.semanticscholar.org/paper/Lung-and-Lung-Lobe-Segmentation-Methods-at-MEVIS-Lassen-Kuhnigk/3992dfef0998e79c84cd4677fe0a0301411bd397\\nSnippet: Evaluation of the methods was performed as part of the LOLA11 challenge on 55 CT scans that can be considered challenging due to a large number of\\n\\n4. Software Solutions for Lung Image Analysis - Fraunhofer MEVIS\\nURL: https://www.mevis.fraunhofer.de/en/solutionpages/lung-image-analysis.html\\nSnippet: Fraunhofer MEVIS offers automated CT/MRI lung analysis, including segmentation, registration, MR-based analysis, and AI-based segmentation for lung image\\n\\n5. Figure 2 from Lung and Lung Lobe Segmentation Methods at ...\\nURL: https://www.semanticscholar.org/paper/Lung-and-Lung-Lobe-Segmentation-Methods-by-MEVIS-Lassen-Kuhnigk/453d8e1b3df0ef4c6a47c59e9c5c4e5f1af2b97e/figure/2\\nSnippet: Fig. 2: The essential processing steps of the automated lung segmentation procedure visualized on a single slice overlaying the original data (left),\\n', name='tavily_search', call_id='call_FGzJLeNWVKKj646bnqbBiecN', is_error=False), FunctionExecutionResult(content='Search Query: Fraunhofer MEVIS lung image registration technique\\nResults:\\n1. Fast and Accurate Lung Image Registration - Fraunhofer MEVIS\\nURL: https://www.mevis.fraunhofer.de/en/solutionpages/fast-and-accurate-lung-image-registration.html\\nSnippet: ## Lung Registration A precise and fast lung registration enables an easy comparability and quantification of changes. # Fast and Accurate Lung Image Registration In the diagnosis and therapy of lung diseases, non-rigid image registration methods yield new approaches. Fraunhofer MEVIS developed a tailored solution for lung registration, with sub-millimeter accuracy at a runtime of only 25 seconds. After being integrated into a research workstation developed by Fraunhofer MEVIS and the Diagnostic\\n\\n2. Software Solutions for Lung Image Analysis - Fraunhofer MEVIS\\nURL: https://www.mevis.fraunhofer.de/en/solutionpages/lung-image-analysis.html\\nSnippet: Fast & Accurate Lung CT Registration Methods [12-16] Fraunhofer MEVIS has developed a deformable lung registration method capable of registering lung CT\\n\\n3. Comparison of Two Deformable Registration Algorithms in the ...\\nURL: https://pmc.ncbi.nlm.nih.gov/articles/PMC4636715/\\nSnippet: While the Fraunhofer MEVIS algorithm was well suited for CT scan co-registration in the presence of normal lung tissue changes, future studies should\\n\\n4. Image Registration - Fraunhofer MEVIS\\nURL: https://www.mevis.fraunhofer.de/en/research-and-technologies/image-registration.html\\nSnippet: We develop sound and efficient solutions for rigid, affine, and deformable registration for a wide range of applications and image types.\\n\\n5. Fraunhofer MEVIS Image Registration Solutions for the Learn2Reg ...\\nURL: https://www.researchgate.net/publication/358950511_Fraunhofer_MEVIS_Image_Registration_Solutions_for_the_Learn2Reg_2021_Challenge\\nSnippet: The method use a coarse-to-fine multi-level iterative registration scheme where a Gaussian image pyramid is generated for both images to obtain downsampled and\\n', name='tavily_search', call_id='call_Vc8XsNe4naR2BnJ7gEHTP3Ez', is_error=False), FunctionExecutionResult(content='Search Query: Fraunhofer MEVIS participation in MICCAI thoracic imaging\\nResults:\\n1. Fraunhofer MEVIS at virtual MICCAI 2020\\nURL: https://www.mevis.fraunhofer.de/en/press-and-scicom/institute-news/2020/fraunhofer-mevis-at-virtual-miccai-2020.html\\nSnippet: MEVIS scientists are actively involved in the organization and with contributions to the workshops: Thoracic Image Analysis Thoracic Image\\n\\n2. Fraunhofer MEVIS successful at MICCAI 2019 Challenges\\nURL: https://www.mevis.fraunhofer.de/en/press-and-scicom/institute-news/2019/fraunhofer-mevis-successful-at-miccai-2019-challenges.html\\nSnippet: Fraunhofer MEVIS scientists have successfully participated in two challenges that took place as satellite events at the 22nd International\\n\\n3. MICCAI 2022 - Fraunhofer MEVIS\\nURL: https://www.mevis.fraunhofer.de/en/fairs-and-conferences/2022/MICCAI-2022.html\\nSnippet: MICCAI 2022 includes five days of presentations and poster sessions as well as satellite events like workshops, tutorials, and challenges. Fraunhofer MEVIS will\\n\\n4. MICCAI 2023 - Fraunhofer MEVIS\\nURL: https://www.mevis.fraunhofer.de/en/fairs-and-conferences/2023/MICCAI-2023.html\\nSnippet: MICCAI 2023 is the 26th International Conference on Medical Image Computing, held October 8-12 in Vancouver, Canada, for biomedical scientists, engineers, and\\n\\n5. MICCAI 2025 - Fraunhofer MEVIS\\nURL: https://www.mevis.fraunhofer.de/en/fairs-and-conferences/2025/miccai-2025.html\\nSnippet: MICCAI 2025 will be held from Tuesday September 23rd to Saturday September 27th 2025 in Daejeon, Republic of Korea. This will be the first MICCAI conference\\n', name='tavily_search', call_id='call_45t9cLS38Ca8U3LlMie16xjW', is_error=False)]\n",
      "\n",
      "----------------------------------------------------------------\n",
      "MESSAGE 6 [FactChecker]:\n",
      "Based on verified web sources, here is an updated and accurate summary of Fraunhofer MEVIS's contributions to thoracic imaging:\n",
      "\n",
      "1. **Participation in Scientific Conferences and Workshops**:\n",
      "   - Fraunhofer MEVIS actively participates in and contributes to scientific conferences such as MICCAI, often focusing on thoracic image analysis and lung disease detection. For example, their involvement in MICCAI 2020 included contributions to workshops on thoracic image analysis. [Source: MEVIS at MICCAI 2020](https://www.mevis.fraunhofer.de/en/press-and-scicom/institute-news/2020/fraunhofer-mevis-at-virtual-miccai-2020.html)\n",
      "\n",
      "2. **Development of Software Solutions for Lung Image Analysis**:\n",
      "   - The institute has developed software tools for automated analysis of lung CT and MRI images, enabling detection, monitoring, and intervention planning for lung diseases. These solutions include segmentation and registration algorithms tailored for thoracic imaging. [Source: Software solutions for lung image analysis](https://www.mevis.fraunhofer.de/en/solutionpages/lung-image-analysis.html)\n",
      "\n",
      "3. **Lung and Lung Lobe Segmentation Methods**:\n",
      "   - Fraunhofer MEVIS has devised methods for segmenting lungs and pulmonary lobes in thoracic CT images, using techniques like histogram analysis and morphological operations. Their methods have been validated through challenges like the LOLA11 challenge. [Source: Lung and Lung Lobe Segmentation Methods (PDF)](https://www.lungworkshop.org/2011/resources/Lung-and-Lung-Lobe-Segmentation-Methods-at-Fraunhofer-MEVIS.pdf)\n",
      "\n",
      "4. **Lung Image Registration Techniques**:\n",
      "   - They have developed precise and fast non-rigid registration algorithms for lung images, achieving sub-millimeter accuracy in approximately 25 seconds, which is useful for longitudinal studies and therapy planning. [Source: Fast and Accurate Lung Image Registration](https://www.mevis.fraunhofer.de/en/solutionpages/fast-and-accurate-lung-image-registration.html)\n",
      "\n",
      "5. **What Has Fraunhofer MEVIS Done in Thoracic Imaging?**:\n",
      "   - Their work encompasses software development for automated, AI-assisted lung image analysis, segmentation of lungs and lobes, image registration for comparing scans over time, and active participation in scientific challenges and workshops related to thoracic imaging.\n",
      "\n",
      "**In summary**, Fraunhofer MEVIS is recognized for its software solutions, segmentation, and registration techniques that enhance thoracic imaging diagnostics, supported by active engagement in scientific communities.\n",
      "\n",
      "**References for verification**:\n",
      "- [Fraunhofer MEVIS MICCAI participation](https://www.mevis.fraunhofer.de/en/press-and-scicom/institute-news/2020/fraunhofer-mevis-at-virtual-miccai-2020.html)\n",
      "- [Software for lung image analysis](https://www.mevis.fraunhofer.de/en/solutionpages/lung-image-analysis.html)\n",
      "- [Lung and lobes segmentation methods (PDF)](https://www.lungworkshop.org/2011/resources/Lung-and-Lung-Lobe-Segmentation-Methods-at-Fraunhofer-MEVIS.pdf)\n",
      "- [Lung image registration technique](https://www.mevis.fraunhofer.de/en/solutionpages/fast-and-accurate-lung-image-registration.html)\n",
      "\n",
      "----------------------------------------------------------------\n",
      "MESSAGE 7 [Revisor]:\n",
      "Based on verified web sources, Fraunhofer MEVIS has made notable contributions in thoracic imaging, including software development for lung image analysis, segmentation methods for lungs and lobes, and lung image registration techniques. They actively participate in scientific conferences such as MICCAI, sharing advances in thoracic image analysis and lung disease detection.\n",
      "\n",
      "Specifically, they have developed automated, AI-assisted tools for analyzing lung CT and MRI images, as well as segmentation methods validated through challenges like the LOLA11 challenge (Source: [Lung and Lobe Segmentation Methods (PDF)](https://www.lungworkshop.org/2011/resources/Lung-and-Lung-Lobe-Segmentation-Methods-at-Fraunhofer-MEVIS.pdf)). Their fast and precise lung registration algorithms enable comparison of lung scans over time with sub-millimeter accuracy, supporting diagnosis and therapy planning (Source: [Lung Image Registration](https://www.mevis.fraunhofer.de/en/solutionpages/fast-and-accurate-lung-image-registration.html)).\n",
      "\n",
      "Overall, Fraunhofer MEVIS's work encompasses the development of innovative software solutions, segmentation, and registration methods that enhance thoracic diagnostic capabilities, complemented by active engagement in scientific discourse.\n",
      "\n",
      "**References for verification**:\n",
      "- [Fraunhofer MEVIS MICCAI participation](https://www.mevis.fraunhofer.de/en/press-and-scicom/institute-news/2020/fraunhofer-mevis-at-virtual-miccai-2020.html)\n",
      "- [Software for lung image analysis](https://www.mevis.fraunhofer.de/en/solutionpages/lung-image-analysis.html)\n",
      "- [Lung and lung lobe segmentation methods (PDF)](https://www.lungworkshop.org/2011/resources/Lung-and-Lung-Lobe-Segmentation-Methods-at-Fraunhofer-MEVIS.pdf)\n",
      "- [Lung image registration technique](https://www.mevis.fraunhofer.de/en/solutionpages/fast-and-accurate-lung-image-registration.html)\n",
      "\n",
      "----------------------------------------------------------------\n",
      "MESSAGE 8 [Critic]:\n",
      "Fraunhofer MEVIS has made significant and validated contributions in thoracic imaging. Their work includes developing automated, AI-assisted software tools for analyzing lung CT and MRI images, with advanced segmentation of lungs and lobes. They have also created fast and precise lung image registration algorithms that enable detailed longitudinal comparisons with sub-millimeter accuracy, supporting diagnosis and treatment planning. Their active participation in scientific conferences such as MICCAI underscores their engagement with cutting-edge thoracic imaging research.\n",
      "\n",
      "Specifically, their segmentation methods have been validated through challenges like the LOLA11 challenge, demonstrating their robustness. Overall, Fraunhofer MEVIS's efforts enhance diagnostic accuracy and facilitate clinical decision-making in thoracic health.\n",
      "\n",
      "**References for verification**:\n",
      "- [Fraunhofer MEVIS MICCAI participation](https://www.mevis.fraunhofer.de/en/press-and-scicom/institute-news/2020/fraunhofer-mevis-at-virtual-miccai-2020.html)\n",
      "- [Software for lung image analysis](https://www.mevis.fraunhofer.de/en/solutionpages/lung-image-analysis.html)\n",
      "- [Lung and Lobe Segmentation Methods (PDF)](https://www.lungworkshop.org/2011/resources/Lung-and-Lung-Lobe-Segmentation-Methods-at-Fraunhofer-MEVIS.pdf)\n",
      "- [Lung image registration technique](https://www.mevis.fraunhofer.de/en/solutionpages/fast-and-accurate-lung-image-registration.html)\n",
      "\n",
      "----------------------------------------------------------------\n",
      "MESSAGE 9 [Summarizer]:\n",
      "Fraunhofer MEVIS has made significant, validated contributions to thoracic imaging through the development of automated, AI-assisted software tools for lung CT and MRI image analysis, including advanced segmentation of lungs and pulmonary lobes. Their segmentation methods have been validated via challenges such as LOLA11. Additionally, they have developed fast and accurate lung image registration algorithms capable of longitudinal comparison with sub-millimeter precision, aiding diagnosis and therapy planning. Their active participation in scientific conferences like MICCAI highlights their engagement with cutting-edge thoracic imaging research. Overall, their work enhances diagnostic accuracy and clinical decision-making in thoracic health.\n",
      "\n",
      "**References for verification:**\n",
      "- [Fraunhofer MEVIS MICCAI participation](https://www.mevis.fraunhofer.de/en/press-and-scicom/institute-news/2020/fraunhofer-mevis-at-virtual-miccai-2020.html)\n",
      "- [Software for lung image analysis](https://www.mevis.fraunhofer.de/en/solutionpages/lung-image-analysis.html)\n",
      "- [Lung and Lobe Segmentation Methods (PDF)](https://www.lungworkshop.org/2011/resources/Lung-and-Lung-Lobe-Segmentation-Methods-at-Fraunhofer-MEVIS.pdf)\n",
      "- [Lung image registration technique](https://www.mevis.fraunhofer.de/en/solutionpages/fast-and-accurate-lung-image-registration.html)\n",
      "\n",
      "----------------------------------------------------------------\n",
      "MESSAGE 10 [Editor]:\n",
      "Fraunhofer MEVIS has made substantial, validated contributions to thoracic imaging, primarily through innovative software solutions for automated, AI-assisted analysis of lung CT and MRI scans. Their advanced segmentation techniques for lungs and pulmonary lobes have been validated via challenges like LOLA11, demonstrating their robustness. Additionally, they have developed rapid and precise lung image registration algorithms that enable detailed longitudinal comparisons with sub-millimeter accuracy, supporting accurate diagnosis and treatment planning. Their active engagement in prominent scientific conferences such as MICCAI underscores their leadership in thoracic imaging research. Overall, their work significantly enhances diagnostic accuracy and clinical decision-making in thoracic health.\n",
      "\n",
      "**References for verification:**\n",
      "- [Fraunhofer MEVIS MICCAI participation](https://www.mevis.fraunhofer.de/en/press-and-scicom/institute-news/2020/fraunhofer-mevis-at-virtual-miccai-2020.html)\n",
      "- [Software for lung image analysis](https://www.mevis.fraunhofer.de/en/solutionpages/lung-image-analysis.html)\n",
      "- [Lung and Lobe Segmentation Methods (PDF)](https://www.lungworkshop.org/2011/resources/Lung-and-Lung-Lobe-Segmentation-Methods-at-Fraunhofer-MEVIS.pdf)\n",
      "- [Lung image registration technique](https://www.mevis.fraunhofer.de/en/solutionpages/fast-and-accurate-lung-image-registration.html)\n",
      "\n",
      "APPROVED\n"
     ]
    }
   ],
   "source": [
    "print(\"*** Stop reason:\", result.stop_reason, \"\\n\")\n",
    "\n",
    "# Display the full result structure\n",
    "# print(\"Result type:\", type(result))\n",
    "# print(\"\\nResult attributes:\")\n",
    "# print(get_attributes(result))\n",
    "# print(\"\\nMessage attributes:\")\n",
    "# print(get_attributes(result.messages[-1]))\n",
    "\n",
    "print(\"*** Message Sequence:\")\n",
    "for i, m in enumerate(result.messages):  \n",
    "    print(f\"\\n----------------------------------------------------------------\")\n",
    "    print(f\"MESSAGE {i} [{m.source}]:\\n{m.content}\") # type: ignore"
   ]
  },
  {
   "cell_type": "code",
   "execution_count": 33,
   "id": "14cca613",
   "metadata": {},
   "outputs": [
    {
     "name": "stdout",
     "output_type": "stream",
     "text": [
      "\n",
      "FINAL RESULT:\n",
      " Fraunhofer MEVIS has made substantial, validated contributions to thoracic imaging, primarily through innovative software solutions for automated, AI-assisted analysis of lung CT and MRI scans. Their advanced segmentation techniques for lungs and pulmonary lobes have been validated via challenges like LOLA11, demonstrating their robustness. Additionally, they have developed rapid and precise lung image registration algorithms that enable detailed longitudinal comparisons with sub-millimeter accuracy, supporting accurate diagnosis and treatment planning. Their active engagement in prominent scientific conferences such as MICCAI underscores their leadership in thoracic imaging research. Overall, their work significantly enhances diagnostic accuracy and clinical decision-making in thoracic health.\n",
      "\n",
      "**References for verification:**\n",
      "- [Fraunhofer MEVIS MICCAI participation](https://www.mevis.fraunhofer.de/en/press-and-scicom/institute-news/2020/fraunhofer-mevis-at-virtual-miccai-2020.html)\n",
      "- [Software for lung image analysis](https://www.mevis.fraunhofer.de/en/solutionpages/lung-image-analysis.html)\n",
      "- [Lung and Lobe Segmentation Methods (PDF)](https://www.lungworkshop.org/2011/resources/Lung-and-Lung-Lobe-Segmentation-Methods-at-Fraunhofer-MEVIS.pdf)\n",
      "- [Lung image registration technique](https://www.mevis.fraunhofer.de/en/solutionpages/fast-and-accurate-lung-image-registration.html)\n",
      "\n",
      "APPROVED\n"
     ]
    }
   ],
   "source": [
    "from autogen_agentchat.messages import BaseTextChatMessage\n",
    "\n",
    "assert isinstance(result.messages[-1], BaseTextChatMessage)\n",
    "last_message = result.messages[-1].content\n",
    "\n",
    "print(\"\\nFINAL RESULT:\\n\", last_message)  # Print the content of the last message"
   ]
  },
  {
   "cell_type": "code",
   "execution_count": 28,
   "id": "2d6b856b",
   "metadata": {},
   "outputs": [
    {
     "name": "stdout",
     "output_type": "stream",
     "text": [
      "Logged token usage to token_usage_log.csv: {'timestamp': '2025-09-24T10:26:26.148877+00:00', 'topic': 'What has Fraunhofer MEVIS done in the context of thoracic imaging?', 'prompt': 2633, 'completion': 4160, 'total': 6793, 'method': 'tiktoken', 'cost_usd': 0.000964, 'input_cost_usd': 0.000132, 'output_cost_usd': 0.000832}\n"
     ]
    },
    {
     "data": {
      "text/plain": [
       "{'timestamp': '2025-09-24T10:26:26.148877+00:00',\n",
       " 'topic': 'What has Fraunhofer MEVIS done in the context of thoracic imaging?',\n",
       " 'prompt': 2633,\n",
       " 'completion': 4160,\n",
       " 'total': 6793,\n",
       " 'method': 'tiktoken',\n",
       " 'cost_usd': 0.000964,\n",
       " 'input_cost_usd': 0.000132,\n",
       " 'output_cost_usd': 0.000832}"
      ]
     },
     "execution_count": 28,
     "metadata": {},
     "output_type": "execute_result"
    }
   ],
   "source": [
    "# Optional: append token usage (estimated or native) to a CSV log for tracking across runs\n",
    "# log_token_usage imported from token_counting\n",
    "log_token_usage(topic, model_client, getattr(result, 'messages', None), agentConfig.keys(), model_info=model)"
   ]
  }
 ],
 "metadata": {
  "kernelspec": {
   "display_name": "research-assistant",
   "language": "python",
   "name": "python3"
  },
  "language_info": {
   "codemirror_mode": {
    "name": "ipython",
    "version": 3
   },
   "file_extension": ".py",
   "mimetype": "text/x-python",
   "name": "python",
   "nbconvert_exporter": "python",
   "pygments_lexer": "ipython3",
   "version": "3.13.5"
  }
 },
 "nbformat": 4,
 "nbformat_minor": 5
}
