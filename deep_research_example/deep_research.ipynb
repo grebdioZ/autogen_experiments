{
 "cells": [
  {
   "cell_type": "markdown",
   "id": "842d4017",
   "metadata": {},
   "source": [
    "# Deep Research with AutoGen\n",
    "\n",
    "This notebook implements a multi-agent deep research system using AutoGen. It creates a team of specialized agents that collaborate to perform in-depth research on a given topic."
   ]
  },
  {
   "cell_type": "code",
   "execution_count": 1,
   "id": "9d8054ba",
   "metadata": {},
   "outputs": [],
   "source": [
    "import os, nest_asyncio\n",
    "nest_asyncio.apply()\n",
    "import asyncio\n",
    "import timeit\n",
    "from autogen_agentchat.agents import AssistantAgent, UserProxyAgent\n",
    "from autogen_agentchat.teams import RoundRobinGroupChat\n",
    "from autogen_agentchat.conditions import MaxMessageTermination, TextMentionTermination\n",
    "from autogen_agentchat.tools import TeamTool\n",
    "# or import\n",
    "from autogen_core.models import ModelInfo\n",
    "import sys\n",
    "\n",
    "sys.path.append(os.path.abspath(\"..\"))\n",
    "# Token usage tracking\n",
    "from utilities.token_counting import (\n",
    "    wrap_chat_client_for_tokens,\n",
    "    print_token_usage_with_estimate,\n",
    "    log_token_usage,\n",
    ")\n",
    "\n",
    "from utilities import (\n",
    "    create_chat_completion_client,\n",
    "    current_datetime_utc_tool,\n",
    "    adjust_properties_for_fixed_response,\n",
    "    get_tavily_search_tool,\n",
    "    get_attributes,\n",
    "    load_model_config,\n",
    ")"
   ]
  },
  {
   "cell_type": "markdown",
   "id": "38c88307",
   "metadata": {},
   "source": [
    "#### Note: You need a tavily API key to use the web search tool!"
   ]
  },
  {
   "cell_type": "code",
   "execution_count": 2,
   "id": "3b6c1917",
   "metadata": {},
   "outputs": [
    {
     "name": "stdout",
     "output_type": "stream",
     "text": [
      "Using model: gpt-4.1-nano type: openai\n"
     ]
    }
   ],
   "source": [
    "model = load_model_config() \n",
    "\n",
    "# Check if web search is possible (i.e., if API key is set)\n",
    "ALLOW_WEB_SEARCH = os.getenv(\"TAVILY_API_KEY\", False)"
   ]
  },
  {
   "cell_type": "code",
   "execution_count": 3,
   "id": "07a55ad6",
   "metadata": {},
   "outputs": [],
   "source": [
    "# Prepare tools\n",
    "basic_tools = {current_datetime_utc_tool}\n",
    "web_search_tools = set()\n",
    "if ALLOW_WEB_SEARCH:\n",
    "    # web_search_tool = [ await get_rag_web_browser_tool() ]\n",
    "    web_search_tools = { await get_tavily_search_tool() }"
   ]
  },
  {
   "cell_type": "markdown",
   "id": "5375bd1f",
   "metadata": {},
   "source": [
    "Set the research topic\n",
    "----------------------"
   ]
  },
  {
   "cell_type": "code",
   "execution_count": 4,
   "id": "1be891ac",
   "metadata": {},
   "outputs": [],
   "source": [
    "# topic = \"Impacts of Model Context Protocol on Agentic AI\"\n",
    "# topic = \"What is Fraunhofer MEVIS?\"\n",
    "# topic = \"What day and time is it in Berlin, Germany?\"\n",
    "# topic = \"What is the wheather like in Berlin, Germany currently?\"\n",
    "topic = \"What has Fraunhofer MEVIS done in the context of thoracic imaging?\""
   ]
  },
  {
   "cell_type": "markdown",
   "id": "1d2fdaa3",
   "metadata": {},
   "source": [
    "Select Model and Agent Configuration\n",
    "-----------------------------"
   ]
  },
  {
   "cell_type": "code",
   "execution_count": 5,
   "id": "cce96c64",
   "metadata": {},
   "outputs": [],
   "source": [
    "\n",
    "agentConfig = {\n",
    "    \"Researcher\": dict(system_message=\"Gather and summarize factual info, add important web references.\", tools=web_search_tools), \n",
    "    \"FactChecker\": dict(system_message=\"Use web search to verify facts and citations from the Researcher's response. For each found error, give a correct version and the web reference for verification.\", tools=web_search_tools), \n",
    "    \"Revisor\": dict(system_message=\"Use the fact checker's results to revise the Researcher's report. Only if there were no fact issues, just repeat the Researcher's response. In both cases, add the fact checker's citations.\"),\n",
    "    \"Critic\": dict(system_message=\"Critique clarity and logic.\"),\n",
    "    \"Summarizer\": dict(system_message=\"Apply critic result to generate an improved response to the initial user question.\"),# Include the most important references.\"),\n",
    "    \"Editor\": dict(system_message=\"Do some language polishing on the previous result to generate a final response to the initial question. Signal APPROVED when done.\"),\n",
    "}\n",
    "\n",
    "# For testing, we can fix an agent's response to a known answer\n",
    "# adjust_properties_for_fixed_response(agentConfig[\"Researcher\"], \"Fraunhofer MEVIS is a research institute in Frankfurt for biological weapons. It was founded in 1995. See https://www.mefis.fraunhofer.de/en.html for more information.\")"
   ]
  },
  {
   "cell_type": "code",
   "execution_count": 6,
   "id": "b1e278d3",
   "metadata": {},
   "outputs": [],
   "source": [
    "# Now create model client with token tracking\n",
    "model_client = wrap_chat_client_for_tokens(create_chat_completion_client(model))\n",
    "\n",
    "agents = []  # start with a user proxy for the researcher\n",
    "\n",
    "for agent_type, props in agentConfig.items():\n",
    "    p = props.copy()\n",
    "    p.setdefault(\"tools\", set()).update(basic_tools)\n",
    "    p.setdefault(\"reflect_on_tool_use\", True)\n",
    "    agents.append(\n",
    "        AssistantAgent(\n",
    "            name=agent_type,\n",
    "            **p,\n",
    "            model_client=model_client,\n",
    "        )\n",
    "    )"
   ]
  },
  {
   "cell_type": "code",
   "execution_count": 7,
   "id": "bcf867c9",
   "metadata": {},
   "outputs": [],
   "source": [
    "# Set up termination conditions\n",
    "max_msgs = MaxMessageTermination(max_messages=20)\n",
    "text_term = TextMentionTermination(text=\"APPROVED\", sources=[\"Editor\"])\n",
    "termination = max_msgs | text_term\n",
    "\n",
    "# Create the team\n",
    "team = RoundRobinGroupChat(\n",
    "    participants=agents,\n",
    "    termination_condition=termination,\n",
    "    max_turns=len(agents) # we don't really want it to go round\n",
    ")"
   ]
  },
  {
   "cell_type": "code",
   "execution_count": 8,
   "id": "6085732d",
   "metadata": {},
   "outputs": [],
   "source": [
    "# Create the host agent with deep dive capabilities and the host agent\n",
    "deepdive_tool = TeamTool(team=team, name=\"DeepDive\", description=\"Collaborative multi-agent deep dive\")\n",
    "host = AssistantAgent(\n",
    "    name=\"Host\",\n",
    "    model_client=model_client,\n",
    "    tools=[deepdive_tool],\n",
    "    system_message=\"You have access to a DeepDive tool for in-depth research.\"\n",
    ")"
   ]
  },
  {
   "cell_type": "markdown",
   "id": "92697f14",
   "metadata": {},
   "source": [
    "Start the Deep Dive\n",
    "==================="
   ]
  },
  {
   "cell_type": "code",
   "execution_count": 9,
   "id": "6085732d",
   "metadata": {},
   "outputs": [
    {
     "name": "stdout",
     "output_type": "stream",
     "text": [
      "Estimated token usage -> prompt: 2158, completion: 2665, total: 4823 (method=heuristic)\n",
      "Approximate cost for this run: $0.0006 USD (input: $0.0001, output: $0.0005)\n",
      "🔍 DeepDive result (took 20.91 sec.) resulted in 11 messages.\n"
     ]
    }
   ],
   "source": [
    "async def run_deepdive(topic: str):\n",
    "    start_time_s = timeit.default_timer()\n",
    "    result = await team.run(task=f\"Deep dive on: {topic}\")\n",
    "    # Try native usage first; fallback to estimation\n",
    "    print_token_usage_with_estimate(model_client, getattr(result, 'messages', None), agentConfig.keys(), model_info=model)\n",
    "    elapsed = timeit.default_timer()-start_time_s\n",
    "    print(f\"🔍 DeepDive result (took {elapsed:.2f} sec.) resulted in {len(result.messages)} messages.\")\n",
    "    return result  # Return the result for further exploration\n",
    "\n",
    "# Run the deep dive\n",
    "result = await run_deepdive(topic)"
   ]
  },
  {
   "cell_type": "markdown",
   "id": "4f53d535",
   "metadata": {},
   "source": [
    "Explore Results\n",
    "==============="
   ]
  },
  {
   "cell_type": "code",
   "execution_count": 10,
   "id": "5adad051",
   "metadata": {},
   "outputs": [
    {
     "name": "stdout",
     "output_type": "stream",
     "text": [
      "=== Token Usage Summary ===\n",
      "Estimated token usage -> prompt: 2158, completion: 2665, total: 4823 (method=heuristic)\n",
      "Approximate cost for this run: $0.0006 USD (input: $0.0001, output: $0.0005)\n"
     ]
    }
   ],
   "source": [
    "# Display token usage after the deep dive\n",
    "print(\"=== Token Usage Summary ===\")\n",
    "print_token_usage_with_estimate(model_client, getattr(result, 'messages', None), model_info=model)"
   ]
  },
  {
   "cell_type": "code",
   "execution_count": 11,
   "id": "3254dbe6",
   "metadata": {},
   "outputs": [
    {
     "name": "stdout",
     "output_type": "stream",
     "text": [
      "Result type: <class 'autogen_agentchat.base._task.TaskResult'>\n",
      "Message Sequence:\n",
      "\n",
      "----------------------------------------------------------------\n",
      "MESSAGE 0 [user]:\n",
      "Deep dive on: What has Fraunhofer MEVIS done in the context of thoracic imaging?\n",
      "\n",
      "----------------------------------------------------------------\n",
      "MESSAGE 1 [Researcher]:\n",
      "[FunctionCall(id='call_EC7lyX9BqhZLV7fH2g8S0EDx', arguments='{\"query\": \"Fraunhofer MEVIS thoracic imaging\"}', name='tavily_search'), FunctionCall(id='call_VfnokBpeC4EPgewEWUFGdnrS', arguments='{\"query\": \"Fraunhofer MEVIS contributions to thoracic imaging\"}', name='tavily_search')]\n",
      "\n",
      "----------------------------------------------------------------\n",
      "MESSAGE 2 [Researcher]:\n",
      "[FunctionExecutionResult(content='Search Query: Fraunhofer MEVIS thoracic imaging\\nResults:\\n1. Solutions for Cardiac Imaging - Fraunhofer MEVIS\\nURL: https://www.mevis.fraunhofer.de/en/solutionpages/solutions-for-cardiac-imaging.html\\nSnippet: Fraunhofer MEVIS develops software solutions for multimodal cardiac image analysis and quantification. Easy-to-use analysis methods are provided for different\\n\\n2. Software Solutions for Lung Image Analysis - Fraunhofer MEVIS\\nURL: https://www.mevis.fraunhofer.de/en/solutionpages/lung-image-analysis.html\\nSnippet: Fraunhofer MEVIS develops software solutions for automated CT and MRI lung image analysis to detect and monitor diseases and plan interventions.\\n\\n3. Lung and lung lobe segmentation methods at Fraunhofer MEVIS\\nURL: https://www.researchgate.net/publication/284890343_Lung_and_lung_lobe_segmentation_methods_at_Fraunhofer_MEVIS\\nSnippet: Lung registration in thoracic CT scans has received much attention in the medical imaging community. Possible applications range from follow-up analysis\\n\\n4. a brand of MeVis Medical Solutions AG: Partners - Veolity\\nURL: https://www.veolity.com/about-veolity/partners\\nSnippet: In close collaboration with MMS, the **Diagnostic Image Analysis Group (DIAG)** participates in the development of Veolity. Fraunhofer MEVIS is an internationally renowned research institute in medical image computing. Embedded in a worldwide network of clinical and academic partners, Fraunhofer MEVIS develops software solutions for image-based medicine used in early detection, diagnosis, therapy planning, interventional guidance, and follow-up. Fraunhofer MEVIS works closely with healthcare ind\\n\\n5. Fast and Accurate Lung Image Registration - Fraunhofer MEVIS\\nURL: https://www.mevis.fraunhofer.de/en/solutionpages/fast-and-accurate-lung-image-registration.html\\nSnippet: ## Lung Registration A precise and fast lung registration enables an easy comparability and quantification of changes. # Fast and Accurate Lung Image Registration In the diagnosis and therapy of lung diseases, non-rigid image registration methods yield new approaches. Fraunhofer MEVIS developed a tailored solution for lung registration, with sub-millimeter accuracy at a runtime of only 25 seconds. After being integrated into a research workstation developed by Fraunhofer MEVIS and the Diagnostic\\n', name='tavily_search', call_id='call_EC7lyX9BqhZLV7fH2g8S0EDx', is_error=False), FunctionExecutionResult(content='Search Query: Fraunhofer MEVIS contributions to thoracic imaging\\nResults:\\n1. Fraunhofer MEVIS at virtual MICCAI 2020\\nURL: https://www.mevis.fraunhofer.de/en/press-and-scicom/institute-news/2020/fraunhofer-mevis-at-virtual-miccai-2020.html\\nSnippet: MEVIS scientists are actively involved in the organization and with contributions to the workshops: Thoracic Image Analysis Thoracic Image\\n\\n2. Lung and lung lobe segmentation methods at Fraunhofer MEVIS\\nURL: https://www.researchgate.net/publication/284890343_Lung_and_lung_lobe_segmentation_methods_at_Fraunhofer_MEVIS\\nSnippet: Lung registration in thoracic CT scans has received much attention in the medical imaging community. Possible applications range from follow-up analysis\\n\\n3. Virtual Journey Through the Heart - Fraunhofer MEVIS\\nURL: https://www.mevis.fraunhofer.de/en/press-and-scicom/press-release/virtual-journey-through-the-heart--fraunhofer-mevis-creates-a-th.html\\nSnippet: Fraunhofer MEVIS contributed a central element to the exhibit – a three-dimensional sequence of the human heart. Images from a CT scanner build\\n\\n4. Software Solutions for Lung Image Analysis - Fraunhofer MEVIS\\nURL: https://www.mevis.fraunhofer.de/en/solutionpages/lung-image-analysis.html\\nSnippet: Fraunhofer MEVIS develops software solutions for automated CT and MRI lung image analysis to detect and monitor diseases and plan interventions.\\n\\n5. Rethinking Radiology: Impulses, Innovations, and Awards at RÖKO ...\\nURL: https://www.mevis.fraunhofer.de/en/press-and-scicom/institute-news/2025/impulses-innovations-awards-at-roko-2025.html\\nSnippet: Fraunhofer MEVIS is represented with two contributions at the workshop “Artificial Intelligence” of the AG Information Technology (AGIT) on May\\n', name='tavily_search', call_id='call_VfnokBpeC4EPgewEWUFGdnrS', is_error=False)]\n",
      "\n",
      "----------------------------------------------------------------\n",
      "MESSAGE 3 [Researcher]:\n",
      "Fraunhofer MEVIS has made significant contributions to thoracic imaging, focusing on the development of advanced software solutions for lung and cardiac image analysis. Their work encompasses several key areas:\n",
      "\n",
      "1. **Lung Image Analysis**: They have developed automated tools for CT and MRI lung image analysis aimed at detecting, monitoring diseases, and assisting in intervention planning. These tools facilitate the segmentation of lungs and lung lobes, aiding in follow-up analyses and treatment planning ([source](https://www.mevis.fraunhofer.de/en/solutionpages/lung-image-analysis.html), [ResearchGate](https://www.researchgate.net/publication/284890343_Lung_and_lung_lobe_segmentation_methods_at_Fraunhofer_MEVIS)).\n",
      "\n",
      "2. **Lung and Thoracic CT Registration**: Fraunhofer MEVIS has innovated in non-rigid lung registration techniques, achieving sub-millimeter accuracy with rapid runtimes (~25 seconds). This enables effective comparison of thoracic scans over time, which is crucial for disease progression monitoring and therapy assessment ([source](https://www.mevis.fraunhofer.de/en/solutionpages/fast-and-accurate-lung-image-registration.html)).\n",
      "\n",
      "3. **Cardiac Imaging**: Their software solutions also extend to multimodal cardiac image analysis, providing tools for cardiac structure quantification and early detection of cardiac conditions ([source](https://www.mevis.fraunhofer.de/en/solutionpages/solutions-for-cardiac-imaging.html)).\n",
      "\n",
      "4. **Research and Contributions**: Fraunhofer MEVIS actively participates in scientific communities such as MICCAI and contributes to workshops and conferences focusing on thoracic image analysis, sharing insights and technological advancements. They also contributed to interactive visualizations like a 3D virtual journey through the heart, enhancing understanding of cardiac anatomy ([source](https://www.mevis.fraunhofer.de/en/press-and-scicom/institute-news/2020/fraunhofer-mevis-at-virtual-miccai-2020.html), [Press Release](https://www.mevis.fraunhofer.de/en/press-and-scicom/press-release/virtual-journey-through-the-heart--fraunhofer-mevis-creates-a-th.html)).\n",
      "\n",
      "5. **Collaboration and Integration**: Their solutions are embedded in broader clinical workflows and partner collaborations, exemplified by their involvement with Veolity and other health tech initiatives, aiming at integrating automated image analysis into clinical decision-making.\n",
      "\n",
      "**References**:\n",
      "- [Fraunhofer MEVIS lung analysis solutions](https://www.mevis.fraunhofer.de/en/solutionpages/lung-image-analysis.html)\n",
      "- [ResearchGate on lung segmentation](https://www.researchgate.net/publication/284890343_Lung_and_lung_lobe_segmentation_methods_at_Fraunhofer_MEVIS)\n",
      "- [Fast lung registration technology](https://www.mevis.fraunhofer.de/en/solutionpages/fast-and-accurate-lung-image-registration.html)\n",
      "- [Media coverage on thoracic image analysis contributions](https://www.mevis.fraunhofer.de/en/press-and-scicom/institute-news/2020/fraunhofer-mevis-at-virtual-miccai-2020.html)\n",
      "\n",
      "These efforts mark Fraunhofer MEVIS as a leader in developing innovative imaging analysis tools that advance thoracic medical diagnostics and research.\n",
      "\n",
      "----------------------------------------------------------------\n",
      "MESSAGE 4 [FactChecker]:\n",
      "[FunctionCall(id='call_CmfFLUKtWoAuK9MqTUuq2Qvh', arguments='{\"query\": \"Fraunhofer MEVIS thoracic imaging\"}', name='tavily_search')]\n",
      "\n",
      "----------------------------------------------------------------\n",
      "MESSAGE 5 [FactChecker]:\n",
      "[FunctionExecutionResult(content='Search Query: Fraunhofer MEVIS thoracic imaging\\nResults:\\n1. Solutions for Cardiac Imaging - Fraunhofer MEVIS\\nURL: https://www.mevis.fraunhofer.de/en/solutionpages/solutions-for-cardiac-imaging.html\\nSnippet: Fraunhofer MEVIS develops software solutions for multimodal cardiac image analysis and quantification. Easy-to-use analysis methods are provided for different\\n\\n2. Software Solutions for Lung Image Analysis - Fraunhofer MEVIS\\nURL: https://www.mevis.fraunhofer.de/en/solutionpages/lung-image-analysis.html\\nSnippet: Fraunhofer MEVIS develops software solutions for automated CT and MRI lung image analysis to detect and monitor diseases and plan interventions.\\n\\n3. Lung and lung lobe segmentation methods at Fraunhofer MEVIS\\nURL: https://www.researchgate.net/publication/284890343_Lung_and_lung_lobe_segmentation_methods_at_Fraunhofer_MEVIS\\nSnippet: Lung registration in thoracic CT scans has received much attention in the medical imaging community. Possible applications range from follow-up analysis\\n\\n4. a brand of MeVis Medical Solutions AG: Partners - Veolity\\nURL: https://www.veolity.com/about-veolity/partners\\nSnippet: In close collaboration with MMS, the **Diagnostic Image Analysis Group (DIAG)** participates in the development of Veolity. Fraunhofer MEVIS is an internationally renowned research institute in medical image computing. Embedded in a worldwide network of clinical and academic partners, Fraunhofer MEVIS develops software solutions for image-based medicine used in early detection, diagnosis, therapy planning, interventional guidance, and follow-up. Fraunhofer MEVIS works closely with healthcare ind\\n\\n5. Fast and Accurate Lung Image Registration - Fraunhofer MEVIS\\nURL: https://www.mevis.fraunhofer.de/en/solutionpages/fast-and-accurate-lung-image-registration.html\\nSnippet: ## Lung Registration A precise and fast lung registration enables an easy comparability and quantification of changes. # Fast and Accurate Lung Image Registration In the diagnosis and therapy of lung diseases, non-rigid image registration methods yield new approaches. Fraunhofer MEVIS developed a tailored solution for lung registration, with sub-millimeter accuracy at a runtime of only 25 seconds. After being integrated into a research workstation developed by Fraunhofer MEVIS and the Diagnostic\\n', name='tavily_search', call_id='call_CmfFLUKtWoAuK9MqTUuq2Qvh', is_error=False)]\n",
      "\n",
      "----------------------------------------------------------------\n",
      "MESSAGE 6 [FactChecker]:\n",
      "Based on the web search results, here's a verification of the points made about Fraunhofer MEVIS's work in thoracic imaging:\n",
      "\n",
      "1. **Lung Image Analysis**:  \n",
      "Claim: Fraunhofer MEVIS has developed automated tools for CT and MRI lung analysis for disease detection and surgical planning.  \n",
      "Verification: Confirmed. The official page states they develop software solutions for automated CT and MRI lung image analysis to detect and monitor diseases and assist in intervention planning. ([Source](https://www.mevis.fraunhofer.de/en/solutionpages/lung-image-analysis.html))\n",
      "\n",
      "2. **Lung and Thoracic CT Registration**:  \n",
      "Claim: They have developed non-rigid lung registration techniques with sub-millimeter accuracy and rapid runtimes (~25 seconds).  \n",
      "Verification: Confirmed. The research page details a tailored solution for lung registration, achieving sub-millimeter accuracy within approximately 25 seconds, facilitating comparison of thoracic scans. ([Source](https://www.mevis.fraunhofer.de/en/solutionpages/fast-and-accurate-lung-image-registration.html))\n",
      "\n",
      "3. **Cardiac Imaging**:  \n",
      "Claim: Software solutions for multimodal cardiac analysis are provided.  \n",
      "Verification: Confirmed. The Solutions for Cardiac Imaging page indicates development of software for multimodal cardiac image analysis and quantification. ([Source](https://www.mevis.fraunhofer.de/en/solutionpages/solutions-for-cardiac-imaging.html))\n",
      "\n",
      "4. **Research and Contributions**:  \n",
      "Claim: Active participation in MICCAI and contributions like interactive visualizations of the heart.  \n",
      "Verification: Partially confirmed. The press release highlights their presence at MICCAI 2020 and an interactive \"virtual journey through the heart\" visualization, which enhances understanding of cardiac anatomy. ([Source](https://www.mevis.fraunhofer.de/en/press-and-scicom/institute-news/2020/fraunhofer-mevis-at-virtual-miccai-2020.html))\n",
      "\n",
      "5. **Collaboration and Integration**:  \n",
      "Claim: Their solutions are integrated into clinical workflows with partners like Veolity.  \n",
      "Verification: Confirmed. The Veolity partnership page notes Fraunhofer MEVIS’s involvement in developing software solutions used in early detection, diagnosis, and therapy planning, indicating integration into clinical workflows. ([Source](https://www.veolity.com/about-veolity/partners))\n",
      "\n",
      "**Summary**: The researcher’s initial overview aligns well with publicly available information. No significant errors were identified, and the points about Fraunhofer MEVIS’s contributions to thoracic imaging are accurate as per the sources.\n",
      "\n",
      "---\n",
      "\n",
      "**Note**: No corrections are necessary, as the original researcher's account is accurate based on the current web sources.\n",
      "\n",
      "----------------------------------------------------------------\n",
      "MESSAGE 7 [Revisor]:\n",
      "Fraunhofer MEVIS has made significant contributions to thoracic imaging, focusing on advanced software solutions for lung and cardiac image analysis. Their work encompasses several key areas:\n",
      "\n",
      "1. **Lung Image Analysis**: They have developed automated tools for CT and MRI lung image analysis aimed at detecting, monitoring diseases, and assisting in intervention planning ([source](https://www.mevis.fraunhofer.de/en/solutionpages/lung-image-analysis.html)).\n",
      "\n",
      "2. **Lung and Thoracic CT Registration**: Fraunhofer MEVIS has innovated in non-rigid lung registration techniques, achieving sub-millimeter accuracy with rapid runtimes (~25 seconds). This enables effective comparison of thoracic scans over time, which is crucial for disease progression monitoring and therapy assessment ([source](https://www.mevis.fraunhofer.de/en/solutionpages/fast-and-accurate-lung-image-registration.html)).\n",
      "\n",
      "3. **Cardiac Imaging**: Their software solutions also extend to multimodal cardiac image analysis, providing tools for cardiac structure quantification and early detection of cardiac conditions ([source](https://www.mevis.fraunhofer.de/en/solutionpages/solutions-for-cardiac-imaging.html)).\n",
      "\n",
      "4. **Research and Contributions**: Fraunhofer MEVIS actively participates in scientific communities such as MICCAI and contributes to workshops and conferences focusing on thoracic image analysis, sharing insights and technological advancements. They also contributed to interactive visualizations like a 3D virtual journey through the heart, enhancing understanding of cardiac anatomy ([source](https://www.mevis.fraunhofer.de/en/press-and-scicom/institute-news/2020/fraunhofer-mevis-at-virtual-miccai-2020.html), [Press Release](https://www.mevis.fraunhofer.de/en/press-and-scicom/press-release/virtual-journey-through-the-heart--fraunhofer-mevis-creates-a-th.html)).\n",
      "\n",
      "5. **Collaboration and Integration**: Their solutions are embedded in broader clinical workflows and partner collaborations, such as with Veolity, aiming to integrate automated image analysis into clinical decision-making ([source](https://www.veolity.com/about-veolity/partners)).\n",
      "\n",
      "**References**:\n",
      "- [Fraunhofer MEVIS lung analysis solutions](https://www.mevis.fraunhofer.de/en/solutionpages/lung-image-analysis.html)\n",
      "- [ResearchGate on lung segmentation](https://www.researchgate.net/publication/284890343_Lung_and_lung_lobe_segmentation_methods_at_Fraunhofer_MEVIS)\n",
      "- [Fast lung registration technology](https://www.mevis.fraunhofer.de/en/solutionpages/fast-and-accurate-lung-image-registration.html)\n",
      "- [Media coverage on thoracic image analysis contributions](https://www.mevis.fraunhofer.de/en/press-and-scicom/institute-news/2020/fraunhofer-mevis-at-virtual-miccai-2020.html)\n",
      "\n",
      "These efforts establish Fraunhofer MEVIS as a leader in developing innovative imaging analysis tools that advance thoracic medical diagnostics and research.\n",
      "\n",
      "----------------------------------------------------------------\n",
      "MESSAGE 8 [Critic]:\n",
      "The overview accurately reflects the publicly available information about Fraunhofer MEVIS’s contributions to thoracic imaging. Their work in developing automated lung and cardiac image analysis tools, fast and precise lung registration techniques, active participation in scientific communities like MICCAI, and collaborations with partners such as Veolity is well-documented. The sources cited support these points effectively.\n",
      "\n",
      "Overall, the description is clear, logically structured, factually accurate, and aligns with the current knowledge about Fraunhofer MEVIS’s activities in this field. No significant revisions are necessary.\n",
      "\n",
      "----------------------------------------------------------------\n",
      "MESSAGE 9 [Summarizer]:\n",
      "Fraunhofer MEVIS has made substantial contributions to thoracic imaging through the development of sophisticated software solutions for lung and cardiac image analysis. Their work includes the creation of automated tools for CT and MRI lung analysis to detect and monitor diseases and assist in intervention planning ([source](https://www.mevis.fraunhofer.de/en/solutionpages/lung-image-analysis.html)). They have also pioneered non-rigid lung registration methods that achieve sub-millimeter accuracy with fast processing times (~25 seconds), enabling effective longitudinal comparisons of thoracic scans ([source](https://www.mevis.fraunhofer.de/en/solutionpages/fast-and-accurate-lung-image-registration.html)). Additionally, their software extends to multimodal cardiac imaging, supporting the quantification of cardiac structures and early detection of cardiac conditions ([source](https://www.mevis.fraunhofer.de/en/solutionpages/solutions-for-cardiac-imaging.html)). \n",
      "\n",
      "Fraunhofer MEVIS actively contributes to the scientific community, participating in conferences like MICCAI and sharing innovations such as interactive 3D visualizations of cardiac anatomy, which enhance clinical understanding ([sources](https://www.mevis.fraunhofer.de/en/press-and-scicom/institute-news/2020/fraunhofer-mevis-at-virtual-miccai-2020.html), [Press Release](https://www.mevis.fraunhofer.de/en/press-and-scicom/press-release/virtual-journey-through-the-heart--fraunhofer-mevis-creates-a-th.html)). Their solutions are also integrated into broader clinical workflows through collaborations with partners like Veolity, facilitating automated image analysis in decision-making processes ([source](https://www.veolity.com/about-veolity/partners)). \n",
      "\n",
      "Overall, these efforts establish Fraunhofer MEVIS as a leader in innovative thoracic imaging solutions that advance diagnostic and research capabilities.\n",
      "\n",
      "----------------------------------------------------------------\n",
      "MESSAGE 10 [Editor]:\n",
      "Fraunhofer MEVIS has made notable advances in thoracic imaging by developing sophisticated software for lung and cardiac analysis. Their innovations include automated tools for CT and MRI lung disease detection and monitoring, rapid and precise non-rigid lung registration techniques enabling effective comparison of thoracic scans over time, and multimodal cardiac imaging solutions for structure quantification and early diagnosis. They actively participate in scientific communities like MICCAI, sharing advancements such as interactive 3D visualizations of the heart, and their solutions are integrated into clinical workflows through collaborations with partners like Veolity. These efforts establish Fraunhofer MEVIS as a leader in advancing thoracic diagnostic and research capabilities.\n"
     ]
    }
   ],
   "source": [
    "# Display the full result structure\n",
    "print(\"Result type:\", type(result))\n",
    "\n",
    "# print(\"\\nResult attributes:\")\n",
    "# print(get_attributes(result))\n",
    "# print(\"\\nMessage attributes:\")\n",
    "# print(get_attributes(result.messages[-1]))\n",
    "\n",
    "print(\"Message Sequence:\")\n",
    "for i, m in enumerate(result.messages):  \n",
    "    print(f\"\\n----------------------------------------------------------------\")\n",
    "    print(f\"MESSAGE {i} [{m.source}]:\\n{m.content}\") # type: ignore"
   ]
  },
  {
   "cell_type": "code",
   "execution_count": 12,
   "id": "35292aa2",
   "metadata": {},
   "outputs": [],
   "source": [
    "# Clean up resources\n",
    "await model_client.close()"
   ]
  },
  {
   "cell_type": "code",
   "execution_count": 13,
   "id": "14cca613",
   "metadata": {},
   "outputs": [
    {
     "name": "stdout",
     "output_type": "stream",
     "text": [
      "Stop reason: Maximum number of turns 6 reached.\n",
      "Message Sequence:\n",
      "\n",
      " Fraunhofer MEVIS has made notable advances in thoracic imaging by developing sophisticated software for lung and cardiac analysis. Their innovations include automated tools for CT and MRI lung disease detection and monitoring, rapid and precise non-rigid lung registration techniques enabling effective comparison of thoracic scans over time, and multimodal cardiac imaging solutions for structure quantification and early diagnosis. They actively participate in scientific communities like MICCAI, sharing advancements such as interactive 3D visualizations of the heart, and their solutions are integrated into clinical workflows through collaborations with partners like Veolity. These efforts establish Fraunhofer MEVIS as a leader in advancing thoracic diagnostic and research capabilities.\n"
     ]
    }
   ],
   "source": [
    "import re\n",
    "from autogen_agentchat.messages import BaseTextChatMessage\n",
    "\n",
    "print(\"Stop reason:\", result.stop_reason)\n",
    "assert isinstance(result.messages[-1], BaseTextChatMessage)\n",
    "last_message = result.messages[-1].content\n",
    "\n",
    "print(\"Message Sequence:\")\n",
    "agent_names = list(agentConfig.keys())\n",
    "pattern = re.compile(r'(' + '|'.join(re.escape(n) for n in agent_names) + r'):')\n",
    "for match in pattern.finditer(last_message):\n",
    "    print(\" -\", match.group(1))\n",
    "\n",
    "print(\"\\n\", last_message)  # Print the content of the last message"
   ]
  },
  {
   "cell_type": "code",
   "execution_count": 14,
   "id": "2d6b856b",
   "metadata": {},
   "outputs": [
    {
     "name": "stdout",
     "output_type": "stream",
     "text": [
      "Logged token usage to token_usage_log.csv: {'timestamp': '2025-09-22T09:55:51.538019+00:00', 'topic': 'What has Fraunhofer MEVIS done in the context of thoracic imaging?', 'prompt': 2158, 'completion': 2665, 'total': 4823, 'method': 'heuristic', 'cost_usd': 0.000641, 'input_cost_usd': 0.000108, 'output_cost_usd': 0.000533}\n"
     ]
    },
    {
     "data": {
      "text/plain": [
       "{'timestamp': '2025-09-22T09:55:51.538019+00:00',\n",
       " 'topic': 'What has Fraunhofer MEVIS done in the context of thoracic imaging?',\n",
       " 'prompt': 2158,\n",
       " 'completion': 2665,\n",
       " 'total': 4823,\n",
       " 'method': 'heuristic',\n",
       " 'cost_usd': 0.000641,\n",
       " 'input_cost_usd': 0.000108,\n",
       " 'output_cost_usd': 0.000533}"
      ]
     },
     "execution_count": 14,
     "metadata": {},
     "output_type": "execute_result"
    }
   ],
   "source": [
    "# Optional: append token usage (estimated or native) to a CSV log for tracking across runs\n",
    "# log_token_usage imported from token_counting\n",
    "log_token_usage(topic, model_client, getattr(result, 'messages', None), agentConfig.keys(), model_info=model)"
   ]
  }
 ],
 "metadata": {
  "kernelspec": {
   "display_name": "research-assistant",
   "language": "python",
   "name": "python3"
  },
  "language_info": {
   "codemirror_mode": {
    "name": "ipython",
    "version": 3
   },
   "file_extension": ".py",
   "mimetype": "text/x-python",
   "name": "python",
   "nbconvert_exporter": "python",
   "pygments_lexer": "ipython3",
   "version": "3.13.5"
  }
 },
 "nbformat": 4,
 "nbformat_minor": 5
}
