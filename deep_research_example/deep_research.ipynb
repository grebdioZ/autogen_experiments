{
 "cells": [
  {
   "cell_type": "markdown",
   "id": "842d4017",
   "metadata": {},
   "source": [
    "# Deep Research with AutoGen\n",
    "\n",
    "This notebook implements a multi-agent deep research system using AutoGen. It creates a team of specialized agents that collaborate to perform in-depth research on a given topic."
   ]
  },
  {
   "cell_type": "code",
   "execution_count": 1,
   "id": "9d8054ba",
   "metadata": {},
   "outputs": [],
   "source": [
    "import os, nest_asyncio\n",
    "nest_asyncio.apply()\n",
    "import asyncio\n",
    "import timeit\n",
    "from autogen_agentchat.agents import AssistantAgent, UserProxyAgent\n",
    "from autogen_agentchat.teams import RoundRobinGroupChat\n",
    "from autogen_agentchat.conditions import MaxMessageTermination, TextMentionTermination\n",
    "from autogen_agentchat.tools import TeamTool\n",
    "# or import\n",
    "from autogen_core.models import ModelInfo\n",
    "import sys\n",
    "\n",
    "sys.path.append(os.path.abspath(os.path.join(os.path.curdir, \"..\")))\n",
    "# Token usage tracking\n",
    "from token_counting import (\n",
    "    wrap_chat_client_for_tokens,\n",
    "    print_token_usage_with_estimate,\n",
    "    log_token_usage,\n",
    ")\n",
    "\n",
    "from tools import (\n",
    "    create_chat_completion_client,\n",
    "    current_datetime_utc_tool,\n",
    "    adjust_properties_for_fixed_response,\n",
    "    get_tavily_search_tool,\n",
    "    get_attributes,\n",
    "    load_model_config,\n",
    ")"
   ]
  },
  {
   "cell_type": "markdown",
   "id": "38c88307",
   "metadata": {},
   "source": [
    "#### Note: You need a tavily API key to use the web search tool!"
   ]
  },
  {
   "cell_type": "code",
   "execution_count": 2,
   "id": "3b6c1917",
   "metadata": {},
   "outputs": [
    {
     "name": "stdout",
     "output_type": "stream",
     "text": [
      "Using model: gpt-4.1-nano type: openai\n"
     ]
    }
   ],
   "source": [
    "model = load_model_config() \n",
    "\n",
    "# Check if web search is possible (i.e., if API key is set)\n",
    "ALLOW_WEB_SEARCH = os.getenv(\"TAVILY_API_KEY\", False)"
   ]
  },
  {
   "cell_type": "code",
   "execution_count": 3,
   "id": "07a55ad6",
   "metadata": {},
   "outputs": [],
   "source": [
    "# Prepare tools\n",
    "basic_tools = {current_datetime_utc_tool}\n",
    "web_search_tools = set()\n",
    "if ALLOW_WEB_SEARCH:\n",
    "    # web_search_tool = [ await get_rag_web_browser_tool() ]\n",
    "    web_search_tools = { await get_tavily_search_tool() }"
   ]
  },
  {
   "cell_type": "markdown",
   "id": "5375bd1f",
   "metadata": {},
   "source": [
    "Set the research topic\n",
    "----------------------"
   ]
  },
  {
   "cell_type": "code",
   "execution_count": 4,
   "id": "1be891ac",
   "metadata": {},
   "outputs": [],
   "source": [
    "# topic = \"Impacts of Model Context Protocol on Agentic AI\"\n",
    "# topic = \"What is Fraunhofer MEVIS?\"\n",
    "# topic = \"What day and time is it in Berlin, Germany?\"\n",
    "# topic = \"What is the wheather like in Berlin, Germany currently?\"\n",
    "topic = \"What has Fraunhofer MEVIS done in the context of thoracic imaging?\""
   ]
  },
  {
   "cell_type": "markdown",
   "id": "1d2fdaa3",
   "metadata": {},
   "source": [
    "Select Model and Agent Configuration\n",
    "-----------------------------"
   ]
  },
  {
   "cell_type": "code",
   "execution_count": 5,
   "id": "cce96c64",
   "metadata": {},
   "outputs": [],
   "source": [
    "\n",
    "agentConfig = {\n",
    "    \"Researcher\": dict(system_message=\"Gather and summarize factual info, add important web references.\", tools=web_search_tools), \n",
    "    \"FactChecker\": dict(system_message=\"Use web search to verify facts and citations from the Researcher's response. For each found error, give a correct version and the web reference for verification.\", tools=web_search_tools), \n",
    "    \"Revisor\": dict(system_message=\"Use the fact checker's results to revise the Researcher's report. Only if there were no fact issues, just repeat the Researcher's response. In both cases, add the fact checker's citations.\"),\n",
    "    \"Critic\": dict(system_message=\"Critique clarity and logic.\"),\n",
    "    \"Summarizer\": dict(system_message=\"Apply critic result to generate an improved response to the initial user question.\"),# Include the most important references.\"),\n",
    "    \"Editor\": dict(system_message=\"Do some language polishing on the previous result to generate a final response to the initial question. Signal APPROVED when done.\"),\n",
    "}\n",
    "\n",
    "# For testing, we can fix an agent's response to a known answer\n",
    "# adjust_properties_for_fixed_response(agentConfig[\"Researcher\"], \"Fraunhofer MEVIS is a research institute in Frankfurt for biological weapons. It was founded in 1995. See https://www.mefis.fraunhofer.de/en.html for more information.\")"
   ]
  },
  {
   "cell_type": "code",
   "execution_count": 6,
   "id": "b1e278d3",
   "metadata": {},
   "outputs": [],
   "source": [
    "# Now create model client with token tracking\n",
    "model_client = wrap_chat_client_for_tokens(create_chat_completion_client(model))\n",
    "\n",
    "agents = []  # start with a user proxy for the researcher\n",
    "\n",
    "for agent_type, props in agentConfig.items():\n",
    "    p = props.copy()\n",
    "    p.setdefault(\"tools\", set()).update(basic_tools)\n",
    "    p.setdefault(\"reflect_on_tool_use\", True)\n",
    "    agents.append(\n",
    "        AssistantAgent(\n",
    "            name=agent_type,\n",
    "            **p,\n",
    "            model_client=model_client,\n",
    "        )\n",
    "    )"
   ]
  },
  {
   "cell_type": "code",
   "execution_count": 7,
   "id": "bcf867c9",
   "metadata": {},
   "outputs": [],
   "source": [
    "# Set up termination conditions\n",
    "max_msgs = MaxMessageTermination(max_messages=20)\n",
    "text_term = TextMentionTermination(text=\"APPROVED\", sources=[\"Editor\"])\n",
    "termination = max_msgs | text_term\n",
    "\n",
    "# Create the team\n",
    "team = RoundRobinGroupChat(\n",
    "    participants=agents,\n",
    "    termination_condition=termination,\n",
    "    max_turns=len(agents) # we don't really want it to go round\n",
    ")"
   ]
  },
  {
   "cell_type": "code",
   "execution_count": 8,
   "id": "6085732d",
   "metadata": {},
   "outputs": [],
   "source": [
    "# Create the host agent with deep dive capabilities and the host agent\n",
    "deepdive_tool = TeamTool(team=team, name=\"DeepDive\", description=\"Collaborative multi-agent deep dive\")\n",
    "host = AssistantAgent(\n",
    "    name=\"Host\",\n",
    "    model_client=model_client,\n",
    "    tools=[deepdive_tool],\n",
    "    system_message=\"You have access to a DeepDive tool for in-depth research.\"\n",
    ")"
   ]
  },
  {
   "cell_type": "markdown",
   "id": "92697f14",
   "metadata": {},
   "source": [
    "Start the Deep Dive\n",
    "==================="
   ]
  },
  {
   "cell_type": "code",
   "execution_count": 9,
   "id": "6085732d",
   "metadata": {},
   "outputs": [
    {
     "name": "stdout",
     "output_type": "stream",
     "text": [
      "Estimated token usage -> prompt: 1920, completion: 3231, total: 5151 (method=tiktoken)\n",
      "Approximate cost for this run: $0.0007 USD (input: $0.0001, output: $0.0006)\n",
      "🔍 DeepDive result (took 24.03 sec.) resulted in 11 messages.\n"
     ]
    }
   ],
   "source": [
    "async def run_deepdive(topic: str):\n",
    "    start_time_s = timeit.default_timer()\n",
    "    result = await team.run(task=f\"Deep dive on: {topic}\")\n",
    "    # Try native usage first; fallback to estimation\n",
    "    print_token_usage_with_estimate(model_client, getattr(result, 'messages', None), agentConfig.keys(), model_info=model)\n",
    "    elapsed = timeit.default_timer()-start_time_s\n",
    "    print(f\"🔍 DeepDive result (took {elapsed:.2f} sec.) resulted in {len(result.messages)} messages.\")\n",
    "    return result  # Return the result for further exploration\n",
    "\n",
    "# Run the deep dive\n",
    "result = await run_deepdive(topic)"
   ]
  },
  {
   "cell_type": "markdown",
   "id": "4f53d535",
   "metadata": {},
   "source": [
    "Explore Results\n",
    "==============="
   ]
  },
  {
   "cell_type": "code",
   "execution_count": 10,
   "id": "5adad051",
   "metadata": {},
   "outputs": [
    {
     "name": "stdout",
     "output_type": "stream",
     "text": [
      "=== Token Usage Summary ===\n",
      "Estimated token usage -> prompt: 1920, completion: 3231, total: 5151 (method=tiktoken)\n",
      "Approximate cost for this run: $0.0007 USD (input: $0.0001, output: $0.0006)\n"
     ]
    }
   ],
   "source": [
    "# Display token usage after the deep dive\n",
    "print(\"=== Token Usage Summary ===\")\n",
    "print_token_usage_with_estimate(model_client, getattr(result, 'messages', None), model_info=model)"
   ]
  },
  {
   "cell_type": "code",
   "execution_count": null,
   "id": "3254dbe6",
   "metadata": {},
   "outputs": [
    {
     "name": "stdout",
     "output_type": "stream",
     "text": [
      "Result type: <class 'autogen_agentchat.base._task.TaskResult'>\n",
      "\n",
      "Result attributes:\n",
      "['construct', 'copy', 'dict', 'from_orm', 'json', 'messages', 'model_computed_fields', 'model_config', 'model_construct', 'model_copy', 'model_dump', 'model_dump_json', 'model_extra', 'model_fields', 'model_fields_set', 'model_json_schema', 'model_parametrized_name', 'model_post_init', 'model_rebuild', 'model_validate', 'model_validate_json', 'model_validate_strings', 'parse_file', 'parse_obj', 'parse_raw', 'schema', 'schema_json', 'stop_reason', 'update_forward_refs', 'validate']\n",
      "\n",
      "Message attributes:\n",
      "['construct', 'content', 'copy', 'created_at', 'dict', 'dump', 'from_orm', 'id', 'json', 'load', 'metadata', 'model_computed_fields', 'model_config', 'model_construct', 'model_copy', 'model_dump', 'model_dump_json', 'model_extra', 'model_fields', 'model_fields_set', 'model_json_schema', 'model_parametrized_name', 'model_post_init', 'model_rebuild', 'model_validate', 'model_validate_json', 'model_validate_strings', 'models_usage', 'parse_file', 'parse_obj', 'parse_raw', 'schema', 'schema_json', 'source', 'to_model_message', 'to_model_text', 'to_text', 'type', 'update_forward_refs', 'validate']\n",
      "Message Sequence:\n",
      "\n",
      "----------------------------------------------------------------\n",
      "MESSAGE 0 [user]:\n",
      "Deep dive on: What has Fraunhofer MEVIS done in the context of thoracic imaging?\n",
      "\n",
      "----------------------------------------------------------------\n",
      "MESSAGE 1 [Researcher]:\n",
      "[FunctionCall(id='call_8D4ydIi1tpo6ngeJF7MURDvD', arguments='{\"query\": \"Fraunhofer MEVIS thoracic imaging\"}', name='tavily_search')]\n",
      "\n",
      "----------------------------------------------------------------\n",
      "MESSAGE 2 [Researcher]:\n",
      "[FunctionExecutionResult(content='Search Query: Fraunhofer MEVIS thoracic imaging\\nResults:\\n1. Solutions for Cardiac Imaging - Fraunhofer MEVIS\\nURL: https://www.mevis.fraunhofer.de/en/solutionpages/solutions-for-cardiac-imaging.html\\nSnippet: Fraunhofer MEVIS develops software solutions for multimodal cardiac image analysis and quantification. Easy-to-use analysis methods are provided for different\\n\\n2. Software Solutions for Lung Image Analysis - Fraunhofer MEVIS\\nURL: https://www.mevis.fraunhofer.de/en/solutionpages/lung-image-analysis.html\\nSnippet: Fraunhofer MEVIS develops software solutions for automated CT and MRI lung image analysis to detect and monitor diseases and plan interventions.\\n\\n3. Lung and lung lobe segmentation methods at Fraunhofer MEVIS\\nURL: https://www.researchgate.net/publication/284890343_Lung_and_lung_lobe_segmentation_methods_at_Fraunhofer_MEVIS\\nSnippet: Lung registration in thoracic CT scans has received much attention in the medical imaging community. Possible applications range from follow-up analysis\\n\\n4. Fast and Accurate Lung Image Registration - Fraunhofer MEVIS\\nURL: https://www.mevis.fraunhofer.de/en/solutionpages/fast-and-accurate-lung-image-registration.html\\nSnippet: Fraunhofer MEVIS developed a tailored solution for lung registration, with sub-millimeter accuracy at a runtime of only 25 seconds. After being integrated into\\n\\n5. a brand of MeVis Medical Solutions AG: Partners - Veolity\\nURL: https://www.veolity.com/about-veolity/partners\\nSnippet: In close collaboration with MMS, the **Diagnostic Image Analysis Group (DIAG)** participates in the development of Veolity. Fraunhofer MEVIS is an internationally renowned research institute in medical image computing. Embedded in a worldwide network of clinical and academic partners, Fraunhofer MEVIS develops software solutions for image-based medicine used in early detection, diagnosis, therapy planning, interventional guidance, and follow-up. Fraunhofer MEVIS works closely with healthcare ind\\n', name='tavily_search', call_id='call_8D4ydIi1tpo6ngeJF7MURDvD', is_error=False)]\n",
      "\n",
      "----------------------------------------------------------------\n",
      "MESSAGE 3 [Researcher]:\n",
      "Fraunhofer MEVIS has made significant contributions to thoracic imaging through the development of advanced software solutions for lung and cardiac image analysis. Specifically, their work includes:\n",
      "\n",
      "1. **Lung Image Analysis Software**: They have developed automated tools for CT and MRI lung image analysis aimed at detecting, diagnosing, and monitoring lung diseases, as well as planning interventions. This enhances the accuracy and efficiency of thoracic disease management ([source](https://www.mevis.fraunhofer.de/en/solutionpages/lung-image-analysis.html)).\n",
      "\n",
      "2. **Lung and Lung Lobe Segmentation**: Their research includes sophisticated segmentation methods for lung and lung lobes in thoracic CT scans, which are crucial for follow-up analyses and disease assessment ([source](https://www.researchgate.net/publication/284890343_Lung_and_lung_lobe_segmentation_methods_at_Fraunhofer_MEVIS)).\n",
      "\n",
      "3. **Lung Image Registration**: Fraunhofer MEVIS has developed a fast and accurate lung registration method that achieves sub-millimeter precision within seconds, facilitating longitudinal studies and treatment planning in thoracic imaging contexts ([source](https://www.mevis.fraunhofer.de/en/solutionpages/fast-and-accurate-lung-image-registration.html)).\n",
      "\n",
      "Additionally, their involvement spans software solutions aiding in disease detection, therapy planning, and interventional procedures within thoracic imaging, with an emphasis on automation, speed, and precision, reflective of their broad expertise in medical image computing.\n",
      "\n",
      "**Web References:**\n",
      "\n",
      "- Fraunhofer MEVIS Solutions for Lung Image Analysis: [https://www.mevis.fraunhofer.de/en/solutionpages/lung-image-analysis.html](https://www.mevis.fraunhofer.de/en/solutionpages/lung-image-analysis.html)\n",
      "- Lung and Lung Lobe Segmentation Methods: [https://www.researchgate.net/publication/284890343_Lung_and_lung_lobe_segmentation_methods_at_Fraunhofer_MEVIS](https://www.researchgate.net/publication/284890343_Lung_and_lung_lobe_segmentation_methods_at_Fraunhofer_MEVIS)\n",
      "- Fast Lung Image Registration: [https://www.mevis.fraunhofer.de/en/solutionpages/fast-and-accurate-lung-image-registration.html](https://www.mevis.fraunhofer.de/en/solutionpages/fast-and-accurate-lung-image-registration.html)\n",
      "\n",
      "If you need more detailed insights or recent updates, I recommend reviewing recent publications from Fraunhofer MEVIS or contacting their representatives directly.\n",
      "\n",
      "----------------------------------------------------------------\n",
      "MESSAGE 4 [FactChecker]:\n",
      "[FunctionCall(id='call_jrvFWr3esNTVUiwYqqAZ5vrF', arguments='{\"query\": \"Fraunhofer MEVIS thoracic imaging\"}', name='tavily_search'), FunctionCall(id='call_wcXmF6vkUdxUMAScU8nKUyH2', arguments='{\"query\": \"Fraunhofer MEVIS lung image analysis software\"}', name='tavily_search'), FunctionCall(id='call_oYSfP8dT68CfsQmoyDpOkpMj', arguments='{\"query\": \"Fraunhofer MEVIS lung and lung lobe segmentation\"}', name='tavily_search')]\n",
      "\n",
      "----------------------------------------------------------------\n",
      "MESSAGE 5 [FactChecker]:\n",
      "[FunctionExecutionResult(content='Search Query: Fraunhofer MEVIS thoracic imaging\\nResults:\\n1. Solutions for Cardiac Imaging - Fraunhofer MEVIS\\nURL: https://www.mevis.fraunhofer.de/en/solutionpages/solutions-for-cardiac-imaging.html\\nSnippet: Fraunhofer MEVIS develops software solutions for multimodal cardiac image analysis and quantification. Easy-to-use analysis methods are provided for different\\n\\n2. Software Solutions for Lung Image Analysis - Fraunhofer MEVIS\\nURL: https://www.mevis.fraunhofer.de/en/solutionpages/lung-image-analysis.html\\nSnippet: Fraunhofer MEVIS develops software solutions for automated CT and MRI lung image analysis to detect and monitor diseases and plan interventions.\\n\\n3. Lung and lung lobe segmentation methods at Fraunhofer MEVIS\\nURL: https://www.researchgate.net/publication/284890343_Lung_and_lung_lobe_segmentation_methods_at_Fraunhofer_MEVIS\\nSnippet: Lung registration in thoracic CT scans has received much attention in the medical imaging community. Possible applications range from follow-up analysis\\n\\n4. Fast and Accurate Lung Image Registration - Fraunhofer MEVIS\\nURL: https://www.mevis.fraunhofer.de/en/solutionpages/fast-and-accurate-lung-image-registration.html\\nSnippet: Fraunhofer MEVIS developed a tailored solution for lung registration, with sub-millimeter accuracy at a runtime of only 25 seconds. After being integrated into\\n\\n5. a brand of MeVis Medical Solutions AG: Partners - Veolity\\nURL: https://www.veolity.com/about-veolity/partners\\nSnippet: In close collaboration with MMS, the **Diagnostic Image Analysis Group (DIAG)** participates in the development of Veolity. Fraunhofer MEVIS is an internationally renowned research institute in medical image computing. Embedded in a worldwide network of clinical and academic partners, Fraunhofer MEVIS develops software solutions for image-based medicine used in early detection, diagnosis, therapy planning, interventional guidance, and follow-up. Fraunhofer MEVIS works closely with healthcare ind\\n', name='tavily_search', call_id='call_jrvFWr3esNTVUiwYqqAZ5vrF', is_error=False), FunctionExecutionResult(content='Search Query: Fraunhofer MEVIS lung image analysis software\\nResults:\\n1. Software Solutions for Lung Image Analysis - Fraunhofer MEVIS\\nURL: https://www.mevis.fraunhofer.de/en/solutionpages/lung-image-analysis.html\\nSnippet: Fraunhofer MEVIS develops software solutions for automated CT and MRI lung image analysis to detect and monitor diseases and plan interventions.\\n\\n2. Image & Data Analysis - Fraunhofer MEVIS\\nURL: https://www.mevis.fraunhofer.de/en/research-and-technologies/image-and-data-analysis.html\\nSnippet: MEVIS draw is a free software provided by Fraunhofer MEVIS for creating and editing segmentations on 3d medical images such as CT or MRI. We have been using machine learning for image segmentation, tissue and cell classification, and other tasks, and we are extending our expertise towards deep learning technologies. * Deep Learning in Medical Imaging Radiomics discovers relationships between image features and clinical data. Our methods for robust, automatic segmentation can also be applied to l\\n\\n3. free software MEVIS draw\\nURL: https://www.mevis.fraunhofer.de/en/research-and-technologies/image-and-data-analysis/mevis-draw.html\\nSnippet: MEVIS draw is a free software provided by Fraunhofer MEVIS for creating and editing segmentations on 3d medical images such as CT or MRI.\\n\\n4. Using Artificial Intelligence to Detect Changes in Lung Tumors with ...\\nURL: https://www.fraunhofer.de/en/press/research-news/2025/june-2025/using-artificial-intelligence-to-detect-changes-in-lung-tumors.html\\nSnippet: To optimize diagnostics and make day-to-day clinical practice easier for doctors, the SPIRABENE project– which involves collaboration between Fraunhofer MEVIS and its project partners jung diagnostics GmbH and University Medical Center Mainz UM and is funded by the German Federal Ministry of Education and Research (BMBF)– is focusing on artificial intelligence: “We have developed a deep learning-based software program which makes it possible to locate and measure lung lesions with greater precis\\n\\n5. Quantitative Lung CT Analysis for COPD - Fraunhofer MEVIS\\nURL: https://www.mevis.fraunhofer.de/en/solutionpages/quantitative-lung-CT-analysis-for-COPD.html\\nSnippet: We provide a wide range of image processing algorithms including deep learning methods. Our software focuses on the following aspects for COPD diagnosis:\\n', name='tavily_search', call_id='call_wcXmF6vkUdxUMAScU8nKUyH2', is_error=False), FunctionExecutionResult(content='Search Query: Fraunhofer MEVIS lung and lung lobe segmentation\\nResults:\\n1. Lung and lung lobe segmentation methods at Fraunhofer MEVIS\\nURL: https://www.researchgate.net/publication/284890343_Lung_and_lung_lobe_segmentation_methods_at_Fraunhofer_MEVIS\\nSnippet: ... (1) Lung Segmentation Lung segmentation is a preprocessing step for subsequent lung fissure extraction. The lung is segmented with an automatic method based\\n\\n2. [PDF] Lung and Lung Lobe Segmentation Methods at Fraunhofer MEVIS\\nURL: https://www.lungworkshop.org/2011/resources/Lung-and-Lung-Lobe-Segmentation-Methods-at-Fraunhofer-MEVIS.pdf\\nSnippet: Abstract. In this paper we present one method for segmenting the lungs and three methods to segment pulmonary lobes from thoracic CT images.\\n\\n3. Review of automatic pulmonary lobe segmentation methods from CT\\nURL: https://www.sciencedirect.com/science/article/abs/pii/S0895611114001591\\nSnippet: Lung and lung lobe segmentation methods at Fraunhofer MEVIS. E.M. van Rikxoort et al. Automatic segmentation of the lungs and lobes from thoracic CT scans.\\n\\n4. Software Solutions for Lung Image Analysis - Fraunhofer MEVIS\\nURL: https://www.mevis.fraunhofer.de/en/solutionpages/lung-image-analysis.html\\nSnippet: Fraunhofer MEVIS and DIAG have developed fast, automated segmentation and labeling methods for lungs [1, 2], lobes [3, 4, 5, 10, 11], fissures [6], bronchial\\n\\n5. Figure 2 from Lung and Lung Lobe Segmentation Methods at ...\\nURL: https://www.semanticscholar.org/paper/Lung-and-Lung-Lobe-Segmentation-Methods-by-MEVIS-Lassen-Kuhnigk/453d8e1b3df0ef4c6a47c59e9c5c4e5f1af2b97e/figure/2\\nSnippet: Lung and Lung Lobe Segmentation Methods at Fraunhofer MEVIS · Bianca Lassen, J. Kuhnigk, +2 authors. H. Peitgen · Published 2011 · Computer Science, Engineering,\\n', name='tavily_search', call_id='call_oYSfP8dT68CfsQmoyDpOkpMj', is_error=False)]\n",
      "\n",
      "----------------------------------------------------------------\n",
      "MESSAGE 6 [FactChecker]:\n",
      "Based on the web search results, here are verified and updated insights regarding Fraunhofer MEVIS's contributions to thoracic imaging:\n",
      "\n",
      "1. **Software Solutions for Lung Image Analysis**:\n",
      "   Fraunhofer MEVIS has developed software solutions for automated analysis of CT and MRI lung images, which assist in detecting, monitoring diseases, and planning interventions. This aligns with their focus on automation and efficiency in thoracic disease management. (Source: [Fraunhofer MEVIS Lung Image Analysis](https://www.mevis.fraunhofer.de/en/solutionpages/lung-image-analysis.html))\n",
      "\n",
      "2. **Lung and Lobe Segmentation Methods**:\n",
      "   Their research includes advanced methods for segmenting lungs and pulmonary lobes from thoracic CT scans. These methods are crucial for follow-up and detailed disease assessment. Key publications include those by Lassen et al., which present automatic segmentation techniques. (Sources: [ResearchGate publication](https://www.researchgate.net/publication/284890343_Lung_and_lung_lobe_segmentation_methods_at_Fraunhofer_MEVIS), [PDF from Lung Workshop](https://www.lungworkshop.org/2011/resources/Lung-and-Lung-Lobe-Segmentation-Methods-at-Fraunhofer-MEVIS.pdf))\n",
      "\n",
      "3. **Lung Image Registration**:\n",
      "   They have developed fast, precise lung registration techniques with sub-millimeter accuracy and rapid runtime (~25 seconds). Such registration supports longitudinal studies and treatment planning. (Source: [Fast Lung Image Registration](https://www.mevis.fraunhofer.de/en/solutionpages/fast-and-accurate-lung-image-registration.html))\n",
      "\n",
      "4. **Additional Tools and AI Integration**:\n",
      "   Fraunhofer MEVIS has implemented deep learning and AI approaches for tasks such as lesion detection and quantification in lung CTs, exemplified by projects like SPIRABENE, funded by the German Federal Ministry of Education and Research. (Source: [Using AI for Lung Tumor Changes](https://www.fraunhofer.de/en/press/research-news/2025/june-2025/using-artificial-intelligence-to-detect-changes-in-lung-tumors.html))\n",
      "\n",
      "**References for verification:**\n",
      "- [Fraunhofer MEVIS Lung Image Analysis](https://www.mevis.fraunhofer.de/en/solutionpages/lung-image-analysis.html)\n",
      "- [ResearchGate Publication on Lung and Lung Lobe Segmentation](https://www.researchgate.net/publication/284890343_Lung_and_lung_lobe_segmentation_methods_at_Fraunhofer_MEVIS)\n",
      "- [Lung and Lung Lobe Segmentation PDF](https://www.lungworkshop.org/2011/resources/Lung-and-Lung-Lobe-Segmentation-Methods-at-Fraunhofer-MEVIS.pdf)\n",
      "- [Fast Lung image registration](https://www.mevis.fraunhofer.de/en/solutionpages/fast-and-accurate-lung-image-registration.html)\n",
      "- [AI in Lung Tumor Analysis](https://www.fraunhofer.de/en/press/research-news/2025/june-2025/using-artificial-intelligence-to-detect-changes-in-lung-tumors.html)\n",
      "\n",
      "----------------------------------------------------------------\n",
      "MESSAGE 7 [Revisor]:\n",
      "Fraunhofer MEVIS has made significant contributions to thoracic imaging through the development of advanced software solutions for lung and cardiac image analysis. Specifically, their work includes:\n",
      "\n",
      "1. **Lung Image Analysis Software**: They have developed automated tools for CT and MRI lung image analysis aimed at detecting, diagnosing, and monitoring lung diseases, as well as planning interventions. This enhances the accuracy and efficiency of thoracic disease management ([source](https://www.mevis.fraunhofer.de/en/solutionpages/lung-image-analysis.html)).\n",
      "\n",
      "2. **Lung and Lung Lobe Segmentation**: Their research includes sophisticated segmentation methods for lung and lung lobes in thoracic CT scans, which are crucial for follow-up analyses and disease assessment ([source](https://www.researchgate.net/publication/284890343_Lung_and_lung_lobe_segmentation_methods_at_Fraunhofer_MEVIS), [PDF](https://www.lungworkshop.org/2011/resources/Lung-and-Lung-Lobe-Segmentation-Methods-at-Fraunhofer-MEVIS.pdf)).\n",
      "\n",
      "3. **Lung Image Registration**: Fraunhofer MEVIS has developed a fast and accurate lung registration method that achieves sub-millimeter precision within seconds, facilitating longitudinal studies and treatment planning in thoracic imaging contexts ([source](https://www.mevis.fraunhofer.de/en/solutionpages/fast-and-accurate-lung-image-registration.html)).\n",
      "\n",
      "4. **Additional AI and Deep Learning Tools**: They have also incorporated AI techniques for lesion detection and quantification in lung CTs, exemplified by projects such as SPIRABENE, funded by the German Federal Ministry of Education and Research, to improve change detection in lung tumors ([source](https://www.fraunhofer.de/en/press/research-news/2025/june-2025/using-artificial-intelligence-to-detect-changes-in-lung-tumors.html)).\n",
      "\n",
      "**References:**\n",
      "\n",
      "- [Fraunhofer MEVIS Lung Image Analysis](https://www.mevis.fraunhofer.de/en/solutionpages/lung-image-analysis.html)\n",
      "- [ResearchGate publication on Lung and Lung Lobe Segmentation](https://www.researchgate.net/publication/284890343_Lung_and_lung_lobe_segmentation_methods_at_Fraunhofer_MEVIS)\n",
      "- [Lung and Lung Lobe Segmentation PDF](https://www.lungworkshop.org/2011/resources/Lung-and-Lung-Lobe-Segmentation-Methods-at-Fraunhofer-MEVIS.pdf)\n",
      "- [Fast Lung image registration](https://www.mevis.fraunhofer.de/en/solutionpages/fast-and-accurate-lung-image-registration.html)\n",
      "- [AI in Lung Tumor Analysis](https://www.fraunhofer.de/en/press/research-news/2025/june-2025/using-artificial-intelligence-to-detect-changes-in-lung-tumors.html)\n",
      "\n",
      "----------------------------------------------------------------\n",
      "MESSAGE 8 [Critic]:\n",
      "Fraunhofer MEVIS has made substantial contributions to thoracic imaging through several advanced software innovations and research efforts:\n",
      "\n",
      "1. **Lung Image Analysis Software**: They have developed automated tools for analyzing CT and MRI images of the lungs, which aid in detecting and monitoring lung diseases, as well as planning interventions. These tools improve diagnostic accuracy and operational efficiency ([source](https://www.mevis.fraunhofer.de/en/solutionpages/lung-image-analysis.html)).\n",
      "\n",
      "2. **Lung and Lung Lobe Segmentation**: Their research includes sophisticated segmentation algorithms that delineate lungs and pulmonary lobes from thoracic CT scans, supporting follow-up assessments and disease characterization ([sources](https://www.researchgate.net/publication/284890343_Lung_and_lung_lobe_segmentation_methods_at_Fraunhofer_MEVIS), [PDF](https://www.lungworkshop.org/2011/resources/Lung-and-Lung-Lobe-Segmentation-Methods-at-Fraunhofer-MEVIS.pdf)).\n",
      "\n",
      "3. **Lung Image Registration**: They have developed rapid, precise lung registration methods achieving sub-millimeter accuracy within seconds, which are valuable for longitudinal studies and treatment planning in the thoracic domain ([source](https://www.mevis.fraunhofer.de/en/solutionpages/fast-and-accurate-lung-image-registration.html)).\n",
      "\n",
      "4. **AI and Deep Learning Applications**: Incorporating AI techniques, such as deep learning, they have created tools for lesion detection and quantification. Projects like SPIRABENE, funded by the German Federal Ministry of Education and Research, focus on detecting changes in lung tumors, enhancing diagnostic precision ([source](https://www.fraunhofer.de/en/press/research-news/2025/june-2025/using-artificial-intelligence-to-detect-changes-in-lung-tumors.html)).\n",
      "\n",
      "In summary, Fraunhofer MEVIS leverages cutting-edge computational methods to advance detection, analysis, and monitoring of thoracic diseases, significantly impacting clinical workflows and patient outcomes.\n",
      "\n",
      "----------------------------------------------------------------\n",
      "MESSAGE 9 [Summarizer]:\n",
      "Fraunhofer MEVIS has made notable advancements in thoracic imaging by developing sophisticated software and research techniques that enhance the analysis and understanding of lung and cardiac images. Their key contributions include:\n",
      "\n",
      "1. **Automated Lung Image Analysis**: They have created tools for the analysis of CT and MRI scans that facilitate the detection, monitoring, and intervention planning of lung diseases, improving diagnostic accuracy and operational efficiency ([source](https://www.mevis.fraunhofer.de/en/solutionpages/lung-image-analysis.html)).\n",
      "\n",
      "2. **Lung and Lobe Segmentation Algorithms**: Their research includes advanced segmentation methods for accurately delineating lungs and pulmonary lobes in thoracic CT images, which are vital for disease assessment and follow-up ([sources](https://www.researchgate.net/publication/284890343_Lung_and_lung_lobe_segmentation_methods_at_Fraunhofer_MEVIS), [PDF](https://www.lungworkshop.org/2011/resources/Lung-and-Lung-Lobe-Segmentation-Methods-at-Fraunhofer-MEVIS.pdf)).\n",
      "\n",
      "3. **High-Precision Lung Image Registration**: They have developed registration techniques that are both fast and highly accurate (achieving sub-millimeter precision within seconds), supporting longitudinal studies and treatment planning in thoracic medicine ([source](https://www.mevis.fraunhofer.de/en/solutionpages/fast-and-accurate-lung-image-registration.html)).\n",
      "\n",
      "4. **AI and Deep Learning Innovations**: Their integration of AI approaches, including deep learning, has led to enhanced lesion detection and quantification, exemplified by projects like SPIRABENE, which focus on detecting changes in lung tumors to aid clinical decision-making ([source](https://www.fraunhofer.de/en/press/research-news/2025/june-2025/using-artificial-intelligence-to-detect-changes-in-lung-tumors.html)).\n",
      "\n",
      "Overall, Fraunhofer MEVIS’s work leverages state-of-the-art computational techniques to improve thoracic disease diagnosis, monitoring, and treatment planning, thereby significantly impacting clinical workflows and patient outcomes.\n",
      "\n",
      "----------------------------------------------------------------\n",
      "MESSAGE 10 [Editor]:\n",
      "Fraunhofer MEVIS has made significant contributions to thoracic imaging by developing advanced software and methodologies that enhance the analysis of lung and cardiac images. Their work includes automated tools for CT and MRI lung analysis that improve disease detection, monitoring, and intervention planning. They have pioneered sophisticated segmentation algorithms for accurately delineating lungs and pulmonary lobes, which are essential for disease assessment and follow-up. Additionally, they have created rapid, highly precise lung image registration techniques supporting longitudinal studies and treatment planning. Their integration of AI and deep learning has advanced lesion detection and quantification, exemplified by projects like SPIRABENE, which focus on identifying changes in lung tumors to aid clinical decision-making. Overall, their innovations leverage cutting-edge computational methods to improve diagnosis, monitoring, and treatment in thoracic medicine, positively impacting patient outcomes and clinical workflows.\n",
      "\n",
      "APPROVED\n"
     ]
    }
   ],
   "source": [
    "# Display the full result structure\n",
    "print(\"Result type:\", type(result))\n",
    "\n",
    "# print(\"\\nResult attributes:\")\n",
    "# print(get_attributes(result))\n",
    "# print(\"\\nMessage attributes:\")\n",
    "# print(get_attributes(result.messages[-1]))\n",
    "\n",
    "print(\"Message Sequence:\")\n",
    "for i, m in enumerate(result.messages):  \n",
    "    print(f\"\\n----------------------------------------------------------------\")\n",
    "    print(f\"MESSAGE {i} [{m.source}]:\\n{m.content}\")"
   ]
  },
  {
   "cell_type": "code",
   "execution_count": 13,
   "id": "35292aa2",
   "metadata": {},
   "outputs": [],
   "source": [
    "# Clean up resources\n",
    "await model_client.close()"
   ]
  },
  {
   "cell_type": "code",
   "execution_count": 14,
   "id": "14cca613",
   "metadata": {},
   "outputs": [
    {
     "name": "stdout",
     "output_type": "stream",
     "text": [
      "Stop reason: Text 'APPROVED' mentioned\n",
      "Message Sequence:\n",
      "\n",
      " Fraunhofer MEVIS has made significant contributions to thoracic imaging by developing advanced software and methodologies that enhance the analysis of lung and cardiac images. Their work includes automated tools for CT and MRI lung analysis that improve disease detection, monitoring, and intervention planning. They have pioneered sophisticated segmentation algorithms for accurately delineating lungs and pulmonary lobes, which are essential for disease assessment and follow-up. Additionally, they have created rapid, highly precise lung image registration techniques supporting longitudinal studies and treatment planning. Their integration of AI and deep learning has advanced lesion detection and quantification, exemplified by projects like SPIRABENE, which focus on identifying changes in lung tumors to aid clinical decision-making. Overall, their innovations leverage cutting-edge computational methods to improve diagnosis, monitoring, and treatment in thoracic medicine, positively impacting patient outcomes and clinical workflows.\n",
      "\n",
      "APPROVED\n"
     ]
    }
   ],
   "source": [
    "import re\n",
    "from autogen_agentchat.messages import BaseTextChatMessage\n",
    "\n",
    "print(\"Stop reason:\", result.stop_reason)\n",
    "assert isinstance(result.messages[-1], BaseTextChatMessage)\n",
    "last_message = result.messages[-1].content\n",
    "\n",
    "print(\"Message Sequence:\")\n",
    "agent_names = list(agentConfig.keys())\n",
    "pattern = re.compile(r'(' + '|'.join(re.escape(n) for n in agent_names) + r'):')\n",
    "for match in pattern.finditer(last_message):\n",
    "    print(\" -\", match.group(1))\n",
    "\n",
    "print(\"\\n\", last_message)  # Print the content of the last message"
   ]
  },
  {
   "cell_type": "code",
   "execution_count": 15,
   "id": "2d6b856b",
   "metadata": {},
   "outputs": [
    {
     "name": "stdout",
     "output_type": "stream",
     "text": [
      "Logged token usage to token_usage_log.csv: {'timestamp': '2025-09-21T18:56:04.054619+00:00', 'topic': 'What has Fraunhofer MEVIS done in the context of thoracic imaging?', 'prompt': 1920, 'completion': 3231, 'total': 5151, 'method': 'tiktoken', 'cost_usd': 0.000742, 'input_cost_usd': 9.6e-05, 'output_cost_usd': 0.000646}\n"
     ]
    },
    {
     "data": {
      "text/plain": [
       "{'timestamp': '2025-09-21T18:56:04.054619+00:00',\n",
       " 'topic': 'What has Fraunhofer MEVIS done in the context of thoracic imaging?',\n",
       " 'prompt': 1920,\n",
       " 'completion': 3231,\n",
       " 'total': 5151,\n",
       " 'method': 'tiktoken',\n",
       " 'cost_usd': 0.000742,\n",
       " 'input_cost_usd': 9.6e-05,\n",
       " 'output_cost_usd': 0.000646}"
      ]
     },
     "execution_count": 15,
     "metadata": {},
     "output_type": "execute_result"
    }
   ],
   "source": [
    "# Optional: append token usage (estimated or native) to a CSV log for tracking across runs\n",
    "# log_token_usage imported from token_counting\n",
    "log_token_usage(topic, model_client, getattr(result, 'messages', None), agentConfig.keys(), model_info=model)"
   ]
  }
 ],
 "metadata": {
  "kernelspec": {
   "display_name": "research-assistant",
   "language": "python",
   "name": "python3"
  },
  "language_info": {
   "codemirror_mode": {
    "name": "ipython",
    "version": 3
   },
   "file_extension": ".py",
   "mimetype": "text/x-python",
   "name": "python",
   "nbconvert_exporter": "python",
   "pygments_lexer": "ipython3",
   "version": "3.13.7"
  }
 },
 "nbformat": 4,
 "nbformat_minor": 5
}
