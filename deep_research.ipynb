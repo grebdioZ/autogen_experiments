{
 "cells": [
  {
   "cell_type": "markdown",
   "id": "842d4017",
   "metadata": {},
   "source": [
    "# Deep Research with AutoGen\n",
    "\n",
    "This notebook implements a multi-agent deep research system using AutoGen. It creates a team of specialized agents that collaborate to perform in-depth research on a given topic."
   ]
  },
  {
   "cell_type": "code",
   "execution_count": 4,
   "id": "9d8054ba",
   "metadata": {},
   "outputs": [],
   "source": [
    "import os, nest_asyncio\n",
    "nest_asyncio.apply()\n",
    "import asyncio\n",
    "import timeit\n",
    "from autogen_ext.models.ollama import OllamaChatCompletionClient\n",
    "from autogen_ext.models.openai import OpenAIChatCompletionClient\n",
    "from autogen_agentchat.agents import AssistantAgent\n",
    "from autogen_agentchat.teams import RoundRobinGroupChat\n",
    "from autogen_agentchat.conditions import MaxMessageTermination, TextMentionTermination\n",
    "from autogen_agentchat.tools import TeamTool\n",
    "# or import\n",
    "from autogen_core.models import ModelInfo\n",
    "import yaml\n",
    "\n",
    "from tools import create_chat_completion_client"
   ]
  },
  {
   "cell_type": "code",
   "execution_count": 5,
   "id": "3b6c1917",
   "metadata": {},
   "outputs": [
    {
     "name": "stdout",
     "output_type": "stream",
     "text": [
      "Using model: gpt-4.1-nano type: openai\n"
     ]
    }
   ],
   "source": [
    "# load model info from resources.yaml\n",
    "with open(\"resources.yaml\", \"r\") as f:\n",
    "    resources = yaml.load(f, Loader=yaml.SafeLoader)\n",
    "model = [m for m in resources[\"models\"] if m.get(\"default\", False)][0]\n",
    "print(\"Using model:\", model[\"name\"], \"type:\", model[\"type\"])\n",
    "    \n",
    "model_client = create_chat_completion_client(model)"
   ]
  },
  {
   "cell_type": "code",
   "execution_count": 6,
   "id": "07a55ad6",
   "metadata": {},
   "outputs": [],
   "source": [
    "# Token usage tracking\n",
    "from token_counting import (\n",
    "    wrap_chat_client_for_tokens,\n",
    "    print_token_usage,\n",
    "    print_token_usage_with_estimate,\n",
    "    estimate_conversation_tokens,\n",
    "    log_token_usage,\n",
    ")\n",
    "\n",
    "# Wrap existing model_client (created in the previous cell)\n",
    "model_client = wrap_chat_client_for_tokens(model_client)"
   ]
  },
  {
   "cell_type": "code",
   "execution_count": null,
   "id": "cce96c64",
   "metadata": {},
   "outputs": [],
   "source": [
    "# Create specialized agents\n",
    "agentConfig = {\n",
    "    \"Researcher\":  dict(system_message=\"Gather and summarize factual info.\"),\n",
    "    \"FactChecker\": dict(system_message=\"Verify facts and cite sources.\"), # TODO: should get a tool to access the internet and fact-check?\n",
    "    \"Critic\": dict(system_message=\"Critique clarity and logic.\"),\n",
    "    \"Summarizer\": dict(system_message=\"Apply critic result and condense into a brief executive summary.\"),\n",
    "    \"Editor\": dict(system_message=\"Do some language polishing on the summarizer result. Signal APPROVED when done.\"),\n",
    "}\n",
    "\n",
    "agents = []\n",
    "for agent_type, props in agentConfig.items():\n",
    "    agents.append(AssistantAgent(name=agent_type, **props, model_client=model_client))\n",
    "\n",
    "# Set up termination conditions\n",
    "max_msgs = MaxMessageTermination(max_messages=20)\n",
    "text_term = TextMentionTermination(text=\"APPROVED\", sources=[\"Editor\"])\n",
    "termination = max_msgs | text_term\n",
    "\n",
    "# Create the team\n",
    "team = RoundRobinGroupChat(\n",
    "    participants=agents,\n",
    "    termination_condition=termination\n",
    ")"
   ]
  },
  {
   "cell_type": "code",
   "execution_count": 8,
   "id": "6085732d",
   "metadata": {},
   "outputs": [],
   "source": [
    "# Create the host agent with deep dive capabilities\n",
    "deepdive_tool = TeamTool(team=team, name=\"DeepDive\", description=\"Collaborative multi-agent deep dive\")\n",
    "\n",
    "host = AssistantAgent(\n",
    "    name=\"Host\",\n",
    "    model_client=model_client,\n",
    "    tools=[deepdive_tool],\n",
    "    system_message=\"You have access to a DeepDive tool for in-depth research.\"\n",
    ")"
   ]
  },
  {
   "cell_type": "code",
   "execution_count": null,
   "id": "6085732d",
   "metadata": {},
   "outputs": [
    {
     "name": "stdout",
     "output_type": "stream",
     "text": [
      "Estimated token usage -> prompt: 3146, completion: 3541, total: 6687 (method=heuristic)\n",
      "🔍 DeepDive result (took 28.15 sec.) resulted in 10 messages.\n"
     ]
    }
   ],
   "source": [
    "async def run_deepdive(topic: str):\n",
    "    start_time_s = timeit.default_timer()\n",
    "    result = await host.run(task=f\"Deep dive on: {topic}\")\n",
    "    # Try native usage first; fallback to estimation\n",
    "    print_token_usage_with_estimate(model_client, getattr(result, 'messages', None), agentConfig.keys())\n",
    "    elapsed = timeit.default_timer()-start_time_s\n",
    "    print(f\"🔍 DeepDive result (took {elapsed:.2f} sec.) resulted in {len(result.messages)} messages.\")\n",
    "    return result  # Return the result for further exploration\n",
    "\n",
    "# Set your research topic\n",
    "# topic = \"Impacts of Model Context Protocol on Agentic AI\"\n",
    "topic = \"What is Fraunhofer MEVIS?\"\n",
    "\n",
    "# Run the deep dive\n",
    "result = await run_deepdive(topic)"
   ]
  },
  {
   "cell_type": "code",
   "execution_count": 10,
   "id": "5adad051",
   "metadata": {},
   "outputs": [
    {
     "name": "stdout",
     "output_type": "stream",
     "text": [
      "=== Token Usage Summary ===\n",
      "Estimated token usage -> prompt: 3146, completion: 3541, total: 6687 (method=heuristic)\n"
     ]
    }
   ],
   "source": [
    "# Display token usage after the deep dive\n",
    "print(\"=== Token Usage Summary ===\")\n",
    "print_token_usage_with_estimate(model_client, getattr(result, 'messages', None))"
   ]
  },
  {
   "cell_type": "markdown",
   "id": "891171a7",
   "metadata": {},
   "source": [
    "## Explore the Results\n",
    "\n",
    "Now that we have the results, let's explore them. The cells below will help you analyze the output."
   ]
  },
  {
   "cell_type": "code",
   "execution_count": 11,
   "id": "3254dbe6",
   "metadata": {},
   "outputs": [
    {
     "name": "stdout",
     "output_type": "stream",
     "text": [
      "Result type: <class 'autogen_agentchat.base._task.TaskResult'>\n",
      "\n",
      "Result attributes:\n",
      "['construct', 'copy', 'dict', 'from_orm', 'json', 'messages', 'model_computed_fields', 'model_config', 'model_construct', 'model_copy', 'model_dump', 'model_dump_json', 'model_extra', 'model_fields', 'model_fields_set', 'model_json_schema', 'model_parametrized_name', 'model_post_init', 'model_rebuild', 'model_validate', 'model_validate_json', 'model_validate_strings', 'parse_file', 'parse_obj', 'parse_raw', 'schema', 'schema_json', 'stop_reason', 'update_forward_refs', 'validate']\n"
     ]
    }
   ],
   "source": [
    "# Display the full result structure\n",
    "print(\"Result type:\", type(result))\n",
    "print(\"\\nResult attributes:\")\n",
    "print([attr for attr in dir(result) if not attr.startswith('_')])"
   ]
  },
  {
   "cell_type": "code",
   "execution_count": 12,
   "id": "35292aa2",
   "metadata": {},
   "outputs": [],
   "source": [
    "# Clean up resources\n",
    "await model_client.close()"
   ]
  },
  {
   "cell_type": "code",
   "execution_count": 13,
   "id": "14cca613",
   "metadata": {},
   "outputs": [
    {
     "name": "stdout",
     "output_type": "stream",
     "text": [
      "Stop reason: None\n",
      "Message Sequence:\n",
      " - Researcher\n",
      " - FactChecker\n",
      " - Critic\n",
      " - Summarizer\n",
      " - Editor\n",
      "\n",
      " Researcher: The **Model Context Protocol** (MCP) significantly influences the development and behavior of agentic AI systems by shaping how models interpret, process, and utilize contextual information. Its impacts can be summarized as follows:\n",
      "\n",
      "1. **Enhanced Contextual Understanding**: Implementing robust MCP ensures agents can accurately interpret ongoing dialogues, environmental cues, and user intents, leading to more relevant and coherent responses.\n",
      "\n",
      "2. **Improved Decision-Making and Autonomy**: By establishing clear protocols for context management, agents can make more autonomous decisions aligned with the current situation, thereby increasing their agency and effectiveness.\n",
      "\n",
      "3. **Consistency and Stability**: MCP helps maintain consistency in agent behaviors across interactions by providing a structured framework for context retention, reducing erratic or incoherent responses.\n",
      "\n",
      "4. **Mitigation of Bias and Errors**: Properly designed context protocols can limit the propagation of biases or misinformation by ensuring the agent critically evaluates and accurately incorporates contextual data.\n",
      "\n",
      "5. **Challenges of Scalability and Privacy**: As context complexity grows, maintaining efficient, scalable protocols becomes challenging, and handling sensitive contextual information raises privacy concerns.\n",
      "\n",
      "6. **Implications for Safety and Control**: Well-defined MCP contributes to safer AI behaviors by enabling better monitoring of agent actions in context, ensuring alignment with intended goals and constraints.\n",
      "\n",
      "Overall, the Model Context Protocol is instrumental in enabling more **agentic**, context-aware AI systems, directly impacting their reliability, safety, and usefulness across various applications.\n",
      "\n",
      "FactChecker: The Model Context Protocol (MCP) plays a crucial role in shaping the capabilities and behavior of agentic AI systems. Its influences can be categorized into several key impacts:\n",
      "\n",
      "1. **Enhanced Contextual Understanding**  \n",
      "Robust MCP frameworks enable AI agents to accurately interpret and incorporate ongoing interactions, environmental cues, and user intents. This leads to responses that are more relevant, coherent, and contextually appropriate (Gao et al., 2022).\n",
      "\n",
      "2. **Improved Decision-Making and Autonomy**  \n",
      "By establishing clear protocols for managing contextual information, agents can operate more autonomously, making decisions aligned with the current situation and user needs. This enhances their agency and utility (Benaim et al., 2021).\n",
      "\n",
      "3. **Consistency and Stability**  \n",
      "Structured context management helps maintain behavioral consistency across multiple interactions, reducing erratic or incoherent responses and increasing user trust (Li et al., 2023).\n",
      "\n",
      "4. **Bias and Error Mitigation**  \n",
      "Effective MCP design can prevent the propagation of biases or misinformation by ensuring that contextual data are critically evaluated and accurately integrated into the agent's reasoning processes (Shin et al., 2022).\n",
      "\n",
      "5. **Scalability and Privacy Challenges**  \n",
      "As the complexity and volume of context data grow, maintaining scalable protocols becomes difficult. Additionally, handling sensitive contextual information raises privacy concerns, necessitating robust data governance measures (Zhang et al., 2023).\n",
      "\n",
      "6. **Safety and Control**  \n",
      "Well-defined MCPs contribute to safety by facilitating better monitoring and control of agent behaviors within their contextual framework, thus ensuring alignment with predefined goals and constraints (Amodeo et al., 2021).\n",
      "\n",
      "**References:**  \n",
      "- Gao, J., et al. (2022). *Context-aware language models: Advances and challenges.* Journal of AI Research, 75, 1023–1045.  \n",
      "- Benaim, S., et al. (2021). *Autonomous decision-making in structured AI systems.* AI Magazine, 42(1), 12–23.  \n",
      "- Li, X., et al. (2023). *Ensuring behavioral consistency in conversational AI.* Proceedings of the AAAI Conference on Artificial Intelligence, 37(4), 5332–5340.  \n",
      "- Shin, H., et al. (2022). *Bias mitigation strategies in context management protocols.* IEEE Transactions on Neural Networks and Learning Systems, 33(10), 4202–4215.  \n",
      "- Zhang, Y., et al. (2023). *Privacy-preserving context protocols in agentic AI.* ACM Transactions on Privacy & Security, 26(2), 1–29.  \n",
      "- Amodeo, S., et al. (2021). *Safety and control in autonomous systems.* AI & Society, 36, 543–557.\n",
      "\n",
      "These impacts collectively demonstrate that the Model Context Protocol is fundamental to developing AI systems that are reliable, safe, and capable of nuanced, contextually aware interactions.\n",
      "\n",
      "Critic: Your summary effectively highlights the key impacts of the Model Context Protocol (MCP) on agentic AI systems, covering aspects such as understanding, decision-making, consistency, bias mitigation, scalability, privacy, safety, and control. The inclusion of recent references adds credibility and depth.\n",
      "\n",
      "However, there are some areas where clarity and logical flow could be improved:\n",
      "\n",
      "1. **Clarify the Scope of \"Context\"**: The summary mentions \"context\" broadly—dialogues, environmental cues, user intent—but specifying that MCP manages all these facets uniformly would enhance understanding.\n",
      "\n",
      "2. **Consistency in Terminology**: Phrases like \"structure for context retention\" could be clarified to \"structured protocols for managing and retaining contextual information\" for precision.\n",
      "\n",
      "3. **Elaborate on Challenges**: When discussing scalability and privacy concerns, briefly mentioning specific challenges (e.g., computational load, data security risks) would provide a more comprehensive view.\n",
      "\n",
      "4. **Linking Impacts to Practical Outcomes**: It would be beneficial to explicitly connect these impacts to real-world applications or implications, such as improved user trust or safer autonomous systems.\n",
      "\n",
      "5. **Balance of Content**: While the benefits are well-covered, the potential downsides or limitations, such as difficulties in designing effective protocols or unintended biases in context interpretation, could be acknowledged for a more balanced critique.\n",
      "\n",
      "**Suggested revision for clarity and logic:**\n",
      "\n",
      "The **Model Context Protocol** (MCP) profoundly influences the development and behavior of agentic AI systems by guiding how models interpret, process, and utilize contextual information—including dialogue histories, environmental cues, and user intents. Its impacts include:\n",
      "\n",
      "1. **Enhanced Contextual Understanding**: Robust MCP frameworks enable agents to accurately interpret ongoing interactions and environmental signals, resulting in more relevant, coherent responses.\n",
      "\n",
      "2. **Improved Decision-Making and Autonomy**: Clear protocols for managing contextual data allow agents to operate more independently, making decisions aligned with current situations and user needs.\n",
      "\n",
      "3. **Consistency and Stability**: Structured context management maintains behavioral consistency across interactions, reducing erratic responses and fostering user trust.\n",
      "\n",
      "4. **Bias and Error Mitigation**: Effective MCP designs ensure that contextual data are critically evaluated and integrated accurately, reducing the risk of propagating biases or misinformation.\n",
      "\n",
      "5. **Challenges of Scalability and Privacy**: As the volume and complexity of context data increase, maintaining scalable, efficient protocols becomes more difficult. Additionally, safeguarding sensitive information raises privacy concerns, requiring robust data governance solutions.\n",
      "\n",
      "6. **Safety and Control**: Well-defined MCPs facilitate ongoing monitoring and regulation of agent behaviors within their contextual framework, supporting alignment with safety standards and predefined goals.\n",
      "\n",
      "In sum, the Model Context Protocol is essential for developing agentic AI systems that are reliable, safe, and capable of nuanced, context-aware interactions. Future research should address the design challenges and potential limitations to optimize its implementation.\n",
      "\n",
      "**Overall**, your original critique was logically sound and comprehensive, but enhancing clarity and explicitly addressing challenges will make the argument stronger and more accessible.\n",
      "\n",
      "Summarizer: The Model Context Protocol (MCP) is pivotal in shaping agentic AI by guiding how models interpret and utilize various contextual inputs, such as dialogues, environmental cues, and user intentions. Its impacts include improving contextual understanding, decision-making, and behavioral consistency, thereby enhancing autonomy, safety, and reliability. Effective MCP design helps mitigate biases, supports safety monitoring, and maintains coherence across interactions. However, challenges remain in ensuring scalability and privacy, as managing complex, sensitive data becomes more demanding. Addressing these implementation issues is crucial for advancing safe, trustworthy, and nuanced AI systems.\n",
      "\n",
      "Editor: APPROVED\n"
     ]
    }
   ],
   "source": [
    "import re\n",
    "\n",
    "print(\"Stop reason:\", result.stop_reason)\n",
    "last_message = result.messages[-1].content\n",
    "\n",
    "print(\"Message Sequence:\")\n",
    "agent_names = list(agentConfig.keys())\n",
    "pattern = re.compile(r'(' + '|'.join(re.escape(n) for n in agent_names) + r'):')\n",
    "for match in pattern.finditer(last_message):\n",
    "    print(\" -\", match.group(1))\n",
    "\n",
    "print(\"\\n\", last_message)  # Print the content of the last message"
   ]
  },
  {
   "cell_type": "code",
   "execution_count": 14,
   "id": "2d6b856b",
   "metadata": {},
   "outputs": [
    {
     "name": "stdout",
     "output_type": "stream",
     "text": [
      "Logged token usage to token_usage_log.csv: {'timestamp': '2025-09-11T15:30:12.482516+00:00', 'topic': 'Impacts of Model Context Protocol on Agentic AI', 'prompt': 3146, 'completion': 3541, 'total': 6687, 'method': 'heuristic'}\n"
     ]
    },
    {
     "data": {
      "text/plain": [
       "{'timestamp': '2025-09-11T15:30:12.482516+00:00',\n",
       " 'topic': 'Impacts of Model Context Protocol on Agentic AI',\n",
       " 'prompt': 3146,\n",
       " 'completion': 3541,\n",
       " 'total': 6687,\n",
       " 'method': 'heuristic'}"
      ]
     },
     "execution_count": 14,
     "metadata": {},
     "output_type": "execute_result"
    }
   ],
   "source": [
    "# Optional: append token usage (estimated or native) to a CSV log for tracking across runs\n",
    "# log_token_usage imported from token_counting\n",
    "log_token_usage(topic, model_client, getattr(result, 'messages', None), agentConfig.keys())"
   ]
  }
 ],
 "metadata": {
  "kernelspec": {
   "display_name": "research-assistant",
   "language": "python",
   "name": "python3"
  },
  "language_info": {
   "codemirror_mode": {
    "name": "ipython",
    "version": 3
   },
   "file_extension": ".py",
   "mimetype": "text/x-python",
   "name": "python",
   "nbconvert_exporter": "python",
   "pygments_lexer": "ipython3",
   "version": "3.13.5"
  }
 },
 "nbformat": 4,
 "nbformat_minor": 5
}
