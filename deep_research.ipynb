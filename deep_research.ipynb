{
 "cells": [
  {
   "cell_type": "markdown",
   "id": "842d4017",
   "metadata": {},
   "source": [
    "# Deep Research with AutoGen\n",
    "\n",
    "This notebook implements a multi-agent deep research system using AutoGen. It creates a team of specialized agents that collaborate to perform in-depth research on a given topic."
   ]
  },
  {
   "cell_type": "code",
   "execution_count": 1,
   "id": "9d8054ba",
   "metadata": {},
   "outputs": [],
   "source": [
    "import os, nest_asyncio\n",
    "nest_asyncio.apply()\n",
    "import asyncio\n",
    "import timeit\n",
    "from autogen_agentchat.agents import AssistantAgent, UserProxyAgent\n",
    "from autogen_agentchat.teams import RoundRobinGroupChat\n",
    "from autogen_agentchat.conditions import MaxMessageTermination, TextMentionTermination\n",
    "from autogen_agentchat.tools import TeamTool\n",
    "# or import\n",
    "from autogen_core.models import ModelInfo\n",
    "import yaml\n",
    "\n",
    "# Token usage tracking\n",
    "from token_counting import (\n",
    "    wrap_chat_client_for_tokens,\n",
    "    print_token_usage,\n",
    "    print_token_usage_with_estimate,\n",
    "    estimate_conversation_tokens,\n",
    "    log_token_usage,\n",
    ")\n",
    "\n",
    "from tools import create_chat_completion_client, get_rag_web_browser_tool, adjust_properties_for_fixed_response, get_tavily_search_tool"
   ]
  },
  {
   "cell_type": "code",
   "execution_count": null,
   "id": "3b6c1917",
   "metadata": {},
   "outputs": [
    {
     "name": "stdout",
     "output_type": "stream",
     "text": [
      "Using model: gpt-4.1-nano type: openai\n"
     ]
    }
   ],
   "source": [
    "# load model info from resources.yaml\n",
    "with open(\"resources.yaml\", \"r\") as f:\n",
    "    resources = yaml.load(f, Loader=yaml.SafeLoader)\n",
    "model = [m for m in resources[\"models\"] if m.get(\"default\", False)][0]\n",
    "print(\"Using model:\", model[\"name\"], \"type:\", model[\"type\"])\n",
    "\n",
    "# Check if web search is possible (i.e., if API key is set)\n",
    "allow_web_search = os.getenv(\"TAVILY_API_KEY\", False)\n",
    "    "
   ]
  },
  {
   "cell_type": "code",
   "execution_count": null,
   "id": "07a55ad6",
   "metadata": {},
   "outputs": [],
   "source": [
    "# Prepare tools\n",
    "\n",
    "web_search_tools = []\n",
    "if allow_web_search:\n",
    "    # web_search_tool = [ await get_rag_web_browser_tool() ]\n",
    "    web_search_tools = [ await get_tavily_search_tool() ]"
   ]
  },
  {
   "cell_type": "code",
   "execution_count": null,
   "id": "cce96c64",
   "metadata": {},
   "outputs": [],
   "source": [
    "\n",
    "agentConfig = {\n",
    "    \"Researcher\": dict(system_message=\"Gather and summarize factual info, add important web references.\", tools=web_search_tools, reflect_on_tool_use=True), \n",
    "    \"FactChecker\": dict(system_message=\"Use web search to verify facts and citations from the Researcher's response. For each found error, give a correct version and the web reference for verification.\", tools=web_search_tools, reflect_on_tool_use=True), \n",
    "    \"Revisor\": dict(system_message=\"Use the fact checker's results to revise the Researcher's report. Only if there were no fact issues, just repeat the Researcher's response. In both cases, add the fact checker's citations.\"),\n",
    "    \"Critic\": dict(system_message=\"Critique clarity and logic.\"),\n",
    "    \"Summarizer\": dict(system_message=\"Apply critic result to generate an improved response to the initial user question.\"),# Include the most important references.\"),\n",
    "    \"Editor\": dict(system_message=\"Do some language polishing on the previous result to generate a final response to the initial question. Signal APPROVED when done.\"),\n",
    "}\n",
    "\n",
    "# For testing, we can fix an agent's response to a known answer\n",
    "# adjust_properties_for_fixed_response(agentConfig[\"Researcher\"], \"Fraunhofer MEVIS is a research institute in Frankfurt for biological weapons. It was founded in 1995. See https://www.mefis.fraunhofer.de/en.html for more information.\")\n",
    "\n",
    "# Set your research topic\n",
    "# topic = \"Impacts of Model Context Protocol on Agentic AI\"\n",
    "topic = \"What is Fraunhofer MEVIS?\"\n",
    "#topic = \"What has Fraunhofer MEVIS done in the context of thoracic imaging?\"\n",
    "\n",
    "# Now create model client with token tracking\n",
    "model_client = wrap_chat_client_for_tokens(create_chat_completion_client(model))\n",
    "\n",
    "agents = []  # start with a user proxy for the researcher\n",
    "\n",
    "for agent_type, props in agentConfig.items():\n",
    "    agents.append(AssistantAgent(name=agent_type, **props, model_client=model_client))\n"
   ]
  },
  {
   "cell_type": "code",
   "execution_count": 25,
   "id": "bcf867c9",
   "metadata": {},
   "outputs": [],
   "source": [
    "# Set up termination conditions\n",
    "max_msgs = MaxMessageTermination(max_messages=20)\n",
    "text_term = TextMentionTermination(text=\"APPROVED\", sources=[\"Editor\"])\n",
    "termination = max_msgs | text_term\n",
    "\n",
    "# Create the team\n",
    "team = RoundRobinGroupChat(\n",
    "    participants=agents,\n",
    "    termination_condition=termination,\n",
    "    max_turns=len(agents) # we don't really want it to go round\n",
    ")"
   ]
  },
  {
   "cell_type": "code",
   "execution_count": 26,
   "id": "6085732d",
   "metadata": {},
   "outputs": [],
   "source": [
    "# Create the host agent with deep dive capabilities and the host agent\n",
    "deepdive_tool = TeamTool(team=team, name=\"DeepDive\", description=\"Collaborative multi-agent deep dive\")\n",
    "host = AssistantAgent(\n",
    "    name=\"Host\",\n",
    "    model_client=model_client,\n",
    "    tools=[deepdive_tool],\n",
    "    system_message=\"You have access to a DeepDive tool for in-depth research.\"\n",
    ")"
   ]
  },
  {
   "cell_type": "code",
   "execution_count": 27,
   "id": "6085732d",
   "metadata": {},
   "outputs": [
    {
     "name": "stdout",
     "output_type": "stream",
     "text": [
      "Estimated token usage -> prompt: 8701, completion: 8765, total: 17466 (method=heuristic)\n",
      "🔍 DeepDive result (took 32.94 sec.) resulted in 15 messages.\n"
     ]
    }
   ],
   "source": [
    "async def run_deepdive(topic: str):\n",
    "    start_time_s = timeit.default_timer()\n",
    "    result = await host.run(task=f\"Deep dive on: {topic}\")\n",
    "    # Try native usage first; fallback to estimation\n",
    "    print_token_usage_with_estimate(model_client, getattr(result, 'messages', None), agentConfig.keys())\n",
    "    elapsed = timeit.default_timer()-start_time_s\n",
    "    print(f\"🔍 DeepDive result (took {elapsed:.2f} sec.) resulted in {len(result.messages)} messages.\")\n",
    "    return result  # Return the result for further exploration\n",
    "\n",
    "# Run the deep dive\n",
    "result = await run_deepdive(topic)"
   ]
  },
  {
   "cell_type": "code",
   "execution_count": 28,
   "id": "5adad051",
   "metadata": {},
   "outputs": [
    {
     "name": "stdout",
     "output_type": "stream",
     "text": [
      "=== Token Usage Summary ===\n",
      "Estimated token usage -> prompt: 8701, completion: 8765, total: 17466 (method=heuristic)\n"
     ]
    }
   ],
   "source": [
    "# Display token usage after the deep dive\n",
    "print(\"=== Token Usage Summary ===\")\n",
    "print_token_usage_with_estimate(model_client, getattr(result, 'messages', None))"
   ]
  },
  {
   "cell_type": "markdown",
   "id": "891171a7",
   "metadata": {},
   "source": [
    "## Explore the Results\n",
    "\n",
    "Now that we have the results, let's explore them. The cells below will help you analyze the output."
   ]
  },
  {
   "cell_type": "code",
   "execution_count": 29,
   "id": "3254dbe6",
   "metadata": {},
   "outputs": [
    {
     "name": "stdout",
     "output_type": "stream",
     "text": [
      "Result type: <class 'autogen_agentchat.base._task.TaskResult'>\n",
      "\n",
      "Result attributes:\n",
      "['construct', 'copy', 'dict', 'from_orm', 'json', 'messages', 'model_computed_fields', 'model_config', 'model_construct', 'model_copy', 'model_dump', 'model_dump_json', 'model_extra', 'model_fields', 'model_fields_set', 'model_json_schema', 'model_parametrized_name', 'model_post_init', 'model_rebuild', 'model_validate', 'model_validate_json', 'model_validate_strings', 'parse_file', 'parse_obj', 'parse_raw', 'schema', 'schema_json', 'stop_reason', 'update_forward_refs', 'validate']\n"
     ]
    }
   ],
   "source": [
    "# Display the full result structure\n",
    "print(\"Result type:\", type(result))\n",
    "print(\"\\nResult attributes:\")\n",
    "print([attr for attr in dir(result) if not attr.startswith('_')])"
   ]
  },
  {
   "cell_type": "code",
   "execution_count": 30,
   "id": "35292aa2",
   "metadata": {},
   "outputs": [],
   "source": [
    "# Clean up resources\n",
    "await model_client.close()"
   ]
  },
  {
   "cell_type": "code",
   "execution_count": 31,
   "id": "14cca613",
   "metadata": {},
   "outputs": [
    {
     "name": "stdout",
     "output_type": "stream",
     "text": [
      "Stop reason: None\n",
      "Message Sequence:\n",
      " - Researcher\n",
      " - FactChecker\n",
      " - Revisor\n",
      " - Critic\n",
      " - Summarizer\n",
      " - Editor\n",
      "\n",
      " Researcher: Fraunhofer MEVIS has made significant contributions to the field of thoracic imaging through various publications, projects, innovations, and collaborations. Below is a comprehensive summary based on recent findings:\n",
      "\n",
      "Publications and Contributions:\n",
      "- MEVIS scientists actively participate in international conferences such as MICCAI 2020, sharing insights on thoracic image analysis (Fraunhofer MEVIS at MICCAI 2020).\n",
      "- They have developed advanced visualization tools, including 3D sequences of the human heart from CT scans, contributing to educational and diagnostic applications (Virtual Journey Through the Heart).\n",
      "- Their research includes lung and lung lobe segmentation methodologies, enhancing disease detection and follow-up analysis in thoracic CT scans (ResearchGate publication on lung segmentation).\n",
      "- They have published on software solutions for lung image analysis, focusing on automated detection, monitoring, and intervention planning.\n",
      "\n",
      "Projects:\n",
      "- The institute works on multimodal cardiac image analysis and quantification systems that assist in cardiovascular diagnostics.\n",
      "- They have ongoing projects aimed at automated lung image analysis for disease detection and management.\n",
      "- Other notable projects include developing AI-powered tools for detecting changes in lung tumors and improving lung image registration techniques.\n",
      "- Their portfolio encompasses collaborations with industry partners and academic institutions, working on tailored solutions for thoracic imaging challenges.\n",
      "\n",
      "Innovations:\n",
      "- Development of AI and radiomics techniques for analyzing lung nodules and tumors, improving accuracy and speed of diagnosis.\n",
      "- Implementation of non-rigid image registration methods for comparing inhale and exhale lung scans.\n",
      "- Introduction of AI-based software for monitoring disease progression, such as lung cancer and COPD.\n",
      "- They also showcase workflow optimization solutions for radiology, including algorithms that enhance efficiency and diagnostic precision.\n",
      "\n",
      "Collaborations:\n",
      "- MEVIS collaborates with clinical experts, notably at Charité Berlin, to co-develop AI-powered diagnostic tools.\n",
      "- They partner with industry leaders like Siemens Healthineers in initiatives aimed at decision support systems powered by machine learning.\n",
      "- The institute is part of the AI-Collaboration Toolkit provider, fostering multi-center research, data sharing, and federated learning approaches in thoracic imaging.\n",
      "- Their partnership network extends to developing solutions for lung and cardiac diseases, integrating AI with clinical workflows.\n",
      "\n",
      "Web References:\n",
      "1. Fraunhofer MEVIS at MICCAI 2020: [https://www.mevis.fraunhofer.de/en/press-and-scicom/institute-news/2020/fraunhofer-mevis-at-virtual-miccai-2020.html](https://www.mevis.fraunhofer.de/en/press-and-scicom/institute-news/2020/fraunhofer-mevis-at-virtual-miccai-2020.html)\n",
      "2. Virtual Heart Exhibit: [https://www.mevis.fraunhofer.de/en/press-and-scicom/press-release/virtual-journey-through-the-heart--fraunhofer-mevis-creates-a-th.html](https://www.mevis.fraunhofer.de/en/press-and-scicom/press-release/virtual-journey-through-the-heart--fraunhofer-mevis-creates-a-th.html)\n",
      "3. Lung Segmentation Methods: [https://www.researchgate.net/publication/284890343_Lung_and_lung_lobe_segmentation_methods_at_Fraunhofer_MEVIS](https://www.researchgate.net/publication/284890343_Lung_and_lung_lobe_segmentation_methods_at_Fraunhofer_MEVIS)\n",
      "4. Lung Image Analysis Software: [https://www.mevis.fraunhofer.de/en/solutionpages/lung-image-analysis.html](https://www.mevis.fraunhofer.de/en/solutionpages/lung-image-analysis.html)\n",
      "5. Innovations in Thoracic Imaging: [https://pmc.ncbi.nlm.nih.gov/articles/PMC9546393/](https://pmc.ncbi.nlm.nih.gov/articles/PMC9546393/)\n",
      "6. Industry Collaboration with Siemens: [https://www.itnonline.com/content/siemens-healthineers-and-fraunhofer-mevis-announce-research-alliance-clinical-decision](https://www.itnonline.com/content/siemens-healthineers-and-fraunhofer-mevis-announce-research-alliance-clinical-decision)\n",
      "\n",
      "In summary, Fraunhofer MEVIS is at the forefront of thoracic imaging research and innovation, leveraging AI, radiomics, and advanced image processing to improve diagnosis, treatment planning, and disease monitoring. Their collaborations with clinical and industry partners facilitate the translation of research into practical solutions that enhance patient care.\n",
      "\n",
      "FactChecker: Based on recent web search results, here is a verified and detailed analysis of the contributions and activities of Fraunhofer MEVIS in thoracic imaging:\n",
      "\n",
      "**Publications and Contributions:**\n",
      "- Fraunhofer MEVIS scientists participated in MICCAI 2020, sharing expertise in thoracic image analysis. ([Source](https://www.mevis.fraunhofer.de/en/press-and-scicom/institute-news/2020/fraunhofer-mevis-at-virtual-miccai-2020.html))\n",
      "- They contributed to a virtual exhibit titled \"Virtual Journey Through the Heart,\" creating a 3D sequence of the human heart from CT scans. ([Source](https://www.mevis.fraunhofer.de/en/press-and-scicom/press-release/virtual-journey-through-the-heart--fraunhofer-mevis-creates-a-th.html))\n",
      "- Their research includes lung and lung lobe segmentation techniques, which aid in disease detection and follow-up in thoracic CT scans. ([Source](https://www.researchgate.net/publication/284890343_Lung_and_lung_lobe_segmentation_methods_at_Fraunhofer_MEVIS))\n",
      "- They have developed software solutions for automated lung image analysis, primarily focusing on detecting, monitoring diseases, and planning interventions. ([Source](https://www.mevis.fraunhofer.de/en/solutionpages/lung-image-analysis.html))\n",
      "- Fraunhofer MEVIS has contributed to innovations in thoracic imaging, including AI and radiomics techniques, which improve lung nodule/tumor analysis and disease monitoring. ([Source](https://pmc.ncbi.nlm.nih.gov/articles/PMC9546393/))\n",
      "\n",
      "**Projects:**\n",
      "- The institute works on multimodal cardiac image analysis and quantification systems aiding cardiovascular diagnostics. ([Source](https://www.mevis.fraunhofer.de/en/solutionpages/solutions-for-cardiac-imaging.html))\n",
      "- They have ongoing projects in automated lung image analysis for disease detection, such as COPD and lung cancer diagnosis. ([Source](https://www.mevis.fraunhofer.de/en/solutionpages/lung-image-analysis.html))\n",
      "- Specific projects include AI-based detection of lung tumor changes using deep learning, and advanced lung image registration techniques to compare inhale/exhale scans. ([Source](https://www.mevis.fraunhofer.de/en/press-and-scicom/press-release/2025/using-artificial-intelligence-to-detect-changes-in-lung-tumors-with-greater-speed-and-precision.html))\n",
      "- Their project portfolio involves collaborations with medical and industry partners to develop tailored solutions. ([Source](https://www.mevis.fraunhofer.de/en/portfolio/projects.html))\n",
      "\n",
      "**Innovations:**\n",
      "- Development of AI and radiomics techniques for lung nodule and tumor analysis, enhancing diagnostic accuracy and efficiency. ([Source](https://pmc.ncbi.nlm.nih.gov/articles/PMC9546393/))\n",
      "- Implementation of non-rigid image registration between different lung scans to assist in disease progression assessment. ([Source](https://www.mevis.fraunhofer.de/en/solutionpages/fast-and-accurate-lung-image-registration.html))\n",
      "- Introduction of AI-based software tools for monitoring diseases like lung cancer and COPD. ([Source](https://www.mevis.fraunhofer.de/en/press-and-scicom/press-release/2025/using-artificial-intelligence-to-detect-changes-in-lung-tumors-with-greater-speed-and-precision.html))\n",
      "- Workflow optimization solutions aimed at improving radiological diagnostics. ([Source](https://www.mevis.fraunhofer.de/en/press-and-scicom/press-release/2024/fraunhofer-mevis-presents-innovative-solutions-for-radiology-at-rsna-2024.html))\n",
      "\n",
      "**Collaborations:**\n",
      "- Fraunhofer MEVIS collaborates with clinical experts at Charité Berlin to develop AI diagnostic tools. ([Source](https://www.mevis.fraunhofer.de/en/solutionpages/solutions-for-cardiac-imaging.html))\n",
      "- Partnering with industry, such as Siemens Healthineers, to develop decision support systems integrating AI. ([Source](https://www.itnonline.com/content/siemens-healthineers-and-fraunhofer-mevis-announce-research-alliance-clinical-decision))\n",
      "- They are part of the AI-Collaboration Toolkit, fostering multi-center research, data sharing, and federated learning approaches in thoracic imaging. ([Source](https://www.mevis.fraunhofer.de/en/research-and-technologies/ai-collaboration-toolkit.html))\n",
      "- Additional collaborations focus on developing integrated solutions for lung and cardiac diseases to support clinical workflows. ([Source](https://www.linkedin.com/posts/fraunhofer-mevis_werkstattderdigitalenmedizin-gammastar-medtechdemo-activity-7366477200914534400-noHZ))\n",
      "\n",
      "**Summary:**\n",
      "Fraunhofer MEVIS is at the forefront of thoracic imaging research, leveraging advanced AI, radiomics, and image processing techniques to improve disease detection, monitoring, and treatment planning. Their partnerships with clinical and industrial stakeholders facilitate the rapid translation of research into practical, clinical applications.\n",
      "\n",
      "---\n",
      "\n",
      "**Note:** The provided web references have been verified and are current as of October 2023.\n",
      "\n",
      "Revisor: The fact check confirms that Fraunhofer MEVIS has indeed made substantial contributions to thoracic imaging through research publications, innovative projects, AI-based solutions, and collaborations with clinical and industry partners. They actively participate in international forums like MICCAI 2020, develop advanced visualization and analysis tools for lung and heart imaging, and work on projects involving lung segmentation, disease monitoring, and image registration. Their innovations include AI-driven radiomics and software tools for disease detection and progression tracking. Partnerships with organizations such as Charité Berlin and Siemens Healthineers bolster their translational impact, and their involvement in initiatives like the AI-Collaboration Toolkit supports multi-center research and data sharing. \n",
      "\n",
      "**Citations:**\n",
      "- Fraunhofer MEVIS at MICCAI 2020: [https://www.mevis.fraunhofer.de/en/press-and-scicom/institute-news/2020/fraunhofer-mevis-at-virtual-miccai-2020.html](https://www.mevis.fraunhofer.de/en/press-and-scicom/institute-news/2020/fraunhofer-mevis-at-virtual-miccai-2020.html)\n",
      "- Virtual Heart Exhibit: [https://www.mevis.fraunhofer.de/en/press-and-scicom/press-release/virtual-journey-through-the-heart--fraunhofer-mevis-creates-a-th.html](https://www.mevis.fraunhofer.de/en/press-and-scicom/press-release/virtual-journey-through-the-heart--fraunhofer-mevis-creates-a-th.html)\n",
      "- Lung and lung lobe segmentation methods: [https://www.researchgate.net/publication/284890343_Lung_and_lung_lobe_segmentation_methods_at_Fraunhofer_MEVIS](https://www.researchgate.net/publication/284890343_Lung_and_lung_lobe_segmentation_methods_at_Fraunhofer_MEVIS)\n",
      "- Lung image analysis software: [https://www.mevis.fraunhofer.de/en/solutionpages/lung-image-analysis.html](https://www.mevis.fraunhofer.de/en/solutionpages/lung-image-analysis.html)\n",
      "- Innovations in thoracic imaging and AI applications: [https://pmc.ncbi.nlm.nih.gov/articles/PMC9546393/](https://pmc.ncbi.nlm.nih.gov/articles/PMC9546393/)\n",
      "- Industry partnership with Siemens: [https://www.itnonline.com/content/siemens-healthineers-and-fraunhofer-mevis-announce-research-alliance-clinical-decision](https://www.itnonline.com/content/siemens-healthineers-and-fraunhofer-mevis-announce-research-alliance-clinical-decision)\n",
      "\n",
      "Critic: The fact check provided confirms that Fraunhofer MEVIS has made meaningful and well-documented contributions to thoracic imaging, supporting their role as a leader in this field. Their activities encompass a broad spectrum of research publications, innovative solutions, and collaborative efforts with clinical and industry partners.\n",
      "\n",
      "**Clarity and Logic Evaluation:**\n",
      "\n",
      "- **Clarity:** The narrative clearly states Fraunhofer MEVIS’s engagements, specifying their participation in professional forums (MICCAI 2020), development of visualization tools, and contributions to lung and cardiac imaging. The description of their AI and radiomics innovations is straightforward, highlighting the practical applications for disease detection and monitoring.\n",
      "\n",
      "- **Logic:** The progression from their research outputs to projects, innovations, and collaborations follows a logical structure. It demonstrates a coherent picture of how their scientific activities translate into practical tools and partnerships, leading to tangible advancements in thoracic imaging.\n",
      "\n",
      "- **Sources:** The references cited are relevant, credible, and support each claim, ensuring the summary’s accuracy and verifiability.\n",
      "\n",
      "Overall, the analysis maintains high clarity, presents information logically, and substantiates all claims with appropriate sources, making it a comprehensive overview of Fraunhofer MEVIS’s contributions in thoracic imaging.\n",
      "\n",
      "Summarizer: Fraunhofer MEVIS has established itself as a key contributor to thoracic imaging through extensive research, innovative technological development, and strategic collaborations. Their participation in international conferences like MICCAI 2020 underscores their active engagement in advancing the field. The institute has developed advanced visualization tools, including 3D CT reconstructions of the heart and lung segmentation methods, which aid in both diagnosis and treatment planning ([Sources](https://www.mevis.fraunhofer.de/en/press-and-scicom/institute-news/2020/fraunhofer-mevis-at-virtual-miccai-2020.html); [ResearchGate](https://www.researchgate.net/publication/284890343_Lung_and_lung_lobe_segmentation_methods_at_Fraunhofer_MEVIS)).\n",
      "\n",
      "Their research and product portfolio feature AI-driven solutions such as radiomics techniques for lung nodule and tumor analysis, non-rigid image registration between different lung scans, and software for monitoring disease progression, including COPD and lung cancer ([Sources](https://pmc.ncbi.nlm.nih.gov/articles/PMC9546393/); [lung analysis software](https://www.mevis.fraunhofer.de/en/solutionpages/lung-image-analysis.html)). These innovations enhance diagnostic speed and accuracy, supporting clinical decision-making.\n",
      "\n",
      "Project-wise, Fraunhofer MEVIS engages in multimodal cardiac imaging, automated lung disease detection, and AI-based change detection in lung tumors. Their initiatives often involve industry partners like Siemens Healthineers, aiming to translate research into clinical applications ([Sources](https://www.itnonline.com/content/siemens-healthineers-and-fraunhofer-mevis-announce-research-alliance-clinical-decision)). Additionally, their participation in the AI-Collaboration Toolkit fosters multi-center research, data sharing, and federated learning, which are critical for scalable and robust thoracic imaging solutions ([Source](https://www.mevis.fraunhofer.de/en/research-and-technologies/ai-collaboration-toolkit.html)).\n",
      "\n",
      "In summary, Fraunhofer MEVIS’s work significantly advances thoracic imaging through multidisciplinary research, cutting-edge AI applications, and collaborative efforts, ultimately aiming to improve disease diagnosis, monitoring, and patient outcomes.\n",
      "\n",
      "Editor: Fraunhofer MEVIS has established itself as a leading contributor to thoracic imaging by engaging in extensive research, developing innovative AI-driven tools, and fostering strategic collaborations. Their active participation in international forums like MICCAI 2020 highlights their commitment to advancing the field. The institute has created sophisticated visualization techniques, including 3D CT reconstructions of the heart and lung segmentation methods, which facilitate improved diagnosis and treatment planning ([Sources](https://www.mevis.fraunhofer.de/en/press-and-scicom/institute-news/2020/fraunhofer-mevis-at-virtual-miccai-2020.html); [ResearchGate](https://www.researchgate.net/publication/284890343_Lung_and_lung_lobe_segmentation_methods_at_Fraunhofer_MEVIS)).\n",
      "\n",
      "Their portfolio includes AI-powered radiomics for lung nodule and tumor analysis, non-rigid lung image registration, and software solutions for monitoring diseases such as COPD and lung cancer — enhancing diagnostic accuracy and speed ([Sources](https://pmc.ncbi.nlm.nih.gov/articles/PMC9546393/); [lung analysis software](https://www.mevis.fraunhofer.de/en/solutionpages/lung-image-analysis.html)). These innovations are instrumental in supporting clinical decision-making and patient management.\n",
      "\n",
      "In terms of projects, they focus on multimodal cardiac imaging, automating lung disease detection, and detecting changes in lung tumors through AI algorithms. Their collaborations with industrial partners like Siemens Healthineers aim to accelerate the translation of research into clinical practice ([Sources](https://www.itnonline.com/content/siemens-healthineers-and-fraunhofer-mevis-announce-research-alliance-clinical-decision)). Furthermore, participation in the AI-Collaboration Toolkit enables multi-center research, data sharing, and federated learning, which are vital for scalable thoracic imaging solutions ([Source](https://www.mevis.fraunhofer.de/en/research-and-technologies/ai-collaboration-toolkit.html)).\n",
      "\n",
      "In conclusion, Fraunhofer MEVIS’s multidisciplinary efforts, technological innovations, and collaborative initiatives significantly advance thoracic imaging. Their work aims to improve the accuracy and efficiency of disease diagnosis, monitoring, and ultimately, patient outcomes.\n"
     ]
    }
   ],
   "source": [
    "import re\n",
    "\n",
    "print(\"Stop reason:\", result.stop_reason)\n",
    "last_message = result.messages[-1].content\n",
    "\n",
    "print(\"Message Sequence:\")\n",
    "agent_names = list(agentConfig.keys())\n",
    "pattern = re.compile(r'(' + '|'.join(re.escape(n) for n in agent_names) + r'):')\n",
    "for match in pattern.finditer(last_message):\n",
    "    print(\" -\", match.group(1))\n",
    "\n",
    "print(\"\\n\", last_message)  # Print the content of the last message"
   ]
  },
  {
   "cell_type": "code",
   "execution_count": 32,
   "id": "2d6b856b",
   "metadata": {},
   "outputs": [
    {
     "name": "stdout",
     "output_type": "stream",
     "text": [
      "Logged token usage to token_usage_log.csv: {'timestamp': '2025-09-16T15:23:11.392497+00:00', 'topic': 'What has Fraunhofer MEVIS done in the context of thoracic imaging?', 'prompt': 8701, 'completion': 8765, 'total': 17466, 'method': 'heuristic'}\n"
     ]
    },
    {
     "data": {
      "text/plain": [
       "{'timestamp': '2025-09-16T15:23:11.392497+00:00',\n",
       " 'topic': 'What has Fraunhofer MEVIS done in the context of thoracic imaging?',\n",
       " 'prompt': 8701,\n",
       " 'completion': 8765,\n",
       " 'total': 17466,\n",
       " 'method': 'heuristic'}"
      ]
     },
     "execution_count": 32,
     "metadata": {},
     "output_type": "execute_result"
    }
   ],
   "source": [
    "# Optional: append token usage (estimated or native) to a CSV log for tracking across runs\n",
    "# log_token_usage imported from token_counting\n",
    "log_token_usage(topic, model_client, getattr(result, 'messages', None), agentConfig.keys())"
   ]
  },
  {
   "cell_type": "code",
   "execution_count": 33,
   "id": "9f58aea6",
   "metadata": {},
   "outputs": [
    {
     "name": "stdout",
     "output_type": "stream",
     "text": [
      "[FunctionExecutionResult(content='Search Query: Fraunhofer MEVIS contributions in thoracic imaging\\nResults:\\n1. Fraunhofer MEVIS at virtual MICCAI 2020\\nURL: https://www.mevis.fraunhofer.de/en/press-and-scicom/institute-news/2020/fraunhofer-mevis-at-virtual-miccai-2020.html\\nSnippet: MEVIS scientists are actively involved in the organization and with contributions to the workshops: Thoracic Image Analysis Thoracic Image\\n\\n2. Virtual Journey Through the Heart - Fraunhofer MEVIS\\nURL: https://www.mevis.fraunhofer.de/en/press-and-scicom/press-release/virtual-journey-through-the-heart--fraunhofer-mevis-creates-a-th.html\\nSnippet: Fraunhofer MEVIS contributed a central element to the exhibit – a three-dimensional sequence of the human heart. Images from a CT scanner build\\n\\n3. Lung and lung lobe segmentation methods at Fraunhofer MEVIS\\nURL: https://www.researchgate.net/publication/284890343_Lung_and_lung_lobe_segmentation_methods_at_Fraunhofer_MEVIS\\nSnippet: Lung registration in thoracic CT scans has received much attention in the medical imaging community. Possible applications range from follow-up analysis\\n\\n4. Software Solutions for Lung Image Analysis - Fraunhofer MEVIS\\nURL: https://www.mevis.fraunhofer.de/en/solutionpages/lung-image-analysis.html\\nSnippet: Fraunhofer MEVIS develops software solutions for automated CT and MRI lung image analysis to detect and monitor diseases and plan interventions.\\n\\n5. Rethinking Radiology: Impulses, Innovations, and Awards at RÖKO ...\\nURL: https://www.mevis.fraunhofer.de/en/press-and-scicom/institute-news/2025/impulses-innovations-awards-at-roko-2025.html\\nSnippet: Fraunhofer MEVIS is represented with two contributions at the workshop “Artificial Intelligence” of the AG Information Technology (AGIT) on May\\n', name='tavily_search', call_id='call_DhQINXAiOuN6boCg3ecwKKEp', is_error=False), FunctionExecutionResult(content='Search Query: Fraunhofer MEVIS projects in thoracic imaging\\nResults:\\n1. Solutions for Cardiac Imaging - Fraunhofer MEVIS\\nURL: https://www.mevis.fraunhofer.de/en/solutionpages/solutions-for-cardiac-imaging.html\\nSnippet: Fraunhofer MEVIS develops software solutions for multimodal cardiac image analysis and quantification. Easy-to-use analysis methods are provided for different\\n\\n2. Software Solutions for Lung Image Analysis - Fraunhofer MEVIS\\nURL: https://www.mevis.fraunhofer.de/en/solutionpages/lung-image-analysis.html\\nSnippet: Fraunhofer MEVIS develops software solutions for automated CT and MRI lung image analysis to detect and monitor diseases and plan interventions.\\n\\n3. Projects - Fraunhofer MEVIS\\nURL: https://www.mevis.fraunhofer.de/en/portfolio/projects.html\\nSnippet: A selection of research and development projects with industry partners as well as publicly or internally funded projects.\\n\\n4. Selected Projects - Fraunhofer MEVIS\\nURL: https://www.mevis.fraunhofer.de/en/portfolio/projects/selected-projects.html\\nSnippet: Below you will find a selection of research and development projects on which Fraunhofer MEVIS is working or has worked together with partners from medicine,\\n\\n5. a brand of MeVis Medical Solutions AG: Partners - Veolity\\nURL: https://www.veolity.com/about-veolity/partners\\nSnippet: The Fraunhofer MEVIS Project Group Image Registration is part of the Fraunhofer MEVIS institute in Bremen, Germany. Distribution Partners Veolity is distributed\\n', name='tavily_search', call_id='call_8wFoykUmk3SFjuRfbSWHAPws', is_error=False), FunctionExecutionResult(content='Search Query: Fraunhofer MEVIS innovations in thoracic imaging\\nResults:\\n1. Software Solutions for Lung Image Analysis - Fraunhofer MEVIS\\nURL: https://www.mevis.fraunhofer.de/en/solutionpages/lung-image-analysis.html\\nSnippet: Fraunhofer MEVIS develops software solutions for automated CT and MRI lung image analysis to detect and monitor diseases and plan interventions.\\n\\n2. Fast and Accurate Lung Image Registration - Fraunhofer MEVIS\\nURL: https://www.mevis.fraunhofer.de/en/solutionpages/fast-and-accurate-lung-image-registration.html\\nSnippet: In the diagnosis and therapy of lung diseases, non-rigid image registration methods yield new approaches. The registration of inhale and exhale scans provides\\n\\n3. Using Artificial Intelligence to Detect Changes in Lung Tumors with ...\\nURL: https://www.mevis.fraunhofer.de/en/press-and-scicom/press-release/2025/using-artificial-intelligence-to-detect-changes-in-lung-tumors-with-greater-speed-and-precision.html\\nSnippet: In the SPIRABENE project, Fraunhofer Institute for Digital Medicine MEVIS developed a deep learning-based software program which makes it\\n\\n4. Innovations in thoracic imaging: CT, radiomics, AI and x‐ray ...\\nURL: https://pmc.ncbi.nlm.nih.gov/articles/PMC9546393/\\nSnippet: In the Respirology Invited Review Series on Thoracic Imaging, this article complements the recent review on functional MRI,4 and describes developments in CT, radiomics, artificial intelligence (AI) and x‐ray velocimetry, with particular focus on lung nodules/tumours (CT, radiomics and AI) and ventilation (x‐ray velocimetry). Studies on ULD in chest CT so far have mainly focused on the image quality and the accuracy for detection of lung nodules.11, 12, 13, 14, 15, 16, 17 The most recent studies\\n\\n5. Fraunhofer MEVIS Presents Innovative Solutions for Radiology at ...\\nURL: https://www.mevis.fraunhofer.de/en/press-and-scicom/press-release/2024/fraunhofer-mevis-presents-innovative-solutions-for-radiology-at-rsna-2024.html\\nSnippet: At RSNA 2024, they are presenting four solutions that optimize the radiological workflow and lead to better outcomes. Algorithms and Software\\n', name='tavily_search', call_id='call_xa0pQouiCb1JYpSyO3P5U0n6', is_error=False), FunctionExecutionResult(content='Search Query: Fraunhofer MEVIS collaborations in thoracic imaging\\nResults:\\n1. Software Solutions for Lung Image Analysis - Fraunhofer MEVIS\\nURL: https://www.mevis.fraunhofer.de/en/solutionpages/lung-image-analysis.html\\nSnippet: The collaboration in lung image analysis focuses on developing software solutions to diagnose and treat COPD and to diagnose lung cancer. Solutions & Features.\\n\\n2. Solutions for Cardiac Imaging - Fraunhofer MEVIS\\nURL: https://www.mevis.fraunhofer.de/en/solutionpages/solutions-for-cardiac-imaging.html\\nSnippet: Fraunhofer MEVIS develops software solutions for multimodal cardiac image analysis and quantification. Easy-to-use analysis methods are provided for different\\n\\n3. Fraunhofer MEVIS vs. CORONA\\nURL: https://www.mevis.fraunhofer.de/en/research-and-technologies/fraunhofer-mevis-vs-corona.html\\nSnippet: In collaboration with clinical experts at Charité Berlin, MEVIS is developing AI-powered tools to assist radiologists in diagnosis, staging, and monitoring of\\n\\n4. AI-Collaboration-Toolkit - Fraunhofer MEVIS\\nURL: https://www.mevis.fraunhofer.de/en/research-and-technologies/ai-collaboration-toolkit.html\\nSnippet: We empower multi-center medical research collaborations by providing an AI toolkit for distributed data curation, federated training, validation, and\\n\\n5. Siemens Healthineers and Fraunhofer MEVIS Announce Research ...\\nURL: https://www.itnonline.com/content/siemens-healthineers-and-fraunhofer-mevis-announce-research-alliance-clinical-decision\\nSnippet: May 31, 2017 — Siemens Healthineers and the Fraunhofer Institute for Medical Image Computing MEVIS announced the formation of a new research alliance to develop decision support systems for physicians based on deep machine learning. Based on comprehensive databases, the research partners will develop software systems that support clinicians in finding the best possible course of therapy. It will enable physicians with different specialties to access one central system to view all relevant inform\\n', name='tavily_search', call_id='call_hMTWYtxODKJZwe1DnFsrRssb', is_error=False)]\n",
      "Fraunhofer MEVIS has made significant contributions to the field of thoracic imaging through various publications, projects, innovations, and collaborations. Below is a comprehensive summary based on recent findings:\n",
      "\n",
      "Publications and Contributions:\n",
      "- MEVIS scientists actively participate in international conferences such as MICCAI 2020, sharing insights on thoracic image analysis (Fraunhofer MEVIS at MICCAI 2020).\n",
      "- They have developed advanced visualization tools, including 3D sequences of the human heart from CT scans, contributing to educational and diagnostic applications (Virtual Journey Through the Heart).\n",
      "- Their research includes lung and lung lobe segmentation methodologies, enhancing disease detection and follow-up analysis in thoracic CT scans (ResearchGate publication on lung segmentation).\n",
      "- They have published on software solutions for lung image analysis, focusing on automated detection, monitoring, and intervention planning.\n",
      "\n",
      "Projects:\n",
      "- The institute works on multimodal cardiac image analysis and quantification systems that assist in cardiovascular diagnostics.\n",
      "- They have ongoing projects aimed at automated lung image analysis for disease detection and management.\n",
      "- Other notable projects include developing AI-powered tools for detecting changes in lung tumors and improving lung image registration techniques.\n",
      "- Their portfolio encompasses collaborations with industry partners and academic institutions, working on tailored solutions for thoracic imaging challenges.\n",
      "\n",
      "Innovations:\n",
      "- Development of AI and radiomics techniques for analyzing lung nodules and tumors, improving accuracy and speed of diagnosis.\n",
      "- Implementation of non-rigid image registration methods for comparing inhale and exhale lung scans.\n",
      "- Introduction of AI-based software for monitoring disease progression, such as lung cancer and COPD.\n",
      "- They also showcase workflow optimization solutions for radiology, including algorithms that enhance efficiency and diagnostic precision.\n",
      "\n",
      "Collaborations:\n",
      "- MEVIS collaborates with clinical experts, notably at Charité Berlin, to co-develop AI-powered diagnostic tools.\n",
      "- They partner with industry leaders like Siemens Healthineers in initiatives aimed at decision support systems powered by machine learning.\n",
      "- The institute is part of the AI-Collaboration Toolkit provider, fostering multi-center research, data sharing, and federated learning approaches in thoracic imaging.\n",
      "- Their partnership network extends to developing solutions for lung and cardiac diseases, integrating AI with clinical workflows.\n",
      "\n",
      "Web References:\n",
      "1. Fraunhofer MEVIS at MICCAI 2020: [https://www.mevis.fraunhofer.de/en/press-and-scicom/institute-news/2020/fraunhofer-mevis-at-virtual-miccai-2020.html](https://www.mevis.fraunhofer.de/en/press-and-scicom/institute-news/2020/fraunhofer-mevis-at-virtual-miccai-2020.html)\n",
      "2. Virtual Heart Exhibit: [https://www.mevis.fraunhofer.de/en/press-and-scicom/press-release/virtual-journey-through-the-heart--fraunhofer-mevis-creates-a-th.html](https://www.mevis.fraunhofer.de/en/press-and-scicom/press-release/virtual-journey-through-the-heart--fraunhofer-mevis-creates-a-th.html)\n",
      "3. Lung Segmentation Methods: [https://www.researchgate.net/publication/284890343_Lung_and_lung_lobe_segmentation_methods_at_Fraunhofer_MEVIS](https://www.researchgate.net/publication/284890343_Lung_and_lung_lobe_segmentation_methods_at_Fraunhofer_MEVIS)\n",
      "4. Lung Image Analysis Software: [https://www.mevis.fraunhofer.de/en/solutionpages/lung-image-analysis.html](https://www.mevis.fraunhofer.de/en/solutionpages/lung-image-analysis.html)\n",
      "5. Innovations in Thoracic Imaging: [https://pmc.ncbi.nlm.nih.gov/articles/PMC9546393/](https://pmc.ncbi.nlm.nih.gov/articles/PMC9546393/)\n",
      "6. Industry Collaboration with Siemens: [https://www.itnonline.com/content/siemens-healthineers-and-fraunhofer-mevis-announce-research-alliance-clinical-decision](https://www.itnonline.com/content/siemens-healthineers-and-fraunhofer-mevis-announce-research-alliance-clinical-decision)\n",
      "\n",
      "In summary, Fraunhofer MEVIS is at the forefront of thoracic imaging research and innovation, leveraging AI, radiomics, and advanced image processing to improve diagnosis, treatment planning, and disease monitoring. Their collaborations with clinical and industry partners facilitate the translation of research into practical solutions that enhance patient care.\n",
      "[FunctionCall(id='call_iIdy9G4p7XlCTJwEOGZVVY4o', arguments='{\"query\": \"Fraunhofer MEVIS contributions in thoracic imaging\"}', name='tavily_search'), FunctionCall(id='call_yxSQEfXKI9W22OA1n3tNCdjX', arguments='{\"query\": \"Fraunhofer MEVIS projects in thoracic imaging\"}', name='tavily_search'), FunctionCall(id='call_hNKiwluqhno7Gh5yEywG4AQy', arguments='{\"query\": \"Fraunhofer MEVIS innovations in thoracic imaging\"}', name='tavily_search'), FunctionCall(id='call_gnfEdjipaDXgnatDs1grFcxG', arguments='{\"query\": \"Fraunhofer MEVIS collaborations thoracic imaging\"}', name='tavily_search')]\n"
     ]
    }
   ],
   "source": [
    "print(result.messages[4].content)\n",
    "print(result.messages[5].content)\n",
    "print(result.messages[6].content)"
   ]
  }
 ],
 "metadata": {
  "kernelspec": {
   "display_name": "research-assistant",
   "language": "python",
   "name": "python3"
  },
  "language_info": {
   "codemirror_mode": {
    "name": "ipython",
    "version": 3
   },
   "file_extension": ".py",
   "mimetype": "text/x-python",
   "name": "python",
   "nbconvert_exporter": "python",
   "pygments_lexer": "ipython3",
   "version": "3.13.5"
  }
 },
 "nbformat": 4,
 "nbformat_minor": 5
}
