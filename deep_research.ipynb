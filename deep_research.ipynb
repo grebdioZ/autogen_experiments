{
 "cells": [
  {
   "cell_type": "markdown",
   "id": "842d4017",
   "metadata": {},
   "source": [
    "# Deep Research with AutoGen\n",
    "\n",
    "This notebook implements a multi-agent deep research system using AutoGen. It creates a team of specialized agents that collaborate to perform in-depth research on a given topic."
   ]
  },
  {
   "cell_type": "code",
   "execution_count": 1,
   "id": "9d8054ba",
   "metadata": {},
   "outputs": [],
   "source": [
    "import os, nest_asyncio\n",
    "nest_asyncio.apply()\n",
    "import asyncio\n",
    "import timeit\n",
    "from autogen_agentchat.agents import AssistantAgent, UserProxyAgent\n",
    "from autogen_agentchat.teams import RoundRobinGroupChat\n",
    "from autogen_agentchat.conditions import MaxMessageTermination, TextMentionTermination\n",
    "from autogen_agentchat.tools import TeamTool\n",
    "# or import\n",
    "from autogen_core.models import ModelInfo\n",
    "import yaml\n",
    "\n",
    "# Token usage tracking\n",
    "from token_counting import (\n",
    "    wrap_chat_client_for_tokens,\n",
    "    print_token_usage_with_estimate,\n",
    "    log_token_usage,\n",
    ")\n",
    "\n",
    "from tools import (\n",
    "    create_chat_completion_client,\n",
    "    current_datetime_utc_tool,\n",
    "    adjust_properties_for_fixed_response,\n",
    "    get_tavily_search_tool,\n",
    "    get_attributes,\n",
    ")"
   ]
  },
  {
   "cell_type": "markdown",
   "id": "38c88307",
   "metadata": {},
   "source": [
    "#### Note: You need a tavily API key to use the web search tool!"
   ]
  },
  {
   "cell_type": "code",
   "execution_count": null,
   "id": "3b6c1917",
   "metadata": {},
   "outputs": [],
   "source": [
    "# load model info from resources.yaml\n",
    "with open(\"resources.yaml\", \"r\") as f:\n",
    "    resources = yaml.load(f, Loader=yaml.SafeLoader)\n",
    "\n",
    "# Check if web search is possible (i.e., if API key is set)\n",
    "ALLOW_WEB_SEARCH = os.getenv(\"TAVILY_API_KEY\", False)"
   ]
  },
  {
   "cell_type": "code",
   "execution_count": 3,
   "id": "07a55ad6",
   "metadata": {},
   "outputs": [],
   "source": [
    "# Prepare tools\n",
    "basic_tools = {current_datetime_utc_tool}\n",
    "web_search_tools = set()\n",
    "if ALLOW_WEB_SEARCH:\n",
    "    # web_search_tool = [ await get_rag_web_browser_tool() ]\n",
    "    web_search_tools = { await get_tavily_search_tool() }"
   ]
  },
  {
   "cell_type": "markdown",
   "id": "5375bd1f",
   "metadata": {},
   "source": [
    "Set the research topic\n",
    "----------------------"
   ]
  },
  {
   "cell_type": "code",
   "execution_count": 4,
   "id": "1be891ac",
   "metadata": {},
   "outputs": [],
   "source": [
    "# topic = \"Impacts of Model Context Protocol on Agentic AI\"\n",
    "# topic = \"What is Fraunhofer MEVIS?\"\n",
    "topic = \"What day and time is it in Berlin, Germany?\"\n",
    "# topic = \"What is the wheather like in Berlin, Germany currently?\"\n",
    "# topic = \"What has Fraunhofer MEVIS done in the context of thoracic imaging?\""
   ]
  },
  {
   "cell_type": "markdown",
   "id": "1d2fdaa3",
   "metadata": {},
   "source": [
    "Select Model and Agent Configuration\n",
    "-----------------------------"
   ]
  },
  {
   "cell_type": "code",
   "execution_count": 5,
   "id": "cce96c64",
   "metadata": {},
   "outputs": [
    {
     "name": "stdout",
     "output_type": "stream",
     "text": [
      "Using model: gpt-4.1-nano type: openai\n"
     ]
    }
   ],
   "source": [
    "# Use a GPT-4.1-Nano for cost control during testing, GPT-5.1-Nano for better but slower results, GPT-5-Mini for best results\n",
    "MODEL_NAME = \"GPT-4.1-Nano\"\n",
    "\n",
    "model = [\n",
    "    m for m in resources[\"models\"] if m.get(\"name\", \"\").lower() == MODEL_NAME.lower()\n",
    "][0]\n",
    "print(\"Using model:\", model[\"name\"], \"type:\", model[\"type\"])\n",
    "\n",
    "agentConfig = {\n",
    "    \"Researcher\": dict(system_message=\"Gather and summarize factual info, add important web references.\", tools=web_search_tools), \n",
    "    \"FactChecker\": dict(system_message=\"Use web search to verify facts and citations from the Researcher's response. For each found error, give a correct version and the web reference for verification.\", tools=web_search_tools), \n",
    "    \"Revisor\": dict(system_message=\"Use the fact checker's results to revise the Researcher's report. Only if there were no fact issues, just repeat the Researcher's response. In both cases, add the fact checker's citations.\"),\n",
    "    \"Critic\": dict(system_message=\"Critique clarity and logic.\"),\n",
    "    \"Summarizer\": dict(system_message=\"Apply critic result to generate an improved response to the initial user question.\"),# Include the most important references.\"),\n",
    "    \"Editor\": dict(system_message=\"Do some language polishing on the previous result to generate a final response to the initial question. Signal APPROVED when done.\"),\n",
    "}\n",
    "\n",
    "# For testing, we can fix an agent's response to a known answer\n",
    "# adjust_properties_for_fixed_response(agentConfig[\"Researcher\"], \"Fraunhofer MEVIS is a research institute in Frankfurt for biological weapons. It was founded in 1995. See https://www.mefis.fraunhofer.de/en.html for more information.\")"
   ]
  },
  {
   "cell_type": "code",
   "execution_count": null,
   "id": "b1e278d3",
   "metadata": {},
   "outputs": [],
   "source": [
    "# Now create model client with token tracking\n",
    "model_client = wrap_chat_client_for_tokens(create_chat_completion_client(model))\n",
    "\n",
    "agents = []  # start with a user proxy for the researcher\n",
    "\n",
    "for agent_type, props in agentConfig.items():\n",
    "    p = props.copy()\n",
    "    p.setdefault(\"tools\", set()).update(basic_tools)\n",
    "    p.setdefault(\"reflect_on_tool_use\", True)\n",
    "    agents.append(\n",
    "        AssistantAgent(\n",
    "            name=agent_type,\n",
    "            **p,\n",
    "            model_client=model_client,\n",
    "        )\n",
    "    )"
   ]
  },
  {
   "cell_type": "code",
   "execution_count": 7,
   "id": "bcf867c9",
   "metadata": {},
   "outputs": [],
   "source": [
    "# Set up termination conditions\n",
    "max_msgs = MaxMessageTermination(max_messages=20)\n",
    "text_term = TextMentionTermination(text=\"APPROVED\", sources=[\"Editor\"])\n",
    "termination = max_msgs | text_term\n",
    "\n",
    "# Create the team\n",
    "team = RoundRobinGroupChat(\n",
    "    participants=agents,\n",
    "    termination_condition=termination,\n",
    "    max_turns=len(agents) # we don't really want it to go round\n",
    ")"
   ]
  },
  {
   "cell_type": "code",
   "execution_count": 8,
   "id": "6085732d",
   "metadata": {},
   "outputs": [],
   "source": [
    "# Create the host agent with deep dive capabilities and the host agent\n",
    "deepdive_tool = TeamTool(team=team, name=\"DeepDive\", description=\"Collaborative multi-agent deep dive\")\n",
    "host = AssistantAgent(\n",
    "    name=\"Host\",\n",
    "    model_client=model_client,\n",
    "    tools=[deepdive_tool],\n",
    "    system_message=\"You have access to a DeepDive tool for in-depth research.\"\n",
    ")"
   ]
  },
  {
   "cell_type": "markdown",
   "id": "92697f14",
   "metadata": {},
   "source": [
    "Start the Deep Dive\n",
    "==================="
   ]
  },
  {
   "cell_type": "code",
   "execution_count": 9,
   "id": "6085732d",
   "metadata": {},
   "outputs": [
    {
     "name": "stdout",
     "output_type": "stream",
     "text": [
      "Estimated token usage -> prompt: 1448, completion: 1613, total: 3061 (method=tiktoken)\n",
      "Approximate cost for this run: $0.0004 USD (input: $0.0001, output: $0.0003)\n",
      "🔍 DeepDive result (took 9.98 sec.) resulted in 23 messages.\n"
     ]
    }
   ],
   "source": [
    "async def run_deepdive(topic: str):\n",
    "    start_time_s = timeit.default_timer()\n",
    "    result = await host.run(task=f\"Deep dive on: {topic}\")\n",
    "    # Try native usage first; fallback to estimation\n",
    "    print_token_usage_with_estimate(model_client, getattr(result, 'messages', None), agentConfig.keys(), model_info=model)\n",
    "    elapsed = timeit.default_timer()-start_time_s\n",
    "    print(f\"🔍 DeepDive result (took {elapsed:.2f} sec.) resulted in {len(result.messages)} messages.\")\n",
    "    return result  # Return the result for further exploration\n",
    "\n",
    "# Run the deep dive\n",
    "result = await run_deepdive(topic)"
   ]
  },
  {
   "cell_type": "markdown",
   "id": "4f53d535",
   "metadata": {},
   "source": [
    "Explore Results\n",
    "==============="
   ]
  },
  {
   "cell_type": "code",
   "execution_count": 10,
   "id": "5adad051",
   "metadata": {},
   "outputs": [
    {
     "name": "stdout",
     "output_type": "stream",
     "text": [
      "=== Token Usage Summary ===\n",
      "Estimated token usage -> prompt: 1448, completion: 1613, total: 3061 (method=tiktoken)\n",
      "Approximate cost for this run: $0.0004 USD (input: $0.0001, output: $0.0003)\n"
     ]
    }
   ],
   "source": [
    "# Display token usage after the deep dive\n",
    "print(\"=== Token Usage Summary ===\")\n",
    "print_token_usage_with_estimate(model_client, getattr(result, 'messages', None), model_info=model)"
   ]
  },
  {
   "cell_type": "code",
   "execution_count": null,
   "id": "3254dbe6",
   "metadata": {},
   "outputs": [
    {
     "name": "stdout",
     "output_type": "stream",
     "text": [
      "Result type: <class 'autogen_agentchat.base._task.TaskResult'>\n",
      "\n",
      "Result attributes:\n",
      "['construct', 'copy', 'dict', 'from_orm', 'json', 'messages', 'model_computed_fields', 'model_config', 'model_construct', 'model_copy', 'model_dump', 'model_dump_json', 'model_extra', 'model_fields', 'model_fields_set', 'model_json_schema', 'model_parametrized_name', 'model_post_init', 'model_rebuild', 'model_validate', 'model_validate_json', 'model_validate_strings', 'parse_file', 'parse_obj', 'parse_raw', 'schema', 'schema_json', 'stop_reason', 'update_forward_refs', 'validate']\n",
      "\n",
      "Message attributes:\n",
      "['construct', 'content', 'copy', 'created_at', 'dict', 'dump', 'from_orm', 'id', 'json', 'load', 'metadata', 'model_computed_fields', 'model_config', 'model_construct', 'model_copy', 'model_dump', 'model_dump_json', 'model_extra', 'model_fields', 'model_fields_set', 'model_json_schema', 'model_parametrized_name', 'model_post_init', 'model_rebuild', 'model_validate', 'model_validate_json', 'model_validate_strings', 'models_usage', 'parse_file', 'parse_obj', 'parse_raw', 'results', 'schema', 'schema_json', 'source', 'to_model_message', 'to_model_text', 'to_text', 'tool_calls', 'type', 'update_forward_refs', 'validate']\n",
      "0: TextMessage by user at 14:57:25.236, no tool involved\n",
      "Deep dive on: What day and time is it in Berlin, Germany?\n",
      "1: ToolCallRequestEvent by Host at 14:57:26.211, Tools: ['DeepDive']\n",
      "[FunctionCall(id='call_6BO6hE9c8YaotwiH4hiq9BHv', arguments='{\"task\":\"Determine the current date and time in Berlin, Germany.\"}', name='DeepDive')]\n",
      "2: TextMessage by user at 14:57:26.211, no tool involved\n",
      "Determine the current date and time in Berlin, Germany.\n",
      "3: ToolCallRequestEvent by Researcher at 14:57:27.063, Tools: ['current_datetime_utc_tool', 'current_datetime_utc_tool']\n",
      "[FunctionCall(id='call_JYQGo9CLcrVwXXBE0h9q1L9y', arguments='{}', name='current_datetime_utc_tool'), FunctionCall(id='call_1TWY2pwkHJXhkH039I78MfOv', arguments='{}', name='current_datetime_utc_tool')]\n",
      "4: ToolCallExecutionEvent by Researcher at 14:57:27.066, Tools: ['current_datetime_utc_tool', 'current_datetime_utc_tool']\n",
      "[FunctionExecutionResult(content='2025-09-17T14:57:27.065217', name='current_datetime_utc_tool', call_id='call_JYQGo9CLcrVwXXBE0h9q1L9y', is_error=False), FunctionExecutionResult(content='2025-09-17T14:57:27.065349', name='current_datetime_utc_tool', call_id='call_1TWY2pwkHJXhkH039I78MfOv', is_error=False)]\n",
      "5: TextMessage by Researcher at 14:57:28.206, no tool involved\n",
      "The current Coordinated Universal Time (UTC) is approximately 14:57 on September 17, 2025. \n",
      "\n",
      "Berlin, Germany, is in the Central European Time Zone (CET), which is usually UTC+1 during standard time and UTC+2 during daylight saving time. Since it is September, daylight saving time is still in effect, so Berlin is on Central European Summer Time (CEST), which is UTC+2.\n",
      "\n",
      "Therefore, the current local date and time in Berlin, Germany, is approximately **16:57 on September 17, 2025**.\n",
      "\n",
      "For real-time updates, you can also visit [Time and Date - Berlin](https://www.timeanddate.com/worldclock/germany/berlin).\n",
      "6: ToolCallRequestEvent by FactChecker at 14:57:28.786, Tools: ['current_datetime_utc_tool', 'current_datetime_utc_tool']\n",
      "[FunctionCall(id='call_8BJckuE8TiFP7pvC0LBmIR7b', arguments='{}', name='current_datetime_utc_tool'), FunctionCall(id='call_npvwQiDe1HvjI5V4JDd7GlY0', arguments='{}', name='current_datetime_utc_tool')]\n",
      "7: ToolCallExecutionEvent by FactChecker at 14:57:28.788, Tools: ['current_datetime_utc_tool', 'current_datetime_utc_tool']\n",
      "[FunctionExecutionResult(content='2025-09-17T14:57:28.787890', name='current_datetime_utc_tool', call_id='call_8BJckuE8TiFP7pvC0LBmIR7b', is_error=False), FunctionExecutionResult(content='2025-09-17T14:57:28.787329', name='current_datetime_utc_tool', call_id='call_npvwQiDe1HvjI5V4JDd7GlY0', is_error=False)]\n",
      "8: TextMessage by FactChecker at 14:57:29.895, no tool involved\n",
      "The current Coordinated Universal Time (UTC) is approximately 14:57 on September 17, 2025. Since Berlin is in the Central European Time Zone (CET) and observes daylight saving time (CEST) during September, it is UTC+2.\n",
      "\n",
      "Therefore, the current local time in Berlin, Germany, is approximately 16:57 on September 17, 2025.\n",
      "\n",
      "For real-time updates, you can visit [Time and Date - Berlin](https://www.timeanddate.com/worldclock/germany/berlin).\n",
      "9: ToolCallRequestEvent by Revisor at 14:57:30.419, Tools: ['current_datetime_utc_tool', 'current_datetime_utc_tool']\n",
      "[FunctionCall(id='call_xvHSgUPsXk7bZF5Cgz70KgFd', arguments='{}', name='current_datetime_utc_tool'), FunctionCall(id='call_zlinPc9JaMadDHe061jY1wD5', arguments='{}', name='current_datetime_utc_tool')]\n",
      "10: ToolCallExecutionEvent by Revisor at 14:57:30.421, Tools: ['current_datetime_utc_tool', 'current_datetime_utc_tool']\n",
      "[FunctionExecutionResult(content='2025-09-17T14:57:30.420247', name='current_datetime_utc_tool', call_id='call_xvHSgUPsXk7bZF5Cgz70KgFd', is_error=False), FunctionExecutionResult(content='2025-09-17T14:57:30.420319', name='current_datetime_utc_tool', call_id='call_zlinPc9JaMadDHe061jY1wD5', is_error=False)]\n",
      "11: TextMessage by Revisor at 14:57:31.531, no tool involved\n",
      "The current Coordinated Universal Time (UTC) is approximately 14:57 on September 17, 2025. Since Berlin, Germany, is in the Central European Time Zone (CET) and observes daylight saving time (CEST) during September, which is UTC+2, the correct local time in Berlin is approximately 16:57 on September 17, 2025.\n",
      "\n",
      "Your original response was accurate. For real-time updates, you can visit [Time and Date - Berlin](https://www.timeanddate.com/worldclock/germany/berlin).\n",
      "12: ToolCallRequestEvent by Critic at 14:57:32.115, Tools: ['current_datetime_utc_tool', 'current_datetime_utc_tool']\n",
      "[FunctionCall(id='call_xpvsupNrh2RRBjEjXlfrsrRZ', arguments='{}', name='current_datetime_utc_tool'), FunctionCall(id='call_Twp0cFE2H6bAn1mH3JvMnMkQ', arguments='{}', name='current_datetime_utc_tool')]\n",
      "13: ToolCallExecutionEvent by Critic at 14:57:32.117, Tools: ['current_datetime_utc_tool', 'current_datetime_utc_tool']\n",
      "[FunctionExecutionResult(content='2025-09-17T14:57:32.116863', name='current_datetime_utc_tool', call_id='call_xpvsupNrh2RRBjEjXlfrsrRZ', is_error=False), FunctionExecutionResult(content='2025-09-17T14:57:32.117061', name='current_datetime_utc_tool', call_id='call_Twp0cFE2H6bAn1mH3JvMnMkQ', is_error=False)]\n",
      "14: TextMessage by Critic at 14:57:32.872, no tool involved\n",
      "Based on the current Coordinated Universal Time (UTC) of approximately 14:57 on September 17, 2025, and considering that Berlin, Germany, observes daylight saving time (CEST) at this time, which is UTC+2, the local time in Berlin is approximately **16:57 on September 17, 2025**.\n",
      "\n",
      "Your original answer was accurate and clear.\n",
      "15: ToolCallRequestEvent by Summarizer at 14:57:33.369, Tools: ['current_datetime_utc_tool', 'current_datetime_utc_tool']\n",
      "[FunctionCall(id='call_PK1IJdhGXzzJQp3EaMqHamad', arguments='{}', name='current_datetime_utc_tool'), FunctionCall(id='call_4Hdo1WIjBqVK2EFMJrcyFo5H', arguments='{}', name='current_datetime_utc_tool')]\n",
      "16: ToolCallExecutionEvent by Summarizer at 14:57:33.372, Tools: ['current_datetime_utc_tool', 'current_datetime_utc_tool']\n",
      "[FunctionExecutionResult(content='2025-09-17T14:57:33.371766', name='current_datetime_utc_tool', call_id='call_PK1IJdhGXzzJQp3EaMqHamad', is_error=False), FunctionExecutionResult(content='2025-09-17T14:57:33.372075', name='current_datetime_utc_tool', call_id='call_4Hdo1WIjBqVK2EFMJrcyFo5H', is_error=False)]\n",
      "17: TextMessage by Summarizer at 14:57:34.077, no tool involved\n",
      "Based on the current Coordinated Universal Time (UTC) of approximately 14:57 on September 17, 2025, and considering that Berlin, Germany, observes daylight saving time (CEST) at this time, which is UTC+2, the local time in Berlin is approximately **16:57 on September 17, 2025**.\n",
      "18: ToolCallRequestEvent by Editor at 14:57:34.581, Tools: ['current_datetime_utc_tool', 'current_datetime_utc_tool']\n",
      "[FunctionCall(id='call_6KhDsdxFhK2egFSm6hvlHzBB', arguments='{}', name='current_datetime_utc_tool'), FunctionCall(id='call_Nequw7lqh8ov3VD2m8amKMZg', arguments='{}', name='current_datetime_utc_tool')]\n",
      "19: ToolCallExecutionEvent by Editor at 14:57:34.582, Tools: ['current_datetime_utc_tool', 'current_datetime_utc_tool']\n",
      "[FunctionExecutionResult(content='2025-09-17T14:57:34.582329', name='current_datetime_utc_tool', call_id='call_6KhDsdxFhK2egFSm6hvlHzBB', is_error=False), FunctionExecutionResult(content='2025-09-17T14:57:34.582282', name='current_datetime_utc_tool', call_id='call_Nequw7lqh8ov3VD2m8amKMZg', is_error=False)]\n",
      "20: TextMessage by Editor at 14:57:35.209, no tool involved\n",
      "The current Coordinated Universal Time (UTC) is approximately 14:57 on September 17, 2025. Given that Berlin, Germany, is on Central European Summer Time (CEST), which is UTC+2 during September, the local time in Berlin is approximately 16:57 on September 17, 2025.\n",
      "21: ToolCallExecutionEvent by Host at 14:57:35.211, Tools: ['DeepDive']\n",
      "[FunctionExecutionResult(content='Researcher: The current Coordinated Universal Time (UTC) is approximately 14:57 on September 17, 2025. \\n\\nBerlin, Germany, is in the Central European Time Zone (CET), which is usually UTC+1 during standard time and UTC+2 during daylight saving time. Since it is September, daylight saving time is still in effect, so Berlin is on Central European Summer Time (CEST), which is UTC+2.\\n\\nTherefore, the current local date and time in Berlin, Germany, is approximately **16:57 on September 17, 2025**.\\n\\nFor real-time updates, you can also visit [Time and Date - Berlin](https://www.timeanddate.com/worldclock/germany/berlin).\\n\\nFactChecker: The current Coordinated Universal Time (UTC) is approximately 14:57 on September 17, 2025. Since Berlin is in the Central European Time Zone (CET) and observes daylight saving time (CEST) during September, it is UTC+2.\\n\\nTherefore, the current local time in Berlin, Germany, is approximately 16:57 on September 17, 2025.\\n\\nFor real-time updates, you can visit [Time and Date - Berlin](https://www.timeanddate.com/worldclock/germany/berlin).\\n\\nRevisor: The current Coordinated Universal Time (UTC) is approximately 14:57 on September 17, 2025. Since Berlin, Germany, is in the Central European Time Zone (CET) and observes daylight saving time (CEST) during September, which is UTC+2, the correct local time in Berlin is approximately 16:57 on September 17, 2025.\\n\\nYour original response was accurate. For real-time updates, you can visit [Time and Date - Berlin](https://www.timeanddate.com/worldclock/germany/berlin).\\n\\nCritic: Based on the current Coordinated Universal Time (UTC) of approximately 14:57 on September 17, 2025, and considering that Berlin, Germany, observes daylight saving time (CEST) at this time, which is UTC+2, the local time in Berlin is approximately **16:57 on September 17, 2025**.\\n\\nYour original answer was accurate and clear.\\n\\nSummarizer: Based on the current Coordinated Universal Time (UTC) of approximately 14:57 on September 17, 2025, and considering that Berlin, Germany, observes daylight saving time (CEST) at this time, which is UTC+2, the local time in Berlin is approximately **16:57 on September 17, 2025**.\\n\\nEditor: The current Coordinated Universal Time (UTC) is approximately 14:57 on September 17, 2025. Given that Berlin, Germany, is on Central European Summer Time (CEST), which is UTC+2 during September, the local time in Berlin is approximately 16:57 on September 17, 2025.', name='DeepDive', call_id='call_6BO6hE9c8YaotwiH4hiq9BHv', is_error=False)]\n",
      "22: ToolCallSummaryMessage by Host at 14:57:35.211, Tools: [], tool_calls: [FunctionCall(id='call_6BO6hE9c8YaotwiH4hiq9BHv', arguments='{\"task\":\"Determine the current date and time in Berlin, Germany.\"}', name='DeepDive')]\n",
      "Researcher: The current Coordinated Universal Time (UTC) is approximately 14:57 on September 17, 2025. \n",
      "\n",
      "Berlin, Germany, is in the Central European Time Zone (CET), which is usually UTC+1 during standard time and UTC+2 during daylight saving time. Since it is September, daylight saving time is still in effect, so Berlin is on Central European Summer Time (CEST), which is UTC+2.\n",
      "\n",
      "Therefore, the current local date and time in Berlin, Germany, is approximately **16:57 on September 17, 2025**.\n",
      "\n",
      "For real-time updates, you can also visit [Time and Date - Berlin](https://www.timeanddate.com/worldclock/germany/berlin).\n",
      "\n",
      "FactChecker: The current Coordinated Universal Time (UTC) is approximately 14:57 on September 17, 2025. Since Berlin is in the Central European Time Zone (CET) and observes daylight saving time (CEST) during September, it is UTC+2.\n",
      "\n",
      "Therefore, the current local time in Berlin, Germany, is approximately 16:57 on September 17, 2025.\n",
      "\n",
      "For real-time updates, you can visit [Time and Date - Berlin](https://www.timeanddate.com/worldclock/germany/berlin).\n",
      "\n",
      "Revisor: The current Coordinated Universal Time (UTC) is approximately 14:57 on September 17, 2025. Since Berlin, Germany, is in the Central European Time Zone (CET) and observes daylight saving time (CEST) during September, which is UTC+2, the correct local time in Berlin is approximately 16:57 on September 17, 2025.\n",
      "\n",
      "Your original response was accurate. For real-time updates, you can visit [Time and Date - Berlin](https://www.timeanddate.com/worldclock/germany/berlin).\n",
      "\n",
      "Critic: Based on the current Coordinated Universal Time (UTC) of approximately 14:57 on September 17, 2025, and considering that Berlin, Germany, observes daylight saving time (CEST) at this time, which is UTC+2, the local time in Berlin is approximately **16:57 on September 17, 2025**.\n",
      "\n",
      "Your original answer was accurate and clear.\n",
      "\n",
      "Summarizer: Based on the current Coordinated Universal Time (UTC) of approximately 14:57 on September 17, 2025, and considering that Berlin, Germany, observes daylight saving time (CEST) at this time, which is UTC+2, the local time in Berlin is approximately **16:57 on September 17, 2025**.\n",
      "\n",
      "Editor: The current Coordinated Universal Time (UTC) is approximately 14:57 on September 17, 2025. Given that Berlin, Germany, is on Central European Summer Time (CEST), which is UTC+2 during September, the local time in Berlin is approximately 16:57 on September 17, 2025.\n"
     ]
    }
   ],
   "source": [
    "# Display the full result structure\n",
    "print(\"Result type:\", type(result))\n",
    "\n",
    "print(\"\\nResult attributes:\")\n",
    "print(get_attributes(result))\n",
    "print(\"\\nMessage attributes:\")\n",
    "print(get_attributes(result.messages[-1]))\n",
    "\n",
    "for i, msg in enumerate(result.messages):\n",
    "    tool_info = f\"Tools: {[c.name for c in msg.content if hasattr(c, 'name')]}\" if \"tool\" in msg.type.lower() else \"no tool involved\"\n",
    "    if hasattr(msg, 'tool_calls'):\n",
    "        tool_info += f\", tool_calls: {getattr(msg, 'tool_calls', None)}\"\n",
    "    ts = msg.created_at.strftime(\"%H:%M:%S.%f\")[:-3] if getattr(msg, \"created_at\", None) else \"(unknown)\"\n",
    "    #print(\"\")\n",
    "    print(f\"{i}: {msg.type} by {msg.source} at {ts}, {tool_info}\")\n",
    "    #print(msg.content)"
   ]
  },
  {
   "cell_type": "code",
   "execution_count": 12,
   "id": "35292aa2",
   "metadata": {},
   "outputs": [],
   "source": [
    "# Clean up resources\n",
    "await model_client.close()"
   ]
  },
  {
   "cell_type": "code",
   "execution_count": 13,
   "id": "14cca613",
   "metadata": {},
   "outputs": [
    {
     "name": "stdout",
     "output_type": "stream",
     "text": [
      "Stop reason: None\n",
      "Message Sequence:\n",
      " - Researcher\n",
      " - FactChecker\n",
      " - Revisor\n",
      " - Critic\n",
      " - Summarizer\n",
      " - Editor\n",
      "\n",
      " Researcher: The current Coordinated Universal Time (UTC) is approximately 14:57 on September 17, 2025. \n",
      "\n",
      "Berlin, Germany, is in the Central European Time Zone (CET), which is usually UTC+1 during standard time and UTC+2 during daylight saving time. Since it is September, daylight saving time is still in effect, so Berlin is on Central European Summer Time (CEST), which is UTC+2.\n",
      "\n",
      "Therefore, the current local date and time in Berlin, Germany, is approximately **16:57 on September 17, 2025**.\n",
      "\n",
      "For real-time updates, you can also visit [Time and Date - Berlin](https://www.timeanddate.com/worldclock/germany/berlin).\n",
      "\n",
      "FactChecker: The current Coordinated Universal Time (UTC) is approximately 14:57 on September 17, 2025. Since Berlin is in the Central European Time Zone (CET) and observes daylight saving time (CEST) during September, it is UTC+2.\n",
      "\n",
      "Therefore, the current local time in Berlin, Germany, is approximately 16:57 on September 17, 2025.\n",
      "\n",
      "For real-time updates, you can visit [Time and Date - Berlin](https://www.timeanddate.com/worldclock/germany/berlin).\n",
      "\n",
      "Revisor: The current Coordinated Universal Time (UTC) is approximately 14:57 on September 17, 2025. Since Berlin, Germany, is in the Central European Time Zone (CET) and observes daylight saving time (CEST) during September, which is UTC+2, the correct local time in Berlin is approximately 16:57 on September 17, 2025.\n",
      "\n",
      "Your original response was accurate. For real-time updates, you can visit [Time and Date - Berlin](https://www.timeanddate.com/worldclock/germany/berlin).\n",
      "\n",
      "Critic: Based on the current Coordinated Universal Time (UTC) of approximately 14:57 on September 17, 2025, and considering that Berlin, Germany, observes daylight saving time (CEST) at this time, which is UTC+2, the local time in Berlin is approximately **16:57 on September 17, 2025**.\n",
      "\n",
      "Your original answer was accurate and clear.\n",
      "\n",
      "Summarizer: Based on the current Coordinated Universal Time (UTC) of approximately 14:57 on September 17, 2025, and considering that Berlin, Germany, observes daylight saving time (CEST) at this time, which is UTC+2, the local time in Berlin is approximately **16:57 on September 17, 2025**.\n",
      "\n",
      "Editor: The current Coordinated Universal Time (UTC) is approximately 14:57 on September 17, 2025. Given that Berlin, Germany, is on Central European Summer Time (CEST), which is UTC+2 during September, the local time in Berlin is approximately 16:57 on September 17, 2025.\n"
     ]
    }
   ],
   "source": [
    "import re\n",
    "from autogen_agentchat.messages import BaseTextChatMessage\n",
    "\n",
    "print(\"Stop reason:\", result.stop_reason)\n",
    "assert isinstance(result.messages[-1], BaseTextChatMessage)\n",
    "last_message = result.messages[-1].content\n",
    "\n",
    "print(\"Message Sequence:\")\n",
    "agent_names = list(agentConfig.keys())\n",
    "pattern = re.compile(r'(' + '|'.join(re.escape(n) for n in agent_names) + r'):')\n",
    "for match in pattern.finditer(last_message):\n",
    "    print(\" -\", match.group(1))\n",
    "\n",
    "print(\"\\n\", last_message)  # Print the content of the last message"
   ]
  },
  {
   "cell_type": "code",
   "execution_count": 14,
   "id": "2d6b856b",
   "metadata": {},
   "outputs": [
    {
     "name": "stdout",
     "output_type": "stream",
     "text": [
      "Logged token usage to token_usage_log.csv: {'timestamp': '2025-09-17T14:57:35.280870+00:00', 'topic': 'What day and time is it in Berlin, Germany?', 'prompt': 1448, 'completion': 1613, 'total': 3061, 'method': 'tiktoken', 'cost_usd': 0.000395, 'input_cost_usd': 7.2e-05, 'output_cost_usd': 0.000323}\n"
     ]
    },
    {
     "data": {
      "text/plain": [
       "{'timestamp': '2025-09-17T14:57:35.280870+00:00',\n",
       " 'topic': 'What day and time is it in Berlin, Germany?',\n",
       " 'prompt': 1448,\n",
       " 'completion': 1613,\n",
       " 'total': 3061,\n",
       " 'method': 'tiktoken',\n",
       " 'cost_usd': 0.000395,\n",
       " 'input_cost_usd': 7.2e-05,\n",
       " 'output_cost_usd': 0.000323}"
      ]
     },
     "execution_count": 14,
     "metadata": {},
     "output_type": "execute_result"
    }
   ],
   "source": [
    "# Optional: append token usage (estimated or native) to a CSV log for tracking across runs\n",
    "# log_token_usage imported from token_counting\n",
    "log_token_usage(topic, model_client, getattr(result, 'messages', None), agentConfig.keys(), model_info=model)"
   ]
  },
  {
   "cell_type": "code",
   "execution_count": null,
   "id": "9f58aea6",
   "metadata": {},
   "outputs": [],
   "source": []
  }
 ],
 "metadata": {
  "kernelspec": {
   "display_name": "research-assistant",
   "language": "python",
   "name": "python3"
  },
  "language_info": {
   "codemirror_mode": {
    "name": "ipython",
    "version": 3
   },
   "file_extension": ".py",
   "mimetype": "text/x-python",
   "name": "python",
   "nbconvert_exporter": "python",
   "pygments_lexer": "ipython3",
   "version": "3.13.7"
  }
 },
 "nbformat": 4,
 "nbformat_minor": 5
}
